{
  "nbformat": 4,
  "nbformat_minor": 0,
  "metadata": {
    "colab": {
      "name": "Evaluated Exercise II B s0572034.ipynb",
      "provenance": [],
      "collapsed_sections": [],
      "toc_visible": true,
      "authorship_tag": "ABX9TyMx81PwtK0pzNN045omCkfY",
      "include_colab_link": true
    },
    "kernelspec": {
      "name": "python3",
      "display_name": "Python 3"
    }
  },
  "cells": [
    {
      "cell_type": "markdown",
      "metadata": {
        "id": "view-in-github",
        "colab_type": "text"
      },
      "source": [
        "<a href=\"https://colab.research.google.com/github/jandroi/3_2_BD/blob/main/Evaluated_Exercise_II_B_s0572034.ipynb\" target=\"_parent\"><img src=\"https://colab.research.google.com/assets/colab-badge.svg\" alt=\"Open In Colab\"/></a>"
      ]
    },
    {
      "cell_type": "markdown",
      "metadata": {
        "id": "yUWQSIwYKUv-"
      },
      "source": [
        "# Evaluated Exercise Part 2 – SciKit-Stack and Deep Learning**\r\n",
        "\r\n",
        "## Task 4: Deep Learning – Run a Deep Learning Model: Build a Loan Amount Calculator using Multiple Linear Regression [10%]\r\n",
        "\r\n",
        "Use the diamonds dataset from Task 3 to perform a Deep Learning (Regression) model. Target variable is again price.\r\n",
        "\r\n",
        "Please describe all steps. Parameters to evaluate are MAE and MAPE. Please report results for test and training dataset! Packages: Tensorflow and Keras\r\n",
        "\r\n",
        "-----"
      ]
    },
    {
      "cell_type": "markdown",
      "metadata": {
        "id": "5FYM4Mo9KUeF"
      },
      "source": [
        ""
      ]
    },
    {
      "cell_type": "code",
      "metadata": {
        "id": "AqY9ENqGJu0P"
      },
      "source": [
        "import pandas as pd\r\n",
        "import numpy as np\r\n",
        "\r\n",
        "# Data Preparation \r\n",
        "from keras.utils import to_categorical\r\n",
        "# StandardScaler\r\n",
        "from sklearn.preprocessing import StandardScaler\r\n",
        "### Train / Test Split\r\n",
        "from sklearn.model_selection import train_test_split\r\n",
        "\r\n",
        "## \r\n",
        "from keras.layers import Dense\r\n",
        "from keras.models import Sequential\r\n"
      ],
      "execution_count": 15,
      "outputs": []
    },
    {
      "cell_type": "code",
      "metadata": {
        "id": "vdiSjk0mKTv-"
      },
      "source": [
        "# Data import\r\n",
        "\r\n",
        "url=\"https://raw.githubusercontent.com/tidyverse/ggplot2/master/data-raw/diamonds.csv\"\r\n",
        "df =pd.read_csv(url)"
      ],
      "execution_count": 16,
      "outputs": []
    },
    {
      "cell_type": "markdown",
      "metadata": {
        "id": "uEbqLh33Kp8e"
      },
      "source": [
        "## Data Understanding\r\n",
        "\r\n",
        "*Same as Exercise II A*\r\n"
      ]
    },
    {
      "cell_type": "markdown",
      "metadata": {
        "id": "rMAXLsCTKTyH"
      },
      "source": [
        "https://colab.research.google.com/drive/1jLPeK0Fdru6QMtOpkd0cbmJ2t5qxeNvu?authuser=3#scrollTo=uEbqLh33Kp8e&line=3&uniqifier=1"
      ]
    },
    {
      "cell_type": "markdown",
      "metadata": {
        "id": "tBSBM0uZKT0R"
      },
      "source": [
        "## Data Preparation \r\n",
        "  (please change the order of the tasks as needed)\r\n",
        "\r\n",
        "- Missing Values\r\n",
        "- Transformation of all categorical variables\r\n",
        "- Split into Test and Training Dataset\r\n",
        "- Standardization\r\n",
        "- …"
      ]
    },
    {
      "cell_type": "markdown",
      "metadata": {
        "id": "uZiNkW22k8LB"
      },
      "source": [
        "### L"
      ]
    },
    {
      "cell_type": "code",
      "metadata": {
        "id": "euCqhMoxk5sm"
      },
      "source": [
        "# First we remove Depth and Table which have no direct correlation\r\n",
        "\r\n",
        "df = df.drop(['depth','table'], axis = 1)\r\n",
        "df.head()\r\n",
        "\r\n",
        "# There are some missing values for the dimensinos x y z\r\n",
        "# We are dropping these observations since there can be a dimension of 0 but not 3 of them\r\n",
        "\r\n",
        "x = list(df[(df['x']==0) & (df['y']==0) & (df['z']==0)].index)\r\n",
        "x\r\n",
        "\r\n",
        "# Exclude them from dataframe\r\n",
        "df = df[~df.index.isin(x)]"
      ],
      "execution_count": 17,
      "outputs": []
    },
    {
      "cell_type": "code",
      "metadata": {
        "id": "HTXyG0yBKT2l",
        "colab": {
          "base_uri": "https://localhost:8080/",
          "height": 226
        },
        "outputId": "068b2f10-46c7-47a5-f997-fc82d12d0973"
      },
      "source": [
        "\r\n",
        "\r\n",
        "# Transforming categorical variables: \r\n",
        "cut_df = pd.get_dummies(df['cut'], prefix='cut')\r\n",
        "color_df = pd.get_dummies(df['color'], prefix='color')\r\n",
        "clarity_df = cut_df = pd.get_dummies(df['clarity'], prefix='clarity')\r\n",
        "\r\n",
        "df_metric = df.drop(['cut', 'color','clarity'], axis=1) \r\n",
        "\r\n",
        "df_metric = pd.concat([df_metric, cut_df, color_df, clarity_df], axis =1)\r\n",
        "df_metric.head()\r\n",
        "\r\n"
      ],
      "execution_count": 18,
      "outputs": [
        {
          "output_type": "execute_result",
          "data": {
            "text/html": [
              "<div>\n",
              "<style scoped>\n",
              "    .dataframe tbody tr th:only-of-type {\n",
              "        vertical-align: middle;\n",
              "    }\n",
              "\n",
              "    .dataframe tbody tr th {\n",
              "        vertical-align: top;\n",
              "    }\n",
              "\n",
              "    .dataframe thead th {\n",
              "        text-align: right;\n",
              "    }\n",
              "</style>\n",
              "<table border=\"1\" class=\"dataframe\">\n",
              "  <thead>\n",
              "    <tr style=\"text-align: right;\">\n",
              "      <th></th>\n",
              "      <th>carat</th>\n",
              "      <th>price</th>\n",
              "      <th>x</th>\n",
              "      <th>y</th>\n",
              "      <th>z</th>\n",
              "      <th>clarity_I1</th>\n",
              "      <th>clarity_IF</th>\n",
              "      <th>clarity_SI1</th>\n",
              "      <th>clarity_SI2</th>\n",
              "      <th>clarity_VS1</th>\n",
              "      <th>clarity_VS2</th>\n",
              "      <th>clarity_VVS1</th>\n",
              "      <th>clarity_VVS2</th>\n",
              "      <th>color_D</th>\n",
              "      <th>color_E</th>\n",
              "      <th>color_F</th>\n",
              "      <th>color_G</th>\n",
              "      <th>color_H</th>\n",
              "      <th>color_I</th>\n",
              "      <th>color_J</th>\n",
              "      <th>clarity_I1</th>\n",
              "      <th>clarity_IF</th>\n",
              "      <th>clarity_SI1</th>\n",
              "      <th>clarity_SI2</th>\n",
              "      <th>clarity_VS1</th>\n",
              "      <th>clarity_VS2</th>\n",
              "      <th>clarity_VVS1</th>\n",
              "      <th>clarity_VVS2</th>\n",
              "    </tr>\n",
              "  </thead>\n",
              "  <tbody>\n",
              "    <tr>\n",
              "      <th>0</th>\n",
              "      <td>0.23</td>\n",
              "      <td>326</td>\n",
              "      <td>3.95</td>\n",
              "      <td>3.98</td>\n",
              "      <td>2.43</td>\n",
              "      <td>0</td>\n",
              "      <td>0</td>\n",
              "      <td>0</td>\n",
              "      <td>1</td>\n",
              "      <td>0</td>\n",
              "      <td>0</td>\n",
              "      <td>0</td>\n",
              "      <td>0</td>\n",
              "      <td>0</td>\n",
              "      <td>1</td>\n",
              "      <td>0</td>\n",
              "      <td>0</td>\n",
              "      <td>0</td>\n",
              "      <td>0</td>\n",
              "      <td>0</td>\n",
              "      <td>0</td>\n",
              "      <td>0</td>\n",
              "      <td>0</td>\n",
              "      <td>1</td>\n",
              "      <td>0</td>\n",
              "      <td>0</td>\n",
              "      <td>0</td>\n",
              "      <td>0</td>\n",
              "    </tr>\n",
              "    <tr>\n",
              "      <th>1</th>\n",
              "      <td>0.21</td>\n",
              "      <td>326</td>\n",
              "      <td>3.89</td>\n",
              "      <td>3.84</td>\n",
              "      <td>2.31</td>\n",
              "      <td>0</td>\n",
              "      <td>0</td>\n",
              "      <td>1</td>\n",
              "      <td>0</td>\n",
              "      <td>0</td>\n",
              "      <td>0</td>\n",
              "      <td>0</td>\n",
              "      <td>0</td>\n",
              "      <td>0</td>\n",
              "      <td>1</td>\n",
              "      <td>0</td>\n",
              "      <td>0</td>\n",
              "      <td>0</td>\n",
              "      <td>0</td>\n",
              "      <td>0</td>\n",
              "      <td>0</td>\n",
              "      <td>0</td>\n",
              "      <td>1</td>\n",
              "      <td>0</td>\n",
              "      <td>0</td>\n",
              "      <td>0</td>\n",
              "      <td>0</td>\n",
              "      <td>0</td>\n",
              "    </tr>\n",
              "    <tr>\n",
              "      <th>2</th>\n",
              "      <td>0.23</td>\n",
              "      <td>327</td>\n",
              "      <td>4.05</td>\n",
              "      <td>4.07</td>\n",
              "      <td>2.31</td>\n",
              "      <td>0</td>\n",
              "      <td>0</td>\n",
              "      <td>0</td>\n",
              "      <td>0</td>\n",
              "      <td>1</td>\n",
              "      <td>0</td>\n",
              "      <td>0</td>\n",
              "      <td>0</td>\n",
              "      <td>0</td>\n",
              "      <td>1</td>\n",
              "      <td>0</td>\n",
              "      <td>0</td>\n",
              "      <td>0</td>\n",
              "      <td>0</td>\n",
              "      <td>0</td>\n",
              "      <td>0</td>\n",
              "      <td>0</td>\n",
              "      <td>0</td>\n",
              "      <td>0</td>\n",
              "      <td>1</td>\n",
              "      <td>0</td>\n",
              "      <td>0</td>\n",
              "      <td>0</td>\n",
              "    </tr>\n",
              "    <tr>\n",
              "      <th>3</th>\n",
              "      <td>0.29</td>\n",
              "      <td>334</td>\n",
              "      <td>4.20</td>\n",
              "      <td>4.23</td>\n",
              "      <td>2.63</td>\n",
              "      <td>0</td>\n",
              "      <td>0</td>\n",
              "      <td>0</td>\n",
              "      <td>0</td>\n",
              "      <td>0</td>\n",
              "      <td>1</td>\n",
              "      <td>0</td>\n",
              "      <td>0</td>\n",
              "      <td>0</td>\n",
              "      <td>0</td>\n",
              "      <td>0</td>\n",
              "      <td>0</td>\n",
              "      <td>0</td>\n",
              "      <td>1</td>\n",
              "      <td>0</td>\n",
              "      <td>0</td>\n",
              "      <td>0</td>\n",
              "      <td>0</td>\n",
              "      <td>0</td>\n",
              "      <td>0</td>\n",
              "      <td>1</td>\n",
              "      <td>0</td>\n",
              "      <td>0</td>\n",
              "    </tr>\n",
              "    <tr>\n",
              "      <th>4</th>\n",
              "      <td>0.31</td>\n",
              "      <td>335</td>\n",
              "      <td>4.34</td>\n",
              "      <td>4.35</td>\n",
              "      <td>2.75</td>\n",
              "      <td>0</td>\n",
              "      <td>0</td>\n",
              "      <td>0</td>\n",
              "      <td>1</td>\n",
              "      <td>0</td>\n",
              "      <td>0</td>\n",
              "      <td>0</td>\n",
              "      <td>0</td>\n",
              "      <td>0</td>\n",
              "      <td>0</td>\n",
              "      <td>0</td>\n",
              "      <td>0</td>\n",
              "      <td>0</td>\n",
              "      <td>0</td>\n",
              "      <td>1</td>\n",
              "      <td>0</td>\n",
              "      <td>0</td>\n",
              "      <td>0</td>\n",
              "      <td>1</td>\n",
              "      <td>0</td>\n",
              "      <td>0</td>\n",
              "      <td>0</td>\n",
              "      <td>0</td>\n",
              "    </tr>\n",
              "  </tbody>\n",
              "</table>\n",
              "</div>"
            ],
            "text/plain": [
              "   carat  price     x  ...  clarity_VS2  clarity_VVS1  clarity_VVS2\n",
              "0   0.23    326  3.95  ...            0             0             0\n",
              "1   0.21    326  3.89  ...            0             0             0\n",
              "2   0.23    327  4.05  ...            0             0             0\n",
              "3   0.29    334  4.20  ...            1             0             0\n",
              "4   0.31    335  4.34  ...            0             0             0\n",
              "\n",
              "[5 rows x 28 columns]"
            ]
          },
          "metadata": {
            "tags": []
          },
          "execution_count": 18
        }
      ]
    },
    {
      "cell_type": "code",
      "metadata": {
        "id": "2AWqxHtqlF8Q"
      },
      "source": [
        "# Train test split\r\n",
        "#X = df.drop('price', axis=1)\r\n",
        "X= df_metric.drop(['price'], axis=1).values\r\n",
        "y = df_metric['price'].values"
      ],
      "execution_count": 19,
      "outputs": []
    },
    {
      "cell_type": "code",
      "metadata": {
        "id": "t6oYGC0qleC9"
      },
      "source": [
        "X_train, X_test, y_train, y_test = train_test_split(X,y, train_size=.7, random_state=42)"
      ],
      "execution_count": 20,
      "outputs": []
    },
    {
      "cell_type": "code",
      "metadata": {
        "id": "7rzJinQKlezG"
      },
      "source": [
        "# Scaling Variables\r\n",
        "sc = StandardScaler()\r\n",
        "sc.fit(X_train,y_train)\r\n",
        "\r\n",
        "X_train_sc = sc.transform(X_train)\r\n",
        "X_test_sc = sc.transform(X_test)\r\n"
      ],
      "execution_count": 21,
      "outputs": []
    },
    {
      "cell_type": "markdown",
      "metadata": {
        "id": "Ps8lwutTK_tD"
      },
      "source": [
        "## Modeling\r\n",
        "- Run a simple Multiple Linear Regression Model using Tensorflow/Keras!\r\n",
        "- Run a Multiple Linear Regression Deep Learning Model (experiment with a few layers) using Tensorflow/Keras!"
      ]
    },
    {
      "cell_type": "markdown",
      "metadata": {
        "id": "KCbKJrvjwvjA"
      },
      "source": [
        "### Simple Multiple Linear Regression"
      ]
    },
    {
      "cell_type": "code",
      "metadata": {
        "id": "lj2F4i4_KT48"
      },
      "source": [
        "n_cols = X_train.shape[1]"
      ],
      "execution_count": 22,
      "outputs": []
    },
    {
      "cell_type": "code",
      "metadata": {
        "id": "p5auvcG7KT6x"
      },
      "source": [
        "model = Sequential()\r\n",
        "\r\n",
        "model.add(Dense(100, activation = 'relu', input_shape = (n_cols,)))\r\n",
        "\r\n",
        "# One output layer\r\n",
        "model.add(Dense(1, activation = 'relu'))"
      ],
      "execution_count": 23,
      "outputs": []
    },
    {
      "cell_type": "code",
      "metadata": {
        "id": "GdzsYI_apY9X"
      },
      "source": [
        "model.compile(optimizer=\"rmsprop\", loss=\"mean_squared_error\", metrics=['mae','mape'])"
      ],
      "execution_count": 24,
      "outputs": []
    },
    {
      "cell_type": "code",
      "metadata": {
        "id": "eZyxaP6fpqtA",
        "colab": {
          "base_uri": "https://localhost:8080/"
        },
        "outputId": "70afd0ec-ac24-4f79-e78f-da8b3db7394e"
      },
      "source": [
        "model.fit(X_train_sc, y_train,epochs = 20, batch_size = 128)"
      ],
      "execution_count": 25,
      "outputs": [
        {
          "output_type": "stream",
          "text": [
            "Epoch 1/20\n",
            "295/295 [==============================] - 2s 4ms/step - loss: 27444595.5541 - mae: 3599.0065 - mape: 90.0414\n",
            "Epoch 2/20\n",
            "295/295 [==============================] - 1s 4ms/step - loss: 3395599.2500 - mae: 1031.5196 - mape: 32.6465\n",
            "Epoch 3/20\n",
            "295/295 [==============================] - 1s 4ms/step - loss: 1130601.5232 - mae: 591.9535 - mape: 25.1479\n",
            "Epoch 4/20\n",
            "295/295 [==============================] - 1s 4ms/step - loss: 1037015.7200 - mae: 478.9093 - mape: 16.4456\n",
            "Epoch 5/20\n",
            "295/295 [==============================] - 1s 4ms/step - loss: 599911.5775 - mae: 411.6069 - mape: 12.3729\n",
            "Epoch 6/20\n",
            "295/295 [==============================] - 1s 4ms/step - loss: 678643.0383 - mae: 396.8584 - mape: 11.2934\n",
            "Epoch 7/20\n",
            "295/295 [==============================] - 1s 4ms/step - loss: 661687.3399 - mae: 381.8867 - mape: 11.0538\n",
            "Epoch 8/20\n",
            "295/295 [==============================] - 1s 4ms/step - loss: 747630.2209 - mae: 381.1109 - mape: 11.0053\n",
            "Epoch 9/20\n",
            "295/295 [==============================] - 1s 4ms/step - loss: 822117.7765 - mae: 374.4116 - mape: 10.8680\n",
            "Epoch 10/20\n",
            "295/295 [==============================] - 1s 4ms/step - loss: 875724.2978 - mae: 370.8331 - mape: 10.6912\n",
            "Epoch 11/20\n",
            "295/295 [==============================] - 1s 4ms/step - loss: 935702.0746 - mae: 364.9827 - mape: 10.5031\n",
            "Epoch 12/20\n",
            "295/295 [==============================] - 1s 4ms/step - loss: 611791.6015 - mae: 360.9647 - mape: 10.2487\n",
            "Epoch 13/20\n",
            "295/295 [==============================] - 1s 4ms/step - loss: 433353.1160 - mae: 344.0518 - mape: 9.9428\n",
            "Epoch 14/20\n",
            "295/295 [==============================] - 1s 4ms/step - loss: 506929.0138 - mae: 348.7847 - mape: 9.9536\n",
            "Epoch 15/20\n",
            "295/295 [==============================] - 1s 4ms/step - loss: 797309.7102 - mae: 355.0275 - mape: 9.8793\n",
            "Epoch 16/20\n",
            "295/295 [==============================] - 1s 4ms/step - loss: 444799.9732 - mae: 350.3332 - mape: 9.7683\n",
            "Epoch 17/20\n",
            "295/295 [==============================] - 1s 4ms/step - loss: 474333.6314 - mae: 345.3014 - mape: 9.6572\n",
            "Epoch 18/20\n",
            "295/295 [==============================] - 1s 4ms/step - loss: 676468.0127 - mae: 348.6913 - mape: 9.6916\n",
            "Epoch 19/20\n",
            "295/295 [==============================] - 1s 4ms/step - loss: 1379683.0175 - mae: 356.6761 - mape: 9.7006\n",
            "Epoch 20/20\n",
            "295/295 [==============================] - 1s 4ms/step - loss: 702618.5725 - mae: 345.4123 - mape: 9.6694\n"
          ],
          "name": "stdout"
        },
        {
          "output_type": "execute_result",
          "data": {
            "text/plain": [
              "<tensorflow.python.keras.callbacks.History at 0x7f0a0d72c048>"
            ]
          },
          "metadata": {
            "tags": []
          },
          "execution_count": 25
        }
      ]
    },
    {
      "cell_type": "code",
      "metadata": {
        "id": "n7bcatVUpvm_"
      },
      "source": [
        "y_pred = model.predict(X_test_sc)"
      ],
      "execution_count": 26,
      "outputs": []
    },
    {
      "cell_type": "code",
      "metadata": {
        "id": "dpE_ZguEp-n3",
        "colab": {
          "base_uri": "https://localhost:8080/"
        },
        "outputId": "cd5d661b-9724-4302-e593-249c210621c4"
      },
      "source": [
        "score = model.evaluate(X_test_sc,y_test, batch_size=32)"
      ],
      "execution_count": 27,
      "outputs": [
        {
          "output_type": "stream",
          "text": [
            "506/506 [==============================] - 1s 1ms/step - loss: 631250.2500 - mae: 337.2850 - mape: 10.0353\n"
          ],
          "name": "stdout"
        }
      ]
    },
    {
      "cell_type": "markdown",
      "metadata": {
        "id": "kE_iMu9Awg7P"
      },
      "source": [
        "### Multiple Regression\r\n"
      ]
    },
    {
      "cell_type": "code",
      "metadata": {
        "id": "Prvk2NrrqBU_"
      },
      "source": [
        "model = Sequential()\r\n",
        "\r\n",
        "model.add(Dense(500, activation = 'relu', input_shape = (n_cols,)))\r\n",
        "model.add(Dense(250, activation = 'relu'))\r\n",
        "model.add(Dense(100, activation = 'relu'))\r\n",
        "model.add(Dense(50, activation = 'relu'))\r\n",
        "\r\n",
        "# One output layer\r\n",
        "model.add(Dense(1, activation = 'relu'))"
      ],
      "execution_count": 28,
      "outputs": []
    },
    {
      "cell_type": "code",
      "metadata": {
        "colab": {
          "base_uri": "https://localhost:8080/"
        },
        "id": "09n4fy0GwWIy",
        "outputId": "7a9c5dad-f101-43c6-e1a1-17f8507aa4b9"
      },
      "source": [
        "model.compile(optimizer=\"rmsprop\", loss=\"mean_squared_error\", metrics=['mae','mape'])\r\n",
        "model.fit(X_train_sc, y_train,epochs = 20, batch_size = 128)"
      ],
      "execution_count": 29,
      "outputs": [
        {
          "output_type": "stream",
          "text": [
            "Epoch 1/20\n",
            "295/295 [==============================] - 3s 7ms/step - loss: 11443268.0625 - mae: 1829.2514 - mape: 50.5378\n",
            "Epoch 2/20\n",
            "295/295 [==============================] - 2s 7ms/step - loss: 782876.6939 - mae: 401.2161 - mape: 11.3808\n",
            "Epoch 3/20\n",
            "295/295 [==============================] - 2s 7ms/step - loss: 717307.3495 - mae: 376.7783 - mape: 10.8762\n",
            "Epoch 4/20\n",
            "295/295 [==============================] - 2s 7ms/step - loss: 849718.1478 - mae: 375.5046 - mape: 10.6719\n",
            "Epoch 5/20\n",
            "295/295 [==============================] - 2s 7ms/step - loss: 499904.5006 - mae: 361.2490 - mape: 10.4086\n",
            "Epoch 6/20\n",
            "295/295 [==============================] - 2s 7ms/step - loss: 643283.3036 - mae: 361.9725 - mape: 10.2231\n",
            "Epoch 7/20\n",
            "295/295 [==============================] - 2s 7ms/step - loss: 450785.2487 - mae: 361.1669 - mape: 10.1025\n",
            "Epoch 8/20\n",
            "295/295 [==============================] - 2s 7ms/step - loss: 585770.2878 - mae: 377.7027 - mape: 10.3715\n",
            "Epoch 9/20\n",
            "295/295 [==============================] - 2s 7ms/step - loss: 777859.7143 - mae: 360.2277 - mape: 10.1364\n",
            "Epoch 10/20\n",
            "295/295 [==============================] - 2s 7ms/step - loss: 440505.7029 - mae: 356.7133 - mape: 9.9901\n",
            "Epoch 11/20\n",
            "295/295 [==============================] - 2s 7ms/step - loss: 448728.3394 - mae: 350.5088 - mape: 10.1280\n",
            "Epoch 12/20\n",
            "295/295 [==============================] - 2s 7ms/step - loss: 466814.1327 - mae: 355.1874 - mape: 10.0661\n",
            "Epoch 13/20\n",
            "295/295 [==============================] - 2s 8ms/step - loss: 531385.0955 - mae: 350.6731 - mape: 9.9189\n",
            "Epoch 14/20\n",
            "295/295 [==============================] - 2s 7ms/step - loss: 501795.4464 - mae: 358.7799 - mape: 9.9972\n",
            "Epoch 15/20\n",
            "295/295 [==============================] - 2s 7ms/step - loss: 429988.4146 - mae: 347.3994 - mape: 9.9185\n",
            "Epoch 16/20\n",
            "295/295 [==============================] - 2s 7ms/step - loss: 555652.3024 - mae: 355.4167 - mape: 10.0576\n",
            "Epoch 17/20\n",
            "295/295 [==============================] - 2s 7ms/step - loss: 445523.4002 - mae: 352.9949 - mape: 9.9861\n",
            "Epoch 18/20\n",
            "295/295 [==============================] - 2s 7ms/step - loss: 528257.9180 - mae: 351.6601 - mape: 9.8737\n",
            "Epoch 19/20\n",
            "295/295 [==============================] - 2s 7ms/step - loss: 444226.4375 - mae: 350.0969 - mape: 9.8843\n",
            "Epoch 20/20\n",
            "295/295 [==============================] - 2s 8ms/step - loss: 470779.3846 - mae: 352.6856 - mape: 10.0343\n"
          ],
          "name": "stdout"
        },
        {
          "output_type": "execute_result",
          "data": {
            "text/plain": [
              "<tensorflow.python.keras.callbacks.History at 0x7f0a0d6f46a0>"
            ]
          },
          "metadata": {
            "tags": []
          },
          "execution_count": 29
        }
      ]
    },
    {
      "cell_type": "code",
      "metadata": {
        "id": "A4iAX2zSwZ0g"
      },
      "source": [
        "y_pred = model.predict(X_test_sc)"
      ],
      "execution_count": 30,
      "outputs": []
    },
    {
      "cell_type": "code",
      "metadata": {
        "colab": {
          "base_uri": "https://localhost:8080/"
        },
        "id": "1YixvZubwe1Y",
        "outputId": "2689555f-5f82-4293-9037-19577148a394"
      },
      "source": [
        "score = model.evaluate(X_test_sc,y_test, batch_size=32)"
      ],
      "execution_count": 31,
      "outputs": [
        {
          "output_type": "stream",
          "text": [
            "506/506 [==============================] - 1s 2ms/step - loss: 550033.8125 - mae: 329.6341 - mape: 9.7244\n"
          ],
          "name": "stdout"
        }
      ]
    },
    {
      "cell_type": "code",
      "metadata": {
        "colab": {
          "base_uri": "https://localhost:8080/"
        },
        "id": "UrRiSXWWwsIf",
        "outputId": "8915d8a9-1019-428d-a239-6b47d9747fce"
      },
      "source": [
        "residuals = y_test - y_pred\r\n",
        "residuals.reshape(-1,1)"
      ],
      "execution_count": 32,
      "outputs": [
        {
          "output_type": "execute_result",
          "data": {
            "text/plain": [
              "array([[ 221.48138428],\n",
              "       [ 418.48138428],\n",
              "       [4704.48138428],\n",
              "       ...,\n",
              "       [1616.03320312],\n",
              "       [5221.03320312],\n",
              "       [ 253.03320312]])"
            ]
          },
          "metadata": {
            "tags": []
          },
          "execution_count": 32
        }
      ]
    },
    {
      "cell_type": "code",
      "metadata": {
        "id": "sGie7DyqxBB_"
      },
      "source": [
        ""
      ],
      "execution_count": 32,
      "outputs": []
    },
    {
      "cell_type": "code",
      "metadata": {
        "id": "7-HxaS8KxDUn"
      },
      "source": [
        ""
      ],
      "execution_count": 32,
      "outputs": []
    }
  ]
}