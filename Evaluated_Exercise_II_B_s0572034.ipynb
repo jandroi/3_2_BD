{
  "nbformat": 4,
  "nbformat_minor": 0,
  "metadata": {
    "colab": {
      "name": "Evaluated Exercise II B s0572034.ipynb",
      "provenance": [],
      "authorship_tag": "ABX9TyPsBo9dhc8YecHYX//MG7FV",
      "include_colab_link": true
    },
    "kernelspec": {
      "name": "python3",
      "display_name": "Python 3"
    }
  },
  "cells": [
    {
      "cell_type": "markdown",
      "metadata": {
        "id": "view-in-github",
        "colab_type": "text"
      },
      "source": [
        "<a href=\"https://colab.research.google.com/github/jandroi/3_2_BD/blob/main/Evaluated_Exercise_II_B_s0572034.ipynb\" target=\"_parent\"><img src=\"https://colab.research.google.com/assets/colab-badge.svg\" alt=\"Open In Colab\"/></a>"
      ]
    },
    {
      "cell_type": "markdown",
      "metadata": {
        "id": "yUWQSIwYKUv-"
      },
      "source": [
        "# Evaluated Exercise Part 2 – SciKit-Stack and Deep Learning**\r\n",
        "\r\n",
        "## Task 4: Deep Learning – Run a Deep Learning Model: Build a Loan Amount Calculator using Multiple Linear Regression [10%]\r\n",
        "\r\n",
        "Use the diamonds dataset from Task 3 to perform a Deep Learning (Regression) model. Target variable is again price.\r\n",
        "\r\n",
        "Please describe all steps. Parameters to evaluate are MAE and MAPE. Please report results for test and training dataset! Packages: Tensorflow and Keras\r\n",
        "\r\n",
        "-----"
      ]
    },
    {
      "cell_type": "markdown",
      "metadata": {
        "id": "5FYM4Mo9KUeF"
      },
      "source": [
        ""
      ]
    },
    {
      "cell_type": "code",
      "metadata": {
        "id": "AqY9ENqGJu0P"
      },
      "source": [
        ""
      ],
      "execution_count": null,
      "outputs": []
    },
    {
      "cell_type": "code",
      "metadata": {
        "id": "vdiSjk0mKTv-"
      },
      "source": [
        ""
      ],
      "execution_count": null,
      "outputs": []
    },
    {
      "cell_type": "markdown",
      "metadata": {
        "id": "uEbqLh33Kp8e"
      },
      "source": [
        "## Data Understanding"
      ]
    },
    {
      "cell_type": "code",
      "metadata": {
        "id": "rMAXLsCTKTyH"
      },
      "source": [
        ""
      ],
      "execution_count": null,
      "outputs": []
    },
    {
      "cell_type": "markdown",
      "metadata": {
        "id": "tBSBM0uZKT0R"
      },
      "source": [
        "## Data Preparation \r\n",
        "  (please change the order of the tasks as needed)\r\n",
        "\r\n",
        "- Missing Values\r\n",
        "- Transformation of all categorical variables\r\n",
        "- Split into Test and Training Dataset\r\n",
        "- Standardization\r\n",
        "- …"
      ]
    },
    {
      "cell_type": "code",
      "metadata": {
        "id": "HTXyG0yBKT2l"
      },
      "source": [
        ""
      ],
      "execution_count": null,
      "outputs": []
    },
    {
      "cell_type": "markdown",
      "metadata": {
        "id": "Ps8lwutTK_tD"
      },
      "source": [
        "## Modeling\r\n",
        "- Run a simple Multiple Linear Regression Model using Tensorflow/Keras!\r\n",
        "- Run a Multiple Linear Regression Deep Learning Model (experiment with a few layers) using Tensorflow/Keras!"
      ]
    },
    {
      "cell_type": "code",
      "metadata": {
        "id": "lj2F4i4_KT48"
      },
      "source": [
        ""
      ],
      "execution_count": null,
      "outputs": []
    },
    {
      "cell_type": "code",
      "metadata": {
        "id": "p5auvcG7KT6x"
      },
      "source": [
        ""
      ],
      "execution_count": null,
      "outputs": []
    }
  ]
}