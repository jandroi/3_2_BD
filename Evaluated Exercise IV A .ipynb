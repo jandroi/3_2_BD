{
  "nbformat": 4,
  "nbformat_minor": 0,
  "metadata": {
    "colab": {
      "name": "Evaluated Exercise IV A s0572034.ipynb",
      "provenance": [],
      "collapsed_sections": []
    },
    "kernelspec": {
      "name": "python3",
      "display_name": "Python 3"
    }
  },
  "cells": [
    {
      "cell_type": "markdown",
      "metadata": {
        "id": "bxoE6S_4wE5Q"
      },
      "source": [
        "# Evaluated Exercise IV\r\n",
        "## Part 1: Topic Model based on customer reviews\r\n",
        "\r\n",
        "Please analyze the customer reviews and try to find relevant topics in the reviews, so that an automized reporting system can be implemented to analyze the reviews in close to real time.\r\n",
        "- What is the optimal number of topics?\r\n",
        "- Please describe the topics"
      ]
    },
    {
      "cell_type": "markdown",
      "metadata": {
        "id": "VjAoomUiwa4Z"
      },
      "source": [
        "### Data IO and Package Import"
      ]
    },
    {
      "cell_type": "markdown",
      "metadata": {
        "id": "GqVpFMIXwpKZ"
      },
      "source": [
        "#### Package Handling"
      ]
    },
    {
      "cell_type": "code",
      "metadata": {
        "id": "V3vJIbBtpShP"
      },
      "source": [
        "# Dataframes\r\n",
        "import pandas as pd\r\n",
        "\r\n",
        "# Text Cleaning\r\n",
        "import re \r\n",
        "# import nltk and spacy\r\n",
        "import nltk\r\n",
        "import spacy\r\n",
        "\r\n",
        "# Gensim to do the LDA models (topicmodels)\r\n",
        "import gensim\r\n",
        "import gensim.corpora as corpora\r\n",
        "from gensim.utils import simple_preprocess\r\n",
        "from gensim.models import CoherenceModel\r\n",
        "\r\n",
        "# Better printing, in Unix and R: cat-command\r\n",
        "from pprint import pprint # nice printing\r\n"
      ],
      "execution_count": null,
      "outputs": []
    },
    {
      "cell_type": "code",
      "metadata": {
        "id": "LQTvpihBwwyT"
      },
      "source": [
        "# Load nlp model from spaCy, English language\r\n",
        "nlp = spacy.load(\"en\")"
      ],
      "execution_count": null,
      "outputs": []
    },
    {
      "cell_type": "markdown",
      "metadata": {
        "id": "9pgXbdOdwhKX"
      },
      "source": [
        "#### Data I/O"
      ]
    },
    {
      "cell_type": "code",
      "metadata": {
        "id": "Mm-Rvo4arLjt"
      },
      "source": [
        "url = r'https://raw.githubusercontent.com/jandroi/3_2_BD/main/hotelSatisfaction_English.csv'\r\n",
        "df =pd.read_csv(url,engine='python',encoding='latin-1')"
      ],
      "execution_count": null,
      "outputs": []
    },
    {
      "cell_type": "code",
      "metadata": {
        "colab": {
          "base_uri": "https://localhost:8080/",
          "height": 175
        },
        "id": "VWmJALsgrXnp",
        "outputId": "9d0aff35-b9ed-48c0-93f6-4764a3a47634"
      },
      "source": [
        "df.iloc[260:264]"
      ],
      "execution_count": null,
      "outputs": [
        {
          "output_type": "execute_result",
          "data": {
            "text/html": [
              "<div>\n",
              "<style scoped>\n",
              "    .dataframe tbody tr th:only-of-type {\n",
              "        vertical-align: middle;\n",
              "    }\n",
              "\n",
              "    .dataframe tbody tr th {\n",
              "        vertical-align: top;\n",
              "    }\n",
              "\n",
              "    .dataframe thead th {\n",
              "        text-align: right;\n",
              "    }\n",
              "</style>\n",
              "<table border=\"1\" class=\"dataframe\">\n",
              "  <thead>\n",
              "    <tr style=\"text-align: right;\">\n",
              "      <th></th>\n",
              "      <th>Comments</th>\n",
              "      <th>OverallSentiment</th>\n",
              "    </tr>\n",
              "  </thead>\n",
              "  <tbody>\n",
              "    <tr>\n",
              "      <th>260</th>\n",
              "      <td>ÊEverything costs extra unfortunately.</td>\n",
              "      <td>negative</td>\n",
              "    </tr>\n",
              "    <tr>\n",
              "      <th>261</th>\n",
              "      <td>lack of sports program</td>\n",
              "      <td>negative</td>\n",
              "    </tr>\n",
              "    <tr>\n",
              "      <th>262</th>\n",
              "      <td>no sports facilities</td>\n",
              "      <td>negative</td>\n",
              "    </tr>\n",
              "    <tr>\n",
              "      <th>263</th>\n",
              "      <td>the food could be improved in terms of quality.</td>\n",
              "      <td>negative</td>\n",
              "    </tr>\n",
              "  </tbody>\n",
              "</table>\n",
              "</div>"
            ],
            "text/plain": [
              "                                            Comments OverallSentiment\n",
              "260           ÊEverything costs extra unfortunately.         negative\n",
              "261                           lack of sports program         negative\n",
              "262                             no sports facilities         negative\n",
              "263  the food could be improved in terms of quality.         negative"
            ]
          },
          "metadata": {
            "tags": []
          },
          "execution_count": 84
        }
      ]
    },
    {
      "cell_type": "code",
      "metadata": {
        "id": "4J48CGOjrZPI",
        "colab": {
          "base_uri": "https://localhost:8080/",
          "height": 418
        },
        "outputId": "fdf8e736-91e9-427a-a268-bb0754af3e01"
      },
      "source": [
        "# Shape of the file: How many rows (e-mails)? and how many columns?\r\n",
        "print(\"Shape of the dataset:\", df.shape)\r\n",
        "# How many different categories - and please print the categories out!\r\n",
        "print(\"Number of different topics: \", str(len(df['OverallSentiment'].unique())))\r\n",
        "print(df['OverallSentiment'].unique())\r\n",
        "# Print out the fist five or so rows\r\n",
        "df.head(10)"
      ],
      "execution_count": null,
      "outputs": [
        {
          "output_type": "stream",
          "text": [
            "Shape of the dataset: (860, 2)\n",
            "Number of different topics:  2\n",
            "['positive' 'negative']\n"
          ],
          "name": "stdout"
        },
        {
          "output_type": "execute_result",
          "data": {
            "text/html": [
              "<div>\n",
              "<style scoped>\n",
              "    .dataframe tbody tr th:only-of-type {\n",
              "        vertical-align: middle;\n",
              "    }\n",
              "\n",
              "    .dataframe tbody tr th {\n",
              "        vertical-align: top;\n",
              "    }\n",
              "\n",
              "    .dataframe thead th {\n",
              "        text-align: right;\n",
              "    }\n",
              "</style>\n",
              "<table border=\"1\" class=\"dataframe\">\n",
              "  <thead>\n",
              "    <tr style=\"text-align: right;\">\n",
              "      <th></th>\n",
              "      <th>Comments</th>\n",
              "      <th>OverallSentiment</th>\n",
              "    </tr>\n",
              "  </thead>\n",
              "  <tbody>\n",
              "    <tr>\n",
              "      <th>0</th>\n",
              "      <td>Rooms were clean.</td>\n",
              "      <td>positive</td>\n",
              "    </tr>\n",
              "    <tr>\n",
              "      <th>1</th>\n",
              "      <td>Excellent value for money</td>\n",
              "      <td>positive</td>\n",
              "    </tr>\n",
              "    <tr>\n",
              "      <th>2</th>\n",
              "      <td>Parking too small. No free wifi in rooms. No c...</td>\n",
              "      <td>negative</td>\n",
              "    </tr>\n",
              "    <tr>\n",
              "      <th>3</th>\n",
              "      <td>Comfortable rooms, outstanding breakfast, nice...</td>\n",
              "      <td>positive</td>\n",
              "    </tr>\n",
              "    <tr>\n",
              "      <th>4</th>\n",
              "      <td>Quiet location right on the beach.</td>\n",
              "      <td>positive</td>\n",
              "    </tr>\n",
              "    <tr>\n",
              "      <th>5</th>\n",
              "      <td>Pleasant service</td>\n",
              "      <td>positive</td>\n",
              "    </tr>\n",
              "    <tr>\n",
              "      <th>6</th>\n",
              "      <td>View on the beautiful countryside and the sea.</td>\n",
              "      <td>positive</td>\n",
              "    </tr>\n",
              "    <tr>\n",
              "      <th>7</th>\n",
              "      <td>Beautiful location</td>\n",
              "      <td>positive</td>\n",
              "    </tr>\n",
              "    <tr>\n",
              "      <th>8</th>\n",
              "      <td>The service, the cleanness and neatness of  ro...</td>\n",
              "      <td>positive</td>\n",
              "    </tr>\n",
              "    <tr>\n",
              "      <th>9</th>\n",
              "      <td>Outstanding services</td>\n",
              "      <td>positive</td>\n",
              "    </tr>\n",
              "  </tbody>\n",
              "</table>\n",
              "</div>"
            ],
            "text/plain": [
              "                                            Comments OverallSentiment\n",
              "0                                  Rooms were clean.         positive\n",
              "1                          Excellent value for money         positive\n",
              "2  Parking too small. No free wifi in rooms. No c...         negative\n",
              "3  Comfortable rooms, outstanding breakfast, nice...         positive\n",
              "4                 Quiet location right on the beach.         positive\n",
              "5                                   Pleasant service         positive\n",
              "6     View on the beautiful countryside and the sea.         positive\n",
              "7                                 Beautiful location         positive\n",
              "8  The service, the cleanness and neatness of  ro...         positive\n",
              "9                               Outstanding services         positive"
            ]
          },
          "metadata": {
            "tags": []
          },
          "execution_count": 85
        }
      ]
    },
    {
      "cell_type": "code",
      "metadata": {
        "id": "6wEl405nyJs8"
      },
      "source": [
        ""
      ],
      "execution_count": null,
      "outputs": []
    },
    {
      "cell_type": "markdown",
      "metadata": {
        "id": "j4p--lU-4cFu"
      },
      "source": [
        "## Stopwords"
      ]
    },
    {
      "cell_type": "code",
      "metadata": {
        "colab": {
          "base_uri": "https://localhost:8080/"
        },
        "id": "wnr0C42wyYSs",
        "outputId": "e27ca6c2-907b-4db1-d61b-bf57d56763dc"
      },
      "source": [
        "# Download stopwords from nltk\r\n",
        "nltk.download('stopwords')"
      ],
      "execution_count": null,
      "outputs": [
        {
          "output_type": "stream",
          "text": [
            "[nltk_data] Downloading package stopwords to /root/nltk_data...\n",
            "[nltk_data]   Package stopwords is already up-to-date!\n"
          ],
          "name": "stdout"
        },
        {
          "output_type": "execute_result",
          "data": {
            "text/plain": [
              "True"
            ]
          },
          "metadata": {
            "tags": []
          },
          "execution_count": 86
        }
      ]
    },
    {
      "cell_type": "code",
      "metadata": {
        "id": "c0r1ErSe4iHQ"
      },
      "source": [
        "from nltk.corpus import stopwords"
      ],
      "execution_count": null,
      "outputs": []
    },
    {
      "cell_type": "code",
      "metadata": {
        "id": "FdiMI68t4jyw"
      },
      "source": [
        "stop_words = stopwords.words('english')"
      ],
      "execution_count": null,
      "outputs": []
    },
    {
      "cell_type": "code",
      "metadata": {
        "id": "rKcPPB1z4j8H"
      },
      "source": [
        "# User defined stopwords if needed\r\n",
        "stop_words.extend(['room'])"
      ],
      "execution_count": null,
      "outputs": []
    },
    {
      "cell_type": "markdown",
      "metadata": {
        "id": "Mvgw30cP52OK"
      },
      "source": [
        "# Remove Text / Cleaning\r\n",
        "\r\n",
        "Let us use regular expressions (package re), but we need a list to apply re"
      ]
    },
    {
      "cell_type": "code",
      "metadata": {
        "colab": {
          "base_uri": "https://localhost:8080/",
          "height": 36
        },
        "id": "kTVKNt2L6I-_",
        "outputId": "9462085e-ad41-4259-fe67-80ccfda55270"
      },
      "source": [
        "data = df['Comments'].values.tolist()\r\n",
        "data[260]"
      ],
      "execution_count": null,
      "outputs": [
        {
          "output_type": "execute_result",
          "data": {
            "application/vnd.google.colaboratory.intrinsic+json": {
              "type": "string"
            },
            "text/plain": [
              "'ÊEverything costs extra unfortunately.'"
            ]
          },
          "metadata": {
            "tags": []
          },
          "execution_count": 90
        }
      ]
    },
    {
      "cell_type": "code",
      "metadata": {
        "colab": {
          "base_uri": "https://localhost:8080/",
          "height": 36
        },
        "id": "tCAzlfKBxXb9",
        "outputId": "1a67f0d3-ba72-401f-b8ef-7b2faa5e656a"
      },
      "source": [
        "# Remove Special Chars\r\n",
        "data = [re.sub(\"[^0-9a-zA-Z:,]+\", ' ', sent) for sent in data]\r\n",
        "data[260]"
      ],
      "execution_count": null,
      "outputs": [
        {
          "output_type": "execute_result",
          "data": {
            "application/vnd.google.colaboratory.intrinsic+json": {
              "type": "string"
            },
            "text/plain": [
              "' Everything costs extra unfortunately '"
            ]
          },
          "metadata": {
            "tags": []
          },
          "execution_count": 91
        }
      ]
    },
    {
      "cell_type": "code",
      "metadata": {
        "id": "cV9d9jk44kCw",
        "colab": {
          "base_uri": "https://localhost:8080/"
        },
        "outputId": "cd7f9db8-b277-45de-d11a-35cc4ab9d65d"
      },
      "source": [
        "# Remove newline characters\r\n",
        "data = [re.sub('\\s+', ' ', sent) for sent in data]"
      ],
      "execution_count": null,
      "outputs": [
        {
          "output_type": "stream",
          "text": [
            "<input>:2: DeprecationWarning: invalid escape sequence \\s\n",
            "<input>:2: DeprecationWarning: invalid escape sequence \\s\n",
            "<input>:2: DeprecationWarning: invalid escape sequence \\s\n",
            "<ipython-input-92-025e9343516c>:2: DeprecationWarning: invalid escape sequence \\s\n",
            "  data = [re.sub('\\s+', ' ', sent) for sent in data]\n"
          ],
          "name": "stderr"
        }
      ]
    },
    {
      "cell_type": "code",
      "metadata": {
        "colab": {
          "base_uri": "https://localhost:8080/"
        },
        "id": "E3n56nm_4kFE",
        "outputId": "abd3371f-21bf-442e-d6dc-1b16ee196156"
      },
      "source": [
        "# Print out some texts\r\n",
        "pprint(data[1:2])"
      ],
      "execution_count": null,
      "outputs": [
        {
          "output_type": "stream",
          "text": [
            "['Excellent value for money']\n"
          ],
          "name": "stdout"
        }
      ]
    },
    {
      "cell_type": "markdown",
      "metadata": {
        "id": "L1mXb90V6aq9"
      },
      "source": [
        "## Tokenize words and clean-up text\r\n",
        "\r\n",
        "A few possibilities here:\r\n",
        "- spaCy\r\n",
        "- Gensim `simple_preprocess`\r\n",
        "- nltk\r\n",
        "- ..."
      ]
    },
    {
      "cell_type": "code",
      "metadata": {
        "id": "rxqLW5rD4kG4"
      },
      "source": [
        "def sent_to_words(sentences):\r\n",
        "  for sentence in sentences:\r\n",
        "    yield(gensim.utils.simple_preprocess(str(sentence), deacc = True))"
      ],
      "execution_count": null,
      "outputs": []
    },
    {
      "cell_type": "code",
      "metadata": {
        "id": "hqf8GXF46g0_"
      },
      "source": [
        "# Call_\r\n",
        "data_words = list(sent_to_words(data))"
      ],
      "execution_count": null,
      "outputs": []
    },
    {
      "cell_type": "code",
      "metadata": {
        "colab": {
          "base_uri": "https://localhost:8080/"
        },
        "id": "rGHaqBfo6hGJ",
        "outputId": "efbba11c-3f7e-4292-e796-b57eef0d2a1d"
      },
      "source": [
        "pprint(data_words[260])"
      ],
      "execution_count": null,
      "outputs": [
        {
          "output_type": "stream",
          "text": [
            "['everything', 'costs', 'extra', 'unfortunately']\n"
          ],
          "name": "stdout"
        }
      ]
    },
    {
      "cell_type": "markdown",
      "metadata": {
        "id": "U2uw9Tmb60da"
      },
      "source": [
        "## Remove StopWords"
      ]
    },
    {
      "cell_type": "code",
      "metadata": {
        "id": "wcA4A3jC6hIg"
      },
      "source": [
        "# function to remove stopwords\r\n",
        "def remove_stopwords(texts):\r\n",
        "  return [[word for word in simple_preprocess(str(doc)) if word not in stop_words] for doc in texts] "
      ],
      "execution_count": null,
      "outputs": []
    },
    {
      "cell_type": "code",
      "metadata": {
        "id": "LFE10mm47Vqd"
      },
      "source": [
        "## Call the function:\r\n",
        "# Remove Stop Words\r\n",
        "data_words_nostops = remove_stopwords(data_words)"
      ],
      "execution_count": null,
      "outputs": []
    },
    {
      "cell_type": "code",
      "metadata": {
        "colab": {
          "base_uri": "https://localhost:8080/"
        },
        "id": "f8Ro2NKp7Vn_",
        "outputId": "143f3a12-96d9-4aba-aab5-a5c58bfc80f6"
      },
      "source": [
        "print(data_words_nostops[:1])\r\n",
        "print(data_words_nostops[260])"
      ],
      "execution_count": null,
      "outputs": [
        {
          "output_type": "stream",
          "text": [
            "[['rooms', 'clean']]\n",
            "['everything', 'costs', 'extra', 'unfortunately']\n"
          ],
          "name": "stdout"
        }
      ]
    },
    {
      "cell_type": "markdown",
      "metadata": {
        "id": "pSuFejnk7sK0"
      },
      "source": [
        "## Lemmatization\r\n"
      ]
    },
    {
      "cell_type": "code",
      "metadata": {
        "id": "QnBKiG8Q7Vlu"
      },
      "source": [
        "# Define a function lemmatization\r\n",
        "def lemmatization(texts, allowed_postags = ['NOUN', 'ADJ', 'VERB', 'ADV']):\r\n",
        "  # Empty list for results\r\n",
        "  texts_out = []\r\n",
        "  # do the lemmatization and select pos tags:\r\n",
        "  for sent in texts:\r\n",
        "    # first convert into a list and then apply nlp() function\r\n",
        "    doc = nlp(\" \".join(sent))\r\n",
        "    texts_out.append([token.lemma_ for token in doc if token.pos_ in allowed_postags])\r\n",
        "  return texts_out"
      ],
      "execution_count": null,
      "outputs": []
    },
    {
      "cell_type": "code",
      "metadata": {
        "id": "btDhkaY67Vja"
      },
      "source": [
        "# Do lemmatization keeping only noun, adj, verb, adv:\r\n",
        "data_lemmatized = lemmatization(texts = data_words_nostops)"
      ],
      "execution_count": null,
      "outputs": []
    },
    {
      "cell_type": "code",
      "metadata": {
        "colab": {
          "base_uri": "https://localhost:8080/"
        },
        "id": "OsCeNsFW7VhC",
        "outputId": "09102894-58e2-4060-b65f-6fef61b50366"
      },
      "source": [
        "# Print out first text or so\r\n",
        "pprint(data_lemmatized[2:3])\r\n",
        "pprint(data_lemmatized[260])"
      ],
      "execution_count": null,
      "outputs": [
        {
          "output_type": "stream",
          "text": [
            "[['park', 'small', 'free', 'wifi', 'room', 'crib', 'child']]\n",
            "['cost', 'extra', 'unfortunately']\n"
          ],
          "name": "stdout"
        }
      ]
    },
    {
      "cell_type": "markdown",
      "metadata": {
        "id": "RHVxe3gx8l12"
      },
      "source": [
        "## Create the Dictionary and Corpus needed for Topic Modeling\r\n",
        "\r\n",
        "Input of an LDA: \r\n",
        "- `dictionary` (id2word): like a real dictionary, but mapping approach: 0: car; 1: one, 2: impression, ...\r\n",
        "- `Corpus`: Collection of texts: [[(0, 1), (1, 2), ...],[]] -- Like in Map Reduce approach\r\n",
        "\r\n",
        "Computer is not working with text, working with a numeric representation: which id's are related to each other --> SED\r\n",
        "\r\n"
      ]
    },
    {
      "cell_type": "code",
      "metadata": {
        "id": "LqPMkRzF7Vev"
      },
      "source": [
        "# Create dictionary:\r\n",
        "id2word = corpora.Dictionary(data_lemmatized)"
      ],
      "execution_count": null,
      "outputs": []
    },
    {
      "cell_type": "code",
      "metadata": {
        "colab": {
          "base_uri": "https://localhost:8080/"
        },
        "id": "UTpwvKt97Vcl",
        "outputId": "7c04056e-7a54-4d5d-826f-5f0a33fd0c38"
      },
      "source": [
        "print(id2word)"
      ],
      "execution_count": null,
      "outputs": [
        {
          "output_type": "stream",
          "text": [
            "Dictionary(571 unique tokens: ['clean', 'room', 'excellent', 'money', 'value']...)\n"
          ],
          "name": "stdout"
        }
      ]
    },
    {
      "cell_type": "code",
      "metadata": {
        "id": "4Eef38_p7VZ_"
      },
      "source": [
        "# Create the corpus\r\n",
        "texts = data_lemmatized"
      ],
      "execution_count": null,
      "outputs": []
    },
    {
      "cell_type": "code",
      "metadata": {
        "colab": {
          "base_uri": "https://localhost:8080/"
        },
        "id": "75lCrlMm7VWI",
        "outputId": "5055aec5-9cb1-41f2-a779-bc4d9383dd97"
      },
      "source": [
        "texts[:20]"
      ],
      "execution_count": null,
      "outputs": [
        {
          "output_type": "execute_result",
          "data": {
            "text/plain": [
              "[['room', 'clean'],\n",
              " ['excellent', 'value', 'money'],\n",
              " ['park', 'small', 'free', 'wifi', 'room', 'crib', 'child'],\n",
              " ['comfortable', 'room', 'outstanding', 'breakfast', 'service'],\n",
              " ['quiet', 'location', 'beach'],\n",
              " ['pleasant', 'service'],\n",
              " ['beautiful', 'countryside'],\n",
              " ['beautiful', 'location'],\n",
              " ['rich', 'imaginative', 'breakfast', 'buffet'],\n",
              " ['outstanding', 'service'],\n",
              " ['excellent',\n",
              "  'diverse',\n",
              "  'excursion',\n",
              "  'offering',\n",
              "  'vary',\n",
              "  'buffet',\n",
              "  'friendly',\n",
              "  'service',\n",
              "  'staff'],\n",
              " ['friendly', 'service', 'attentive', 'staff'],\n",
              " ['hotel', 'staff', 'always', 'courteous'],\n",
              " ['monotonous', 'morning', 'offer', 'fresh', 'fruit'],\n",
              " [],\n",
              " ['small'],\n",
              " ['wonderful', 'nice'],\n",
              " ['quiet'],\n",
              " ['expensive'],\n",
              " ['buffet', 'luxurious', 'bathroom', 'staff', 'tour', 'guide']]"
            ]
          },
          "metadata": {
            "tags": []
          },
          "execution_count": 106
        }
      ]
    },
    {
      "cell_type": "code",
      "metadata": {
        "id": "RokabtRH7VTW"
      },
      "source": [
        "# Term Document Frequency\r\n",
        "corpus = [id2word.doc2bow(text) for text in texts]"
      ],
      "execution_count": null,
      "outputs": []
    },
    {
      "cell_type": "code",
      "metadata": {
        "colab": {
          "base_uri": "https://localhost:8080/"
        },
        "id": "VyM1kbaX7VQm",
        "outputId": "deb2e12a-811c-4919-e15a-06b83b772895"
      },
      "source": [
        "pprint(corpus)"
      ],
      "execution_count": null,
      "outputs": [
        {
          "output_type": "stream",
          "text": [
            "[[(0, 1), (1, 1)],\n",
            " [(2, 1), (3, 1), (4, 1)],\n",
            " [(1, 1), (5, 1), (6, 1), (7, 1), (8, 1), (9, 1), (10, 1)],\n",
            " [(1, 1), (11, 1), (12, 1), (13, 1), (14, 1)],\n",
            " [(15, 1), (16, 1), (17, 1)],\n",
            " [(14, 1), (18, 1)],\n",
            " [(19, 1), (20, 1)],\n",
            " [(16, 1), (19, 1)],\n",
            " [(11, 1), (21, 1), (22, 1), (23, 1)],\n",
            " [(13, 1), (14, 1)],\n",
            " [(2, 1),\n",
            "  (14, 1),\n",
            "  (21, 1),\n",
            "  (24, 1),\n",
            "  (25, 1),\n",
            "  (26, 1),\n",
            "  (27, 1),\n",
            "  (28, 1),\n",
            "  (29, 1)],\n",
            " [(14, 1), (26, 1), (28, 1), (30, 1)],\n",
            " [(28, 1), (31, 1), (32, 1), (33, 1)],\n",
            " [(34, 1), (35, 1), (36, 1), (37, 1), (38, 1)],\n",
            " [],\n",
            " [(9, 1)],\n",
            " [(39, 1), (40, 1)],\n",
            " [(17, 1)],\n",
            " [(41, 1)],\n",
            " [(21, 1), (28, 1), (42, 1), (43, 1), (44, 1), (45, 1)],\n",
            " [(2, 1), (46, 1), (47, 1), (48, 1), (49, 1), (50, 1)],\n",
            " [(51, 1), (52, 1)],\n",
            " [(14, 1), (26, 1), (33, 1), (53, 1), (54, 1), (55, 1)],\n",
            " [(9, 1), (56, 1), (57, 1), (58, 1), (59, 1)],\n",
            " [(16, 1), (17, 1), (60, 1)],\n",
            " [(60, 1), (61, 1)],\n",
            " [(1, 1), (21, 1), (28, 1), (30, 1), (39, 1), (62, 1), (63, 1)],\n",
            " [(14, 1), (39, 1), (64, 1), (65, 1), (66, 2)],\n",
            " [(11, 1), (67, 1), (68, 1)],\n",
            " [],\n",
            " [(26, 1),\n",
            "  (28, 1),\n",
            "  (53, 1),\n",
            "  (69, 1),\n",
            "  (70, 1),\n",
            "  (71, 1),\n",
            "  (72, 1),\n",
            "  (73, 1),\n",
            "  (74, 1)],\n",
            " [(1, 1), (63, 1), (75, 1), (76, 1), (77, 1)],\n",
            " [(1, 1), (14, 1), (78, 1)],\n",
            " [(72, 1)],\n",
            " [(9, 1), (77, 1), (79, 1)],\n",
            " [],\n",
            " [(51, 1), (80, 1), (81, 1), (82, 1), (83, 1)],\n",
            " [(28, 1)],\n",
            " [(33, 1), (72, 1), (84, 1), (85, 1)],\n",
            " [(16, 1), (47, 1), (49, 1), (86, 1), (87, 1), (88, 1)],\n",
            " [(1, 1), (89, 1), (90, 1)],\n",
            " [(66, 1), (74, 1), (91, 1), (92, 1)],\n",
            " [(66, 1), (93, 1)],\n",
            " [(28, 1), (94, 1)],\n",
            " [(0, 1), (1, 1), (47, 1), (95, 1), (96, 1), (97, 1), (98, 1), (99, 1)],\n",
            " [(47, 1), (49, 1), (72, 1), (87, 1)],\n",
            " [(84, 1), (100, 1), (101, 1), (102, 1)],\n",
            " [(0, 1),\n",
            "  (1, 1),\n",
            "  (14, 1),\n",
            "  (16, 1),\n",
            "  (80, 1),\n",
            "  (103, 1),\n",
            "  (104, 1),\n",
            "  (105, 1),\n",
            "  (106, 1)],\n",
            " [(16, 1), (107, 1), (108, 1)],\n",
            " [(109, 1), (110, 1)],\n",
            " [(26, 1), (33, 1), (111, 1), (112, 1)],\n",
            " [(33, 1), (113, 1)],\n",
            " [(47, 1), (66, 1), (114, 1)],\n",
            " [(0, 1), (1, 1), (80, 1), (99, 1)],\n",
            " [(17, 1)],\n",
            " [(0, 1), (1, 1), (115, 1)],\n",
            " [(26, 1), (28, 1), (116, 1)],\n",
            " [(26, 1), (28, 1), (32, 1)],\n",
            " [(12, 1), (117, 1), (118, 1), (119, 1)],\n",
            " [(19, 1), (39, 1), (90, 1), (120, 1), (121, 1)],\n",
            " [(33, 1), (122, 1)],\n",
            " [(17, 1), (33, 1)],\n",
            " [(17, 1)],\n",
            " [(14, 1), (39, 1), (109, 1), (110, 1), (123, 1)],\n",
            " [(19, 1), (33, 1), (66, 1), (124, 1)],\n",
            " [(16, 1), (66, 1)],\n",
            " [(33, 1), (125, 1), (126, 1), (127, 1)],\n",
            " [(0, 1), (1, 1), (90, 1), (120, 1)],\n",
            " [(33, 1), (108, 1)],\n",
            " [(2, 1), (3, 1), (4, 1)],\n",
            " [(33, 1), (48, 1), (53, 1), (71, 1), (128, 1), (129, 1), (130, 1)],\n",
            " [(0, 1), (17, 1), (26, 1), (131, 1)],\n",
            " [(31, 1), (48, 1), (132, 1), (133, 1)],\n",
            " [(14, 1), (72, 1)],\n",
            " [(14, 1)],\n",
            " [(13, 1), (14, 1), (134, 1)],\n",
            " [(72, 1)],\n",
            " [(21, 1), (62, 1), (72, 1)],\n",
            " [(11, 1), (71, 1), (135, 1)],\n",
            " [(58, 1), (72, 1), (101, 1), (136, 1), (137, 1), (138, 1)],\n",
            " [(90, 1), (120, 1), (139, 1)],\n",
            " [],\n",
            " [(47, 1), (49, 1), (66, 1), (87, 1)],\n",
            " [(3, 1), (4, 1), (140, 1)],\n",
            " [(11, 1), (21, 1), (31, 1), (71, 1), (141, 1), (142, 1), (143, 1)],\n",
            " [],\n",
            " [],\n",
            " [(0, 1), (31, 2), (39, 1), (144, 1), (145, 1), (146, 1)],\n",
            " [(5, 1), (66, 1)],\n",
            " [(2, 1), (3, 1), (4, 1), (13, 1), (16, 1), (28, 1), (147, 1)],\n",
            " [(2, 1)],\n",
            " [(0, 1), (19, 1), (60, 1), (139, 1)],\n",
            " [(66, 1), (72, 1), (148, 1)],\n",
            " [(0, 1)],\n",
            " [(26, 1), (39, 1), (149, 1), (150, 1)],\n",
            " [(26, 1), (28, 1), (123, 1)],\n",
            " [(1, 1), (12, 1), (42, 1), (151, 1), (152, 1)],\n",
            " [(72, 1), (109, 1), (110, 1), (153, 1), (154, 1)],\n",
            " [(16, 1), (33, 1), (66, 1), (72, 1), (155, 1)],\n",
            " [(16, 1), (72, 1)],\n",
            " [(16, 1)],\n",
            " [(16, 1), (66, 1)],\n",
            " [],\n",
            " [(39, 1), (156, 1)],\n",
            " [(33, 1), (157, 1)],\n",
            " [(0, 1), (33, 1), (157, 1)],\n",
            " [],\n",
            " [(14, 1), (50, 1), (158, 1)],\n",
            " [(71, 1), (72, 1)],\n",
            " [(26, 1), (159, 1)],\n",
            " [(42, 1), (160, 1), (161, 1)],\n",
            " [(1, 1), (14, 1), (66, 1), (71, 1)],\n",
            " [(66, 1), (162, 1), (163, 1), (164, 1), (165, 1)],\n",
            " [(1, 1), (99, 1)],\n",
            " [(11, 1), (72, 1)],\n",
            " [(28, 1), (72, 1)],\n",
            " [(14, 1), (26, 1), (30, 1), (106, 1), (166, 1), (167, 1)],\n",
            " [(29, 1)],\n",
            " [(16, 1), (19, 1), (33, 1), (86, 1)],\n",
            " [(17, 1), (33, 1)],\n",
            " [(7, 2), (9, 1), (168, 1), (169, 1)],\n",
            " [(170, 1), (171, 1)],\n",
            " [(28, 1), (123, 1)],\n",
            " [(26, 1), (28, 1), (47, 1), (172, 1), (173, 1)],\n",
            " [(62, 1), (77, 1)],\n",
            " [(66, 1)],\n",
            " [(18, 1), (28, 1)],\n",
            " [(17, 1)],\n",
            " [(2, 1), (174, 1)],\n",
            " [(72, 1), (131, 1)],\n",
            " [(12, 1), (151, 1)],\n",
            " [(12, 1), (26, 1), (171, 1), (175, 1), (176, 1)],\n",
            " [(47, 1), (72, 1), (177, 1), (178, 1)],\n",
            " [(179, 1), (180, 1)],\n",
            " [(72, 1)],\n",
            " [(2, 1), (164, 1)],\n",
            " [],\n",
            " [],\n",
            " [(14, 1), (41, 1), (181, 1)],\n",
            " [(72, 1)],\n",
            " [(0, 1), (42, 1), (152, 1)],\n",
            " [(33, 1)],\n",
            " [(155, 1)],\n",
            " [(28, 1), (123, 1)],\n",
            " [(1, 1), (39, 1), (99, 1)],\n",
            " [(0, 1), (1, 1), (42, 1), (93, 1), (182, 1)],\n",
            " [(71, 1), (183, 1)],\n",
            " [(1, 1), (39, 1)],\n",
            " [(16, 1), (19, 1)],\n",
            " [(17, 1)],\n",
            " [(0, 1), (184, 1)],\n",
            " [(14, 1), (53, 1), (106, 1), (185, 1)],\n",
            " [(26, 1), (28, 1)],\n",
            " [(0, 1)],\n",
            " [(33, 1), (152, 1), (186, 1)],\n",
            " [(16, 1), (72, 1)],\n",
            " [(14, 1), (26, 1)],\n",
            " [(47, 1), (72, 1)],\n",
            " [(0, 1)],\n",
            " [(14, 1), (181, 1)],\n",
            " [(11, 1), (72, 1)],\n",
            " [(62, 1), (72, 1), (77, 1)],\n",
            " [(47, 1), (72, 1)],\n",
            " [(187, 1)],\n",
            " [(16, 1)],\n",
            " [(28, 1), (188, 1)],\n",
            " [(160, 1)],\n",
            " [(189, 1)],\n",
            " [(41, 1)],\n",
            " [(190, 1)],\n",
            " [(191, 1)],\n",
            " [(192, 1)],\n",
            " [(193, 1), (194, 1), (195, 1)],\n",
            " [(2, 1)],\n",
            " [(32, 1)],\n",
            " [(134, 1)],\n",
            " [(196, 1)],\n",
            " [(0, 1)],\n",
            " [(197, 1), (198, 1)],\n",
            " [(193, 1), (194, 1), (199, 1)],\n",
            " [(33, 1), (160, 1)],\n",
            " [(28, 1), (189, 1)],\n",
            " [(33, 1), (41, 1)],\n",
            " [(28, 1), (190, 1)],\n",
            " [(191, 1)],\n",
            " [(33, 1), (200, 1)],\n",
            " [(33, 1), (193, 1), (194, 1), (195, 1)],\n",
            " [(2, 1), (33, 1)],\n",
            " [(28, 1), (32, 1)],\n",
            " [(33, 1), (134, 1)],\n",
            " [(28, 1), (196, 1)],\n",
            " [],\n",
            " [(33, 1), (197, 1), (198, 1)],\n",
            " [(33, 1), (193, 1), (194, 1), (199, 1)],\n",
            " [(160, 1)],\n",
            " [(28, 1), (189, 1)],\n",
            " [(33, 1), (41, 1)],\n",
            " [(28, 1), (190, 1)],\n",
            " [(191, 1)],\n",
            " [(33, 1)],\n",
            " [(2, 1), (33, 1)],\n",
            " [(28, 1), (32, 1)],\n",
            " [(134, 1)],\n",
            " [(28, 1), (196, 1)],\n",
            " [(0, 1), (33, 1)],\n",
            " [(33, 1), (197, 1), (198, 1)],\n",
            " [(193, 1), (194, 1), (199, 1)],\n",
            " [(160, 1)],\n",
            " [(28, 1), (189, 1)],\n",
            " [(33, 1), (41, 1)],\n",
            " [(28, 1), (190, 1)],\n",
            " [(191, 1)],\n",
            " [(33, 1)],\n",
            " [(2, 1), (33, 1)],\n",
            " [(28, 1), (32, 1)],\n",
            " [(134, 1)],\n",
            " [(28, 1), (196, 1)],\n",
            " [(0, 1), (33, 1)],\n",
            " [(31, 1), (33, 1), (197, 1), (198, 1)],\n",
            " [(28, 1), (201, 1)],\n",
            " [(16, 1), (39, 1)],\n",
            " [(72, 1)],\n",
            " [(42, 1), (202, 1)],\n",
            " [(203, 1)],\n",
            " [(0, 1), (204, 1), (205, 1)],\n",
            " [(206, 1)],\n",
            " [(47, 1), (72, 1)],\n",
            " [(207, 1)],\n",
            " [(72, 1)],\n",
            " [(96, 1), (151, 1)],\n",
            " [(8, 1), (208, 1)],\n",
            " [(209, 1), (210, 1)],\n",
            " [(5, 1), (26, 1), (33, 1), (193, 1), (194, 1), (199, 1), (211, 1)],\n",
            " [(3, 1), (4, 1), (72, 1), (212, 1), (213, 1)],\n",
            " [(0, 1)],\n",
            " [(14, 1), (214, 1)],\n",
            " [(47, 1), (72, 1)],\n",
            " [(0, 1), (33, 1), (152, 1)],\n",
            " [(12, 1), (215, 1)],\n",
            " [(216, 1)],\n",
            " [(0, 1), (1, 1), (42, 1), (152, 1)],\n",
            " [(217, 1)],\n",
            " [(72, 1), (77, 1), (218, 1)],\n",
            " [(219, 1), (220, 1), (221, 1)],\n",
            " [(40, 1), (66, 1), (71, 1), (222, 1)],\n",
            " [(13, 1), (64, 1)],\n",
            " [(47, 1), (223, 1)],\n",
            " [(0, 1), (31, 1), (33, 1), (212, 1), (224, 1)],\n",
            " [],\n",
            " [(47, 1), (72, 1)],\n",
            " [(17, 1)],\n",
            " [(41, 1), (61, 1)],\n",
            " [(0, 1), (26, 1), (28, 1), (31, 1), (33, 1), (80, 1)],\n",
            " [(185, 1)],\n",
            " [],\n",
            " [(0, 1), (1, 1)],\n",
            " [(70, 1), (218, 1), (225, 2), (226, 1)],\n",
            " [(1, 1), (101, 1), (136, 1), (217, 1), (227, 1)],\n",
            " [(0, 1), (228, 1), (229, 1)],\n",
            " [],\n",
            " [(209, 1), (230, 1), (231, 1)],\n",
            " [(232, 1)],\n",
            " [(60, 1), (233, 1)],\n",
            " [(48, 1), (58, 1), (71, 1), (132, 1), (234, 1)],\n",
            " [(160, 1), (235, 1), (236, 1)],\n",
            " [(14, 1), (47, 1), (72, 1)],\n",
            " [(77, 1), (81, 1), (110, 1), (237, 1)],\n",
            " [(159, 1), (238, 1)],\n",
            " [(67, 1), (159, 1), (239, 1), (240, 1), (241, 1)],\n",
            " [(11, 1), (31, 1), (41, 1), (242, 1)],\n",
            " [(39, 1), (121, 1), (243, 1)],\n",
            " [(71, 1)],\n",
            " [(57, 1), (224, 1), (244, 1)],\n",
            " [(33, 1), (80, 1), (105, 1), (155, 1), (222, 1), (245, 1), (246, 1), (247, 1)],\n",
            " [(7, 1), (58, 1), (61, 1)],\n",
            " [(248, 1), (249, 1)],\n",
            " [(14, 1)],\n",
            " [(66, 1), (71, 1)],\n",
            " [(74, 1), (250, 1), (251, 1), (252, 1), (253, 1)],\n",
            " [(14, 1), (254, 1)],\n",
            " [(9, 1), (14, 1), (77, 1), (144, 1)],\n",
            " [(41, 1)],\n",
            " [(255, 1)],\n",
            " [(160, 1), (251, 1), (256, 1)],\n",
            " [(106, 1), (167, 1), (168, 1), (257, 1)],\n",
            " [(56, 1), (191, 1), (258, 1), (259, 1)],\n",
            " [],\n",
            " [(58, 1), (71, 1), (260, 1), (261, 1)],\n",
            " [(14, 1), (254, 1)],\n",
            " [],\n",
            " [(168, 1), (262, 1)],\n",
            " [(222, 1), (263, 1)],\n",
            " [(11, 1), (209, 1), (230, 1)],\n",
            " [(0, 1), (33, 1), (264, 1)],\n",
            " [(0, 1), (115, 1)],\n",
            " [(31, 1), (265, 1)],\n",
            " [(11, 1), (240, 1), (266, 1), (267, 1)],\n",
            " [(12, 1), (56, 1)],\n",
            " [(169, 1), (192, 1), (268, 1)],\n",
            " [(147, 1), (155, 1)],\n",
            " [(33, 1), (137, 1), (269, 1)],\n",
            " [(270, 1), (271, 1), (272, 1)],\n",
            " [(273, 1)],\n",
            " [(51, 1), (52, 1), (274, 1)],\n",
            " [(77, 1), (229, 1), (275, 1)],\n",
            " [(189, 1), (261, 1)],\n",
            " [(14, 1), (41, 1), (94, 1)],\n",
            " [],\n",
            " [],\n",
            " [(259, 1), (276, 1)],\n",
            " [(277, 1), (278, 1)],\n",
            " [(212, 1), (279, 1), (280, 1)],\n",
            " [(42, 1), (191, 1)],\n",
            " [(229, 1), (249, 1), (276, 1), (281, 1), (282, 1)],\n",
            " [(1, 1), (131, 1), (266, 1)],\n",
            " [(168, 1), (257, 1)],\n",
            " [(26, 1), (33, 1), (76, 1), (283, 1)],\n",
            " [(9, 1), (96, 1), (284, 1)],\n",
            " [(180, 1), (193, 1), (194, 1), (285, 1), (286, 1), (287, 1)],\n",
            " [(9, 1)],\n",
            " [(60, 1), (160, 1)],\n",
            " [(1, 1), (9, 1), (288, 1)],\n",
            " [(261, 1)],\n",
            " [(249, 1)],\n",
            " [],\n",
            " [(41, 1), (212, 1)],\n",
            " [(5, 1), (289, 1)],\n",
            " [(259, 1), (290, 1)],\n",
            " [(291, 1)],\n",
            " [(48, 1), (292, 1), (293, 1), (294, 1), (295, 1), (296, 1)],\n",
            " [(16, 1), (39, 1)],\n",
            " [(297, 1), (298, 1), (299, 1)],\n",
            " [(7, 1), (14, 1), (114, 1), (140, 1), (239, 1), (300, 1), (301, 1)],\n",
            " [(9, 1), (292, 1), (295, 1), (302, 1)],\n",
            " [(41, 1), (230, 1)],\n",
            " [(39, 1), (235, 1)],\n",
            " [(303, 1)],\n",
            " [(1, 1), (229, 1), (281, 1), (304, 1), (305, 1)],\n",
            " [(257, 1)],\n",
            " [(306, 1)],\n",
            " [(123, 1)],\n",
            " [],\n",
            " [(14, 1), (53, 1)],\n",
            " [(66, 1)],\n",
            " [(91, 1), (307, 1), (308, 1), (309, 1), (310, 1)],\n",
            " [(2, 1), (159, 1), (311, 1)],\n",
            " [],\n",
            " [(16, 1), (66, 1)],\n",
            " [(16, 1), (147, 1)],\n",
            " [(26, 1), (28, 1), (123, 1), (312, 1), (313, 1), (314, 1)],\n",
            " [(1, 2), (94, 1), (200, 1)],\n",
            " [(1, 2), (10, 1), (160, 1)],\n",
            " [(28, 1), (30, 1), (123, 1), (159, 1)],\n",
            " [(198, 1), (315, 1)],\n",
            " [(147, 1), (315, 1)],\n",
            " [(66, 1), (198, 1), (315, 1)],\n",
            " [(2, 1), (26, 1), (28, 1)],\n",
            " [(72, 1), (239, 1)],\n",
            " [(72, 1), (316, 1)],\n",
            " [(1, 1), (231, 1), (259, 1), (317, 1)],\n",
            " [(0, 1), (42, 1), (231, 1), (269, 1)],\n",
            " [(9, 1), (277, 1)],\n",
            " [],\n",
            " [(245, 1), (318, 1)],\n",
            " [],\n",
            " [],\n",
            " [(38, 1), (230, 1), (319, 1)],\n",
            " [(193, 1), (194, 1), (199, 1)],\n",
            " [(1, 1), (2, 1), (232, 1)],\n",
            " [(1, 1), (2, 1), (16, 1), (44, 1)],\n",
            " [(38, 1)],\n",
            " [(2, 1), (16, 1), (66, 1), (71, 1), (147, 1), (320, 1)],\n",
            " [(19, 1), (33, 1), (47, 1), (49, 1), (72, 1), (87, 1)],\n",
            " [(47, 1)],\n",
            " [(47, 1), (49, 1), (72, 1), (87, 1)],\n",
            " [(180, 1), (286, 1)],\n",
            " [(16, 1), (160, 1)],\n",
            " [(90, 1), (137, 1), (321, 1)],\n",
            " [(33, 1), (94, 1), (322, 1)],\n",
            " [(180, 1), (286, 1)],\n",
            " [(19, 1), (321, 1)],\n",
            " [(16, 1), (323, 1)],\n",
            " [(1, 1), (137, 1), (151, 1), (322, 1)],\n",
            " [(48, 1)],\n",
            " [(63, 1), (324, 1)],\n",
            " [(63, 1), (66, 1)],\n",
            " [],\n",
            " [],\n",
            " [],\n",
            " [(302, 1)],\n",
            " [(155, 1), (231, 1), (250, 1)],\n",
            " [(7, 1), (10, 1), (325, 1), (326, 1), (327, 1)],\n",
            " [(292, 1), (328, 1)],\n",
            " [(64, 1), (329, 1)],\n",
            " [(18, 1), (64, 1)],\n",
            " [(42, 1), (64, 1), (198, 1), (330, 1), (331, 1), (332, 1)],\n",
            " [(33, 1), (333, 1)],\n",
            " [(48, 1), (156, 1), (323, 1), (334, 1)],\n",
            " [(313, 1), (314, 1), (335, 1)],\n",
            " [(0, 1), (90, 1), (137, 1), (336, 1)],\n",
            " [(2, 1), (28, 1)],\n",
            " [(2, 1), (28, 1)],\n",
            " [(70, 1), (93, 1), (155, 1)],\n",
            " [(180, 1), (286, 1)],\n",
            " [(3, 1), (4, 1), (41, 1), (72, 1), (337, 1)],\n",
            " [(28, 1), (189, 1), (222, 1), (267, 1), (338, 1)],\n",
            " [(212, 1), (267, 1), (338, 1)],\n",
            " [(339, 1)],\n",
            " [(144, 1)],\n",
            " [(60, 1), (137, 1), (156, 1), (340, 1)],\n",
            " [(39, 1), (120, 1), (121, 1), (185, 1), (341, 1)],\n",
            " [(197, 1), (230, 1), (239, 1), (319, 1), (342, 1)],\n",
            " [(144, 1)],\n",
            " [(2, 1), (14, 1), (26, 1), (343, 1)],\n",
            " [(252, 1), (253, 1), (344, 1)],\n",
            " [(169, 1), (229, 1)],\n",
            " [(60, 1), (66, 1)],\n",
            " [(28, 1), (30, 1), (33, 1), (140, 1)],\n",
            " [(40, 1), (193, 1), (235, 1)],\n",
            " [(28, 1), (39, 1), (345, 1)],\n",
            " [(239, 1), (346, 1), (347, 1)],\n",
            " [(239, 1), (348, 1)],\n",
            " [(159, 1), (254, 1), (349, 1), (350, 1)],\n",
            " [(351, 1)],\n",
            " [(66, 1), (352, 1)],\n",
            " [(44, 1), (165, 1), (322, 1)],\n",
            " [(144, 1), (353, 1)],\n",
            " [(353, 1)],\n",
            " [(47, 1), (49, 1), (87, 1), (147, 1), (354, 1), (355, 1)],\n",
            " [(33, 1), (356, 1), (357, 1), (358, 1)],\n",
            " [(28, 1), (185, 1), (359, 1)],\n",
            " [(14, 1), (40, 1), (72, 1), (93, 1), (155, 1)],\n",
            " [(14, 1), (26, 1), (28, 1), (72, 1)],\n",
            " [(26, 1), (28, 1), (72, 1)],\n",
            " [(11, 1), (21, 1), (26, 1), (360, 1), (361, 1)],\n",
            " [(2, 1), (14, 1), (26, 1), (28, 1)],\n",
            " [(14, 1), (66, 1)],\n",
            " [(2, 1), (14, 1), (16, 1), (147, 1)],\n",
            " [(14, 1), (26, 1), (181, 1)],\n",
            " [(362, 1)],\n",
            " [(14, 1), (363, 1)],\n",
            " [],\n",
            " [(11, 1), (26, 1), (28, 1), (72, 1), (123, 1)],\n",
            " [(312, 1), (313, 1), (314, 1)],\n",
            " [(1, 1), (48, 1), (53, 1), (313, 1), (364, 1)],\n",
            " [(66, 1), (93, 1), (365, 1)],\n",
            " [(26, 1), (366, 1), (367, 1), (368, 1)],\n",
            " [(369, 1)],\n",
            " [(13, 1), (16, 1), (66, 1), (103, 1), (134, 1), (370, 1)],\n",
            " [(47, 1), (371, 1)],\n",
            " [(222, 1), (239, 1), (338, 1), (372, 1)],\n",
            " [(14, 1), (164, 1)],\n",
            " [(14, 1), (37, 1), (94, 1)],\n",
            " [(14, 1), (90, 1), (147, 1), (247, 1), (373, 1), (374, 1)],\n",
            " [(159, 1), (359, 1)],\n",
            " [(94, 1), (359, 1), (375, 1)],\n",
            " [(94, 1), (159, 1), (195, 1)],\n",
            " [(28, 1), (376, 1)],\n",
            " [(197, 1), (377, 1), (378, 1), (379, 1)],\n",
            " [(26, 1), (28, 1), (131, 1), (235, 1), (380, 1)],\n",
            " [(28, 1), (66, 1), (381, 1)],\n",
            " [(382, 1)],\n",
            " [(383, 1)],\n",
            " [(7, 1), (28, 1), (189, 1), (384, 1), (385, 1)],\n",
            " [(198, 1), (373, 1)],\n",
            " [(18, 1), (33, 1), (155, 1)],\n",
            " [(231, 1), (386, 1)],\n",
            " [(164, 1), (191, 1), (387, 1), (388, 1), (389, 1)],\n",
            " [(14, 1), (72, 1), (373, 1)],\n",
            " [(42, 1), (390, 1)],\n",
            " [(195, 1), (217, 1), (315, 1), (391, 1)],\n",
            " [(329, 1), (392, 1), (393, 1)],\n",
            " [(394, 1)],\n",
            " [(1, 2), (10, 1), (160, 1), (195, 1)],\n",
            " [(395, 1)],\n",
            " [(42, 1), (251, 1), (396, 1), (397, 1)],\n",
            " [(5, 1), (7, 1), (56, 1), (156, 1), (398, 1)],\n",
            " [(161, 1), (328, 1), (329, 1), (397, 1)],\n",
            " [(101, 1), (136, 1), (322, 1), (399, 1), (400, 1)],\n",
            " [(13, 1), (28, 1), (32, 1)],\n",
            " [(2, 1), (14, 1)],\n",
            " [(18, 1), (33, 1), (371, 1), (401, 1)],\n",
            " [(28, 1), (33, 1), (110, 1), (238, 1), (402, 1)],\n",
            " [(33, 1), (190, 1), (379, 1), (403, 1)],\n",
            " [(37, 1)],\n",
            " [(66, 2), (169, 1), (220, 1), (268, 1), (315, 1)],\n",
            " [(18, 1), (33, 1), (93, 1), (172, 1), (251, 1), (357, 1), (401, 1)],\n",
            " [(12, 1), (117, 1)],\n",
            " [(0, 1), (26, 1), (123, 1), (147, 1), (159, 1), (272, 1)],\n",
            " [(404, 1), (405, 1)],\n",
            " [(5, 1), (147, 1), (247, 1)],\n",
            " [(66, 1), (239, 1), (348, 1)],\n",
            " [(84, 1), (101, 1), (198, 1)],\n",
            " [(33, 1), (91, 1), (307, 1), (406, 1)],\n",
            " [(407, 1)],\n",
            " [(2, 1), (47, 1), (49, 1), (87, 1)],\n",
            " [(47, 1), (49, 1), (66, 1), (87, 1)],\n",
            " [(9, 1)],\n",
            " [(169, 1), (408, 1)],\n",
            " [(46, 1), (229, 1), (409, 1)],\n",
            " [(251, 1), (252, 1), (410, 1)],\n",
            " [(66, 1), (193, 1), (194, 1), (199, 1)],\n",
            " [(33, 1), (325, 1), (326, 1), (411, 1), (412, 1)],\n",
            " [(171, 1)],\n",
            " [(9, 1), (409, 1)],\n",
            " [(413, 1)],\n",
            " [],\n",
            " [(47, 1), (49, 1), (72, 1), (87, 1)],\n",
            " [(101, 1), (136, 1), (400, 1)],\n",
            " [(272, 1)],\n",
            " [(414, 1)],\n",
            " [],\n",
            " [(170, 1)],\n",
            " [(42, 1), (94, 1), (415, 1)],\n",
            " [(72, 1), (397, 1)],\n",
            " [(416, 1)],\n",
            " [(1, 1), (26, 1), (28, 1), (30, 1), (39, 1), (42, 1), (417, 1), (418, 1)],\n",
            " [(26, 1), (28, 1), (123, 1), (417, 1), (418, 1)],\n",
            " [(11, 1),\n",
            "  (26, 1),\n",
            "  (28, 2),\n",
            "  (67, 1),\n",
            "  (72, 1),\n",
            "  (123, 1),\n",
            "  (417, 1),\n",
            "  (418, 1),\n",
            "  (419, 1)],\n",
            " [(26, 1), (28, 1), (123, 1), (417, 1), (418, 1)],\n",
            " [(26, 1), (28, 1), (123, 1), (417, 1), (418, 1)],\n",
            " [(26, 1), (28, 1), (417, 1), (418, 1)],\n",
            " [(26, 1), (28, 1), (33, 1), (39, 1), (99, 1), (417, 1), (418, 1), (420, 1)],\n",
            " [(26, 1), (28, 1), (80, 1), (123, 1), (417, 1), (418, 1), (421, 1)],\n",
            " [(26, 1), (28, 1), (417, 1), (418, 1), (422, 1)],\n",
            " [(28, 1), (80, 1), (111, 1), (423, 1)],\n",
            " [(28, 1), (423, 1)],\n",
            " [(1, 1), (26, 1), (28, 1), (80, 1), (322, 1), (423, 1), (424, 1), (425, 1)],\n",
            " [(26, 1), (123, 1), (426, 1), (427, 1)],\n",
            " [(26, 1), (28, 1), (123, 1), (428, 1)],\n",
            " [(16, 1), (33, 1), (66, 2), (72, 1), (429, 1)],\n",
            " [(66, 1), (99, 1), (429, 1), (430, 1), (431, 1)],\n",
            " [(47, 1), (212, 1), (371, 1), (432, 1)],\n",
            " [(2, 1), (13, 1), (16, 1), (28, 1), (33, 1), (85, 1), (433, 1)],\n",
            " [(9, 1), (47, 1), (244, 1), (371, 1)],\n",
            " [(404, 1), (434, 1)],\n",
            " [(404, 1)],\n",
            " [(192, 1)],\n",
            " [(254, 1)],\n",
            " [(32, 1), (435, 1), (436, 1)],\n",
            " [(28, 1), (66, 1)],\n",
            " [(13, 1), (28, 1)],\n",
            " [(168, 1), (437, 1), (438, 1)],\n",
            " [(56, 1), (191, 1), (258, 1), (259, 1)],\n",
            " [],\n",
            " [(244, 1), (439, 1)],\n",
            " [(248, 1), (249, 1)],\n",
            " [],\n",
            " [(74, 1), (160, 1)],\n",
            " [(14, 1), (440, 1)],\n",
            " [],\n",
            " [(168, 1), (262, 1)],\n",
            " [(222, 1), (263, 1)],\n",
            " [(11, 1), (209, 1), (230, 1)],\n",
            " [(77, 1), (265, 1), (270, 1)],\n",
            " [(0, 1), (195, 1)],\n",
            " [(31, 1), (265, 1)],\n",
            " [(11, 1), (240, 1), (266, 1), (267, 1)],\n",
            " [(12, 1), (56, 1)],\n",
            " [(169, 1)],\n",
            " [(61, 1), (441, 1)],\n",
            " [(270, 1), (271, 1), (272, 1)],\n",
            " [(273, 1)],\n",
            " [(1, 1), (442, 1)],\n",
            " [(51, 1), (52, 1), (274, 1)],\n",
            " [(443, 1)],\n",
            " [(14, 1), (94, 1), (307, 1), (444, 1)],\n",
            " [],\n",
            " [],\n",
            " [(259, 1), (276, 1)],\n",
            " [(212, 1), (279, 1), (280, 1)],\n",
            " [(42, 1), (191, 1)],\n",
            " [(229, 1), (282, 1)],\n",
            " [(131, 1), (266, 1)],\n",
            " [(168, 1), (257, 1)],\n",
            " [(26, 1), (33, 1), (283, 1), (445, 1)],\n",
            " [(9, 1), (96, 1), (284, 1)],\n",
            " [(180, 1), (286, 1)],\n",
            " [(9, 1)],\n",
            " [(60, 1), (160, 1)],\n",
            " [(1, 1), (9, 1), (288, 1)],\n",
            " [(261, 1)],\n",
            " [(26, 1),\n",
            "  (28, 1),\n",
            "  (33, 1),\n",
            "  (84, 1),\n",
            "  (160, 1),\n",
            "  (170, 1),\n",
            "  (249, 1),\n",
            "  (258, 1),\n",
            "  (446, 1),\n",
            "  (447, 1),\n",
            "  (448, 1)],\n",
            " [(231, 1), (449, 1), (450, 1)],\n",
            " [],\n",
            " [(41, 1), (212, 1)],\n",
            " [(5, 1), (289, 1)],\n",
            " [(259, 1), (290, 1)],\n",
            " [(291, 1)],\n",
            " [(293, 1), (294, 1), (296, 1)],\n",
            " [(16, 1), (39, 1)],\n",
            " [(297, 1), (298, 1), (299, 1)],\n",
            " [(7, 1), (14, 1), (114, 1), (140, 1), (239, 1), (300, 1), (301, 1)],\n",
            " [(302, 1)],\n",
            " [(41, 1), (230, 1)],\n",
            " [(41, 1), (71, 1), (72, 1), (96, 1)],\n",
            " [(1, 1), (229, 1), (281, 1), (304, 1), (305, 1)],\n",
            " [(257, 1)],\n",
            " [(306, 1)],\n",
            " [(123, 1)],\n",
            " [],\n",
            " [(14, 1), (53, 1)],\n",
            " [(66, 1)],\n",
            " [(91, 1), (307, 1), (308, 1), (309, 1), (310, 1)],\n",
            " [(66, 1), (159, 1)],\n",
            " [(11, 1), (13, 1), (21, 1)],\n",
            " [(16, 1), (147, 1)],\n",
            " [(16, 1), (147, 1)],\n",
            " [],\n",
            " [(33, 1), (209, 1), (210, 1)],\n",
            " [(11, 1), (90, 1)],\n",
            " [(155, 1), (451, 1)],\n",
            " [(2, 1), (4, 1), (452, 1), (453, 1)],\n",
            " [(33, 1), (66, 1)],\n",
            " [(361, 1)],\n",
            " [(71, 1), (454, 1)],\n",
            " [(2, 1), (71, 1)],\n",
            " [(2, 1), (71, 1)],\n",
            " [(72, 1)],\n",
            " [(72, 1)],\n",
            " [(66, 1), (71, 1)],\n",
            " [(66, 1), (71, 1)],\n",
            " [(72, 1)],\n",
            " [(71, 1)],\n",
            " [(72, 1)],\n",
            " [(47, 1), (57, 1), (371, 1)],\n",
            " [(455, 1)],\n",
            " [(14, 1)],\n",
            " [(7, 1), (10, 1), (456, 1)],\n",
            " [(57, 1), (191, 1)],\n",
            " [(70, 1), (457, 1), (458, 1)],\n",
            " [(155, 1), (451, 1)],\n",
            " [(26, 1), (28, 1), (123, 1)],\n",
            " [(452, 1), (453, 1)],\n",
            " [(33, 1), (66, 1)],\n",
            " [(361, 1)],\n",
            " [(272, 1), (278, 1)],\n",
            " [(85, 1)],\n",
            " [(72, 1)],\n",
            " [(72, 1)],\n",
            " [(66, 1)],\n",
            " [(66, 1)],\n",
            " [(66, 1)],\n",
            " [(66, 1)],\n",
            " [(66, 1)],\n",
            " [(66, 1)],\n",
            " [(158, 1)],\n",
            " [(13, 1)],\n",
            " [(147, 1)],\n",
            " [(147, 1)],\n",
            " [(147, 1)],\n",
            " [(459, 1)],\n",
            " [(460, 1)],\n",
            " [(323, 1), (461, 1)],\n",
            " [(66, 1)],\n",
            " [(66, 1)],\n",
            " [(14, 1), (66, 1), (462, 1)],\n",
            " [(14, 1), (66, 2)],\n",
            " [(14, 1), (66, 1), (292, 1)],\n",
            " [(1, 1), (66, 1), (463, 1), (464, 1)],\n",
            " [(66, 1), (465, 1)],\n",
            " [(28, 1), (66, 1)],\n",
            " [(28, 1), (66, 1)],\n",
            " [(28, 1), (66, 1)],\n",
            " [],\n",
            " [(442, 1), (466, 1)],\n",
            " [(14, 1), (467, 1)],\n",
            " [(420, 1), (464, 1)],\n",
            " [(468, 1)],\n",
            " [(144, 1), (379, 1), (469, 1)],\n",
            " [(470, 1)],\n",
            " [(66, 1), (322, 1)],\n",
            " [(47, 1), (97, 1), (471, 1)],\n",
            " [(472, 1), (473, 1)],\n",
            " [],\n",
            " [],\n",
            " [(39, 1), (156, 1)],\n",
            " [(474, 1)],\n",
            " [],\n",
            " [(63, 1), (74, 1), (352, 1)],\n",
            " [(185, 1)],\n",
            " [(334, 1), (475, 1)],\n",
            " [(0, 1)],\n",
            " [(317, 1)],\n",
            " [(2, 1)],\n",
            " [(476, 1)],\n",
            " [(66, 1)],\n",
            " [(185, 1)],\n",
            " [(72, 1), (477, 1)],\n",
            " [(39, 1)],\n",
            " [(9, 1)],\n",
            " [(185, 1), (271, 1), (334, 1)],\n",
            " [(26, 1), (28, 1), (71, 1), (72, 2)],\n",
            " [(156, 1)],\n",
            " [(0, 1), (239, 1), (245, 1), (478, 1), (479, 1)],\n",
            " [(26, 1), (28, 1), (66, 1), (156, 1), (417, 1), (418, 1), (435, 1), (480, 1)],\n",
            " [(1, 1), (12, 1), (39, 1), (164, 1)],\n",
            " [(2, 1), (28, 1), (33, 1), (40, 1), (90, 1), (122, 1), (429, 1)],\n",
            " [(26, 1), (28, 1), (71, 1), (72, 2)],\n",
            " [(2, 1), (28, 1), (33, 1), (40, 1), (90, 1), (122, 1), (429, 1)],\n",
            " [(2, 1), (26, 1), (28, 1), (71, 1), (429, 1)],\n",
            " [(39, 1), (155, 1)],\n",
            " [(1, 1), (12, 1), (39, 1), (164, 1)],\n",
            " [(13, 1), (28, 1), (155, 1)],\n",
            " [(155, 1), (247, 1), (481, 1), (482, 1)],\n",
            " [(33, 1), (354, 1), (483, 1)],\n",
            " [(26, 1), (123, 1), (380, 1), (435, 1)],\n",
            " [(26, 1), (28, 1), (123, 1)],\n",
            " [(26, 1), (28, 1), (66, 1), (156, 1), (417, 1), (418, 1), (435, 1), (480, 1)],\n",
            " [(66, 1), (155, 1), (484, 1)],\n",
            " [(75, 1), (156, 1), (271, 1)],\n",
            " [(0, 1), (239, 1), (245, 1), (478, 1), (479, 1)],\n",
            " [(156, 1)],\n",
            " [(32, 1), (435, 1)],\n",
            " [(0, 1), (90, 1), (137, 1), (485, 1)],\n",
            " [(1, 1), (19, 1), (66, 1), (71, 1), (134, 1), (471, 1)],\n",
            " [(16, 1), (72, 1)],\n",
            " [(160, 1), (251, 1), (439, 1), (486, 1)],\n",
            " [(0, 1), (290, 1)],\n",
            " [],\n",
            " [(61, 1), (168, 1), (262, 1), (319, 1)],\n",
            " [(33, 1), (80, 1), (379, 1), (487, 1)],\n",
            " [(488, 1), (489, 1)],\n",
            " [(52, 1), (84, 1), (101, 1), (248, 1), (405, 1), (490, 1)],\n",
            " [(491, 1)],\n",
            " [(106, 1), (156, 1), (185, 1)],\n",
            " [(492, 1)],\n",
            " [(28, 1), (96, 1), (189, 1), (239, 1)],\n",
            " [(1, 1), (39, 1), (90, 1), (366, 1)],\n",
            " [(0, 1), (1, 1), (14, 1), (66, 1), (71, 1), (72, 1), (379, 1)],\n",
            " [(493, 1)],\n",
            " [],\n",
            " [(77, 1), (154, 1), (265, 1), (297, 1), (494, 1), (495, 1)],\n",
            " [(0, 1), (1, 1), (7, 1), (26, 1), (168, 1), (257, 1), (496, 1)],\n",
            " [(2, 1), (16, 1), (28, 1), (66, 1)],\n",
            " [(0, 1), (41, 1), (497, 1), (498, 1)],\n",
            " [(33, 1), (40, 1), (187, 1), (193, 1), (194, 1), (199, 1), (211, 1), (499, 1)],\n",
            " [(16, 1), (40, 1), (60, 2), (66, 1), (233, 1)],\n",
            " [(77, 1), (134, 1), (289, 1), (500, 1), (501, 1)],\n",
            " [(28, 1), (75, 1), (502, 1)],\n",
            " [(13, 1), (16, 1), (60, 1), (72, 1), (379, 1)],\n",
            " [(503, 1)],\n",
            " [(42, 1), (171, 1), (251, 1)],\n",
            " [(251, 1), (252, 1)],\n",
            " [(33, 1), (72, 1), (129, 1), (240, 1), (429, 1), (504, 1), (505, 1), (506, 1)],\n",
            " [(11, 1), (266, 1), (427, 1)],\n",
            " [(2, 1), (66, 1), (71, 1), (375, 1), (507, 1), (508, 1)],\n",
            " [(181, 1), (509, 1), (510, 1), (511, 1)],\n",
            " [(66, 1), (496, 1)],\n",
            " [(239, 1), (254, 1)],\n",
            " [(48, 1), (181, 1), (239, 1)],\n",
            " [(58, 1),\n",
            "  (159, 1),\n",
            "  (239, 1),\n",
            "  (267, 1),\n",
            "  (417, 1),\n",
            "  (456, 1),\n",
            "  (496, 1),\n",
            "  (512, 1)],\n",
            " [(222, 1), (239, 2), (338, 1)],\n",
            " [(11, 1), (222, 2), (267, 1), (338, 1)],\n",
            " [(222, 1), (239, 1), (338, 1), (513, 1)],\n",
            " [(240, 1), (256, 1), (514, 1), (515, 1)],\n",
            " [(26, 1), (28, 1), (31, 1), (516, 1)],\n",
            " [(7, 1), (168, 1)],\n",
            " [(7, 1), (168, 1), (319, 1)],\n",
            " [(7, 1), (168, 1)],\n",
            " [(7, 1), (168, 1), (319, 1)],\n",
            " [(168, 1), (257, 1), (271, 1), (378, 1)],\n",
            " [(198, 1)],\n",
            " [(0, 1), (248, 1)],\n",
            " [(48, 1), (71, 1), (517, 1)],\n",
            " [(17, 1), (40, 1), (104, 1), (155, 1), (199, 1)],\n",
            " [(16, 1),\n",
            "  (17, 1),\n",
            "  (72, 3),\n",
            "  (90, 1),\n",
            "  (99, 1),\n",
            "  (257, 1),\n",
            "  (322, 1),\n",
            "  (518, 1),\n",
            "  (519, 1),\n",
            "  (520, 1)],\n",
            " [(168, 1), (257, 1), (271, 1), (378, 1)],\n",
            " [(2, 1), (12, 1), (14, 1), (56, 1), (77, 1), (480, 1), (521, 1)],\n",
            " [(28, 1), (522, 1)],\n",
            " [(209, 1), (210, 1)],\n",
            " [(33, 1), (523, 1)],\n",
            " [(33, 1), (523, 1)],\n",
            " [(16, 1), (33, 1), (72, 1), (523, 1), (524, 1)],\n",
            " [(48, 1), (523, 1)],\n",
            " [(14, 1), (523, 1)],\n",
            " [(26, 1), (60, 1), (462, 1), (496, 1)],\n",
            " [(144, 2),\n",
            "  (156, 1),\n",
            "  (160, 1),\n",
            "  (239, 1),\n",
            "  (278, 1),\n",
            "  (378, 1),\n",
            "  (429, 1),\n",
            "  (525, 1),\n",
            "  (526, 1),\n",
            "  (527, 1),\n",
            "  (528, 1),\n",
            "  (529, 1)],\n",
            " [(14, 1), (160, 1), (429, 1)],\n",
            " [(14, 1), (71, 1), (94, 1), (160, 1)],\n",
            " [(60, 1), (160, 1), (168, 1), (295, 1), (530, 1), (531, 1), (532, 1)],\n",
            " [(14, 1), (160, 1)],\n",
            " [(160, 1), (429, 1)],\n",
            " [(80, 1), (123, 1), (239, 1)],\n",
            " [(26, 1), (181, 1), (239, 1)],\n",
            " [(14, 1), (72, 1), (181, 1), (239, 1)],\n",
            " [(1, 1), (12, 1), (19, 1), (336, 1)],\n",
            " [(1, 1), (2, 1), (12, 1), (14, 1), (16, 1), (487, 1)],\n",
            " [(1, 1), (12, 1), (26, 1), (28, 1)],\n",
            " [(1, 1), (12, 1), (66, 1), (77, 1), (533, 1)],\n",
            " [(1, 1), (7, 1), (12, 1), (186, 1), (534, 1)],\n",
            " [(28, 1), (535, 1)],\n",
            " [(42, 1), (535, 1)],\n",
            " [(42, 1), (535, 1)],\n",
            " [(15, 1), (291, 1), (503, 1)],\n",
            " [(72, 1), (202, 1), (536, 1)],\n",
            " [(56, 1), (535, 1)],\n",
            " [(56, 1), (458, 1), (535, 1)],\n",
            " [(33, 1),\n",
            "  (56, 1),\n",
            "  (117, 1),\n",
            "  (155, 1),\n",
            "  (352, 1),\n",
            "  (388, 1),\n",
            "  (531, 1),\n",
            "  (535, 1),\n",
            "  (537, 1),\n",
            "  (538, 1)],\n",
            " [(56, 1), (488, 1), (530, 1), (531, 1), (532, 1), (535, 1)],\n",
            " [(56, 1), (535, 1)],\n",
            " [(56, 1), (535, 1)],\n",
            " [(12, 1), (56, 1), (535, 1)],\n",
            " [(56, 1), (535, 1)],\n",
            " [(0, 1), (1, 1), (56, 1), (99, 1), (535, 1)],\n",
            " [(266, 1)],\n",
            " [(503, 1), (539, 1)],\n",
            " [(0, 1), (17, 1), (56, 1), (503, 1), (540, 1)],\n",
            " [(56, 2), (535, 1)],\n",
            " [(56, 1), (535, 1)],\n",
            " [(56, 1), (535, 1)],\n",
            " [(26, 1), (28, 1), (123, 1)],\n",
            " [(26, 1), (28, 1)],\n",
            " [(26, 1), (28, 1), (123, 1)],\n",
            " [(11, 1), (26, 1), (62, 1), (66, 1), (72, 1)],\n",
            " [(26, 1), (28, 1), (431, 1)],\n",
            " [(26, 1), (28, 1), (123, 1), (421, 1)],\n",
            " [(26, 1), (28, 1)],\n",
            " [(26, 1), (28, 1), (123, 1)],\n",
            " [],\n",
            " [(28, 1), (123, 1), (196, 1)],\n",
            " [(18, 1), (28, 1), (116, 1)],\n",
            " [(13, 1), (28, 1)],\n",
            " [(13, 1),\n",
            "  (28, 3),\n",
            "  (66, 2),\n",
            "  (212, 1),\n",
            "  (417, 1),\n",
            "  (418, 1),\n",
            "  (484, 1),\n",
            "  (541, 1),\n",
            "  (542, 1),\n",
            "  (543, 1),\n",
            "  (544, 1)],\n",
            " [(26, 1)],\n",
            " [(13, 1), (245, 1), (545, 1)],\n",
            " [(39, 1), (156, 1)],\n",
            " [(546, 1), (547, 1)],\n",
            " [(94, 1), (257, 1), (420, 1), (534, 1)],\n",
            " [(28, 1), (40, 1), (431, 1)],\n",
            " [(229, 1),\n",
            "  (256, 1),\n",
            "  (548, 1),\n",
            "  (549, 1),\n",
            "  (550, 1),\n",
            "  (551, 1),\n",
            "  (552, 1),\n",
            "  (553, 1)],\n",
            " [(14, 1), (26, 1), (28, 1), (31, 1), (56, 1), (362, 1), (554, 1)],\n",
            " [(171, 1)],\n",
            " [(555, 1), (556, 1), (557, 1)],\n",
            " [(315, 1), (558, 1)],\n",
            " [(1, 1), (5, 1), (168, 1), (211, 1), (315, 1), (558, 1), (559, 1)],\n",
            " [(193, 1), (194, 1), (195, 1)],\n",
            " [(28, 1), (33, 1), (41, 1), (52, 1), (80, 1), (191, 1), (384, 1), (560, 1)],\n",
            " [(14, 1), (26, 1), (28, 1), (31, 1), (56, 1), (66, 1), (362, 1), (554, 1)],\n",
            " [(42, 1), (160, 1), (251, 1)],\n",
            " [(42, 1), (170, 1)],\n",
            " [(110, 1)],\n",
            " [(1, 1),\n",
            "  (9, 1),\n",
            "  (11, 1),\n",
            "  (33, 1),\n",
            "  (155, 1),\n",
            "  (523, 1),\n",
            "  (561, 1),\n",
            "  (562, 1),\n",
            "  (563, 1)],\n",
            " [(0, 1), (56, 1)],\n",
            " [(60, 1), (493, 1)],\n",
            " [(0, 1), (239, 1), (564, 1)],\n",
            " [(16, 1), (26, 1), (28, 1), (66, 1), (263, 1)],\n",
            " [(0, 1), (12, 1), (26, 1), (28, 1), (39, 1), (56, 1), (67, 1), (382, 1)],\n",
            " [(0, 1), (39, 1), (565, 1)],\n",
            " [(0, 1), (1, 1), (28, 1), (30, 1)],\n",
            " [(0, 1), (1, 1)],\n",
            " [(0, 1), (1, 1), (39, 1), (496, 1)],\n",
            " [(0, 1), (14, 1), (39, 1), (56, 1), (66, 1), (435, 1)],\n",
            " [(0, 1), (1, 1), (26, 1), (28, 1), (123, 1)],\n",
            " [(420, 1), (566, 1), (567, 1)],\n",
            " [(28, 1), (212, 1), (566, 1), (568, 1)],\n",
            " [(1, 1), (569, 1), (570, 1)],\n",
            " [(160, 1), (316, 1)],\n",
            " [(316, 1)],\n",
            " [(44, 1), (321, 1)]]\n"
          ],
          "name": "stdout"
        }
      ]
    },
    {
      "cell_type": "code",
      "metadata": {
        "colab": {
          "base_uri": "https://localhost:8080/",
          "height": 36
        },
        "id": "g2KTwmPL7VND",
        "outputId": "e3fd3619-6bfb-491f-fbec-6bd52b2588aa"
      },
      "source": [
        "# Use dictionary to get a human readable output:\r\n",
        "id2word[1]"
      ],
      "execution_count": null,
      "outputs": [
        {
          "output_type": "execute_result",
          "data": {
            "application/vnd.google.colaboratory.intrinsic+json": {
              "type": "string"
            },
            "text/plain": [
              "'room'"
            ]
          },
          "metadata": {
            "tags": []
          },
          "execution_count": 109
        }
      ]
    },
    {
      "cell_type": "code",
      "metadata": {
        "colab": {
          "base_uri": "https://localhost:8080/"
        },
        "id": "Erv0Z5ZC7VJ0",
        "outputId": "a22ff251-fdf1-4523-b5a8-fd1f5982b7ee"
      },
      "source": [
        "# Combine information in corpus and dictionary\r\n",
        "[[(id2word[id], freq) for id, freq in cp] for cp in corpus[0:2]]"
      ],
      "execution_count": null,
      "outputs": [
        {
          "output_type": "execute_result",
          "data": {
            "text/plain": [
              "[[('clean', 1), ('room', 1)], [('excellent', 1), ('money', 1), ('value', 1)]]"
            ]
          },
          "metadata": {
            "tags": []
          },
          "execution_count": 110
        }
      ]
    },
    {
      "cell_type": "markdown",
      "metadata": {
        "id": "TPqCIOyNEXq0"
      },
      "source": [
        "## Build the Topicmodel\r\n",
        "\r\n",
        "What do we need to run a topicmodel:\r\n",
        "- dictionary\r\n",
        "- corpus\r\n",
        "- Number of topics.\r\n",
        "   \r\n",
        "**Hyperparamter Tuning** here:\r\n",
        "- alpha and eta, they affect the sparsity of the topics.\r\n",
        "  \r\n",
        "**More parameters:**\r\n",
        "- chunksize: number of documents to be used in each training chunk\r\n",
        "- update_every\r\n",
        "- passes: total number of trainin passes"
      ]
    },
    {
      "cell_type": "code",
      "metadata": {
        "id": "VMcCunut6hKu"
      },
      "source": [
        "# Build the LDA model\r\n",
        "lda_model = gensim.models.ldamodel.LdaModel(corpus = corpus,\r\n",
        "                                            num_topics = 7, \r\n",
        "                                            id2word = id2word, \r\n",
        "                                            random_state = 100, \r\n",
        "                                            update_every = 1,\r\n",
        "                                            chunksize = 100,\r\n",
        "                                            passes = 10,\r\n",
        "                                            alpha = 'auto',\r\n",
        "                                            per_word_topics = True)\r\n"
      ],
      "execution_count": null,
      "outputs": []
    },
    {
      "cell_type": "code",
      "metadata": {
        "colab": {
          "base_uri": "https://localhost:8080/"
        },
        "id": "NfkesjDUEVLS",
        "outputId": "9b6e0f42-795b-4588-e6be-94c80b72b4ef"
      },
      "source": [
        "pprint(lda_model.print_topics())"
      ],
      "execution_count": null,
      "outputs": [
        {
          "output_type": "stream",
          "text": [
            "[(0,\n",
            "  '0.096*\"location\" + 0.077*\"excellent\" + 0.039*\"perfect\" + 0.035*\"poor\" + '\n",
            "  '0.032*\"back\" + 0.031*\"dirty\" + 0.030*\"come\" + 0.023*\"never\" + '\n",
            "  '0.020*\"beautiful\" + 0.020*\"definitely\"'),\n",
            " (1,\n",
            "  '0.143*\"bed\" + 0.095*\"clean\" + 0.088*\"loved\" + 0.031*\"expensive\" + '\n",
            "  '0.030*\"access\" + 0.026*\"well\" + 0.020*\"old\" + 0.017*\"guest\" + '\n",
            "  '0.011*\"uncomfortable\" + 0.011*\"early\"'),\n",
            " (2,\n",
            "  '0.166*\"good\" + 0.069*\"internet\" + 0.048*\"free\" + 0.045*\"price\" + '\n",
            "  '0.045*\"small\" + 0.044*\"food\" + 0.032*\"restaurant\" + 0.023*\"soundproof\" + '\n",
            "  '0.016*\"ratio\" + 0.016*\"performance\"'),\n",
            " (3,\n",
            "  '0.190*\"staff\" + 0.124*\"friendly\" + 0.113*\"great\" + 0.064*\"hotel\" + '\n",
            "  '0.050*\"helpful\" + 0.026*\"breakfast\" + 0.026*\"stay\" + 0.021*\"desk\" + '\n",
            "  '0.019*\"front\" + 0.015*\"average\"'),\n",
            " (4,\n",
            "  '0.138*\"service\" + 0.091*\"nice\" + 0.079*\"check\" + 0.046*\"upgrade\" + '\n",
            "  '0.034*\"wonderful\" + 0.026*\"people\" + 0.021*\"reception\" + 0.021*\"fast\" + '\n",
            "  '0.020*\"quick\" + 0.020*\"expect\"'),\n",
            " (5,\n",
            "  '0.148*\"room\" + 0.059*\"bad\" + 0.050*\"clean\" + 0.047*\"outstanding\" + '\n",
            "  '0.045*\"bathroom\" + 0.026*\"smell\" + 0.023*\"love\" + 0.022*\"quiet\" + '\n",
            "  '0.021*\"lobby\" + 0.019*\"spacious\"'),\n",
            " (6,\n",
            "  '0.072*\"comfortable\" + 0.048*\"facility\" + 0.040*\"always\" + 0.039*\"bar\" + '\n",
            "  '0.032*\"employee\" + 0.023*\"shuttle\" + 0.023*\"available\" + 0.021*\"tiny\" + '\n",
            "  '0.019*\"work\" + 0.019*\"reservation\"')]\n"
          ],
          "name": "stdout"
        }
      ]
    },
    {
      "cell_type": "markdown",
      "metadata": {
        "id": "HWM15sfLFDQm"
      },
      "source": [
        "## Expand the toolbox: Better visualization if the topics and the corresponding words!\r\n",
        "\r\n",
        "Let us use the `pyLDAvis` package here! It offers an interactive way to investigate the model."
      ]
    },
    {
      "cell_type": "code",
      "metadata": {
        "colab": {
          "base_uri": "https://localhost:8080/"
        },
        "id": "hjRB7JIU6hM6",
        "outputId": "d33d4dad-5d8b-445c-c6b4-31b007121221"
      },
      "source": [
        "# pip or apt: https://askubuntu.com/questions/431780/apt-get-install-vs-pip-install\r\n",
        "!pip install pyLDAvis==2.1.2"
      ],
      "execution_count": null,
      "outputs": [
        {
          "output_type": "stream",
          "text": [
            "Requirement already satisfied: pyLDAvis==2.1.2 in /usr/local/lib/python3.6/dist-packages (2.1.2)\n",
            "Requirement already satisfied: numpy>=1.9.2 in /usr/local/lib/python3.6/dist-packages (from pyLDAvis==2.1.2) (1.19.5)\n",
            "Requirement already satisfied: jinja2>=2.7.2 in /usr/local/lib/python3.6/dist-packages (from pyLDAvis==2.1.2) (2.11.3)\n",
            "Requirement already satisfied: pytest in /usr/local/lib/python3.6/dist-packages (from pyLDAvis==2.1.2) (3.6.4)\n",
            "Requirement already satisfied: scipy>=0.18.0 in /usr/local/lib/python3.6/dist-packages (from pyLDAvis==2.1.2) (1.4.1)\n",
            "Requirement already satisfied: future in /usr/local/lib/python3.6/dist-packages (from pyLDAvis==2.1.2) (0.16.0)\n",
            "Requirement already satisfied: funcy in /usr/local/lib/python3.6/dist-packages (from pyLDAvis==2.1.2) (1.15)\n",
            "Requirement already satisfied: pandas>=0.17.0 in /usr/local/lib/python3.6/dist-packages (from pyLDAvis==2.1.2) (1.1.5)\n",
            "Requirement already satisfied: numexpr in /usr/local/lib/python3.6/dist-packages (from pyLDAvis==2.1.2) (2.7.2)\n",
            "Requirement already satisfied: joblib>=0.8.4 in /usr/local/lib/python3.6/dist-packages (from pyLDAvis==2.1.2) (1.0.0)\n",
            "Requirement already satisfied: wheel>=0.23.0 in /usr/local/lib/python3.6/dist-packages (from pyLDAvis==2.1.2) (0.36.2)\n",
            "Requirement already satisfied: MarkupSafe>=0.23 in /usr/local/lib/python3.6/dist-packages (from jinja2>=2.7.2->pyLDAvis==2.1.2) (1.1.1)\n",
            "Requirement already satisfied: pluggy<0.8,>=0.5 in /usr/local/lib/python3.6/dist-packages (from pytest->pyLDAvis==2.1.2) (0.7.1)\n",
            "Requirement already satisfied: six>=1.10.0 in /usr/local/lib/python3.6/dist-packages (from pytest->pyLDAvis==2.1.2) (1.15.0)\n",
            "Requirement already satisfied: py>=1.5.0 in /usr/local/lib/python3.6/dist-packages (from pytest->pyLDAvis==2.1.2) (1.10.0)\n",
            "Requirement already satisfied: atomicwrites>=1.0 in /usr/local/lib/python3.6/dist-packages (from pytest->pyLDAvis==2.1.2) (1.4.0)\n",
            "Requirement already satisfied: more-itertools>=4.0.0 in /usr/local/lib/python3.6/dist-packages (from pytest->pyLDAvis==2.1.2) (8.6.0)\n",
            "Requirement already satisfied: attrs>=17.4.0 in /usr/local/lib/python3.6/dist-packages (from pytest->pyLDAvis==2.1.2) (20.3.0)\n",
            "Requirement already satisfied: setuptools in /usr/local/lib/python3.6/dist-packages (from pytest->pyLDAvis==2.1.2) (53.0.0)\n",
            "Requirement already satisfied: pytz>=2017.2 in /usr/local/lib/python3.6/dist-packages (from pandas>=0.17.0->pyLDAvis==2.1.2) (2018.9)\n",
            "Requirement already satisfied: python-dateutil>=2.7.3 in /usr/local/lib/python3.6/dist-packages (from pandas>=0.17.0->pyLDAvis==2.1.2) (2.8.1)\n"
          ],
          "name": "stdout"
        }
      ]
    },
    {
      "cell_type": "code",
      "metadata": {
        "id": "G3bxxGmM6hPW"
      },
      "source": [
        "# Visualize the results - to decide how many topics and to find names \r\n",
        "#  for the topics\r\n",
        "import pyLDAvis\r\n",
        "import pyLDAvis.gensim"
      ],
      "execution_count": null,
      "outputs": []
    },
    {
      "cell_type": "code",
      "metadata": {
        "id": "MioSG0CX6hRX"
      },
      "source": [
        "# Visualize the topics\r\n",
        "pyLDAvis.enable_notebook() # initialize\r\n",
        "vis = pyLDAvis.gensim.prepare(lda_model, corpus, id2word)\r\n"
      ],
      "execution_count": null,
      "outputs": []
    },
    {
      "cell_type": "code",
      "metadata": {
        "id": "CX6s7Xj1FIQq"
      },
      "source": [
        "pyLDAvis.enable_notebook(local=True) # initialize"
      ],
      "execution_count": null,
      "outputs": []
    },
    {
      "cell_type": "code",
      "metadata": {
        "id": "thTKLtYnFX9I",
        "colab": {
          "resources": {
            "http://localhost:8080/nbextensions/ldavis.v1.0.0.css": {
              "data": "LyogVGFrZW4gZnJvbSBodHRwczovL2dpdGh1Yi5jb20vY3BzaWV2ZXJ0L0xEQXZpcyAqLwovKiBDb3B5cmlnaHQgMjAxMywgQVQmVCBJbnRlbGxlY3R1YWwgUHJvcGVydHkgKi8KLyogTUlUIExpY2VuY2UgKi8KCnBhdGggewogIGZpbGw6IG5vbmU7CiAgc3Ryb2tlOiBub25lOwp9CgoueGF4aXMgLnRpY2subWFqb3IgewogICAgZmlsbDogYmxhY2s7CiAgICBzdHJva2U6IGJsYWNrOwogICAgc3Ryb2tlLXdpZHRoOiAwLjE7CiAgICBvcGFjaXR5OiAwLjc7Cn0KCi5zbGlkZXJheGlzIHsKICAgIGZpbGw6IGJsYWNrOwogICAgc3Ryb2tlOiBibGFjazsKICAgIHN0cm9rZS13aWR0aDogMC40OwogICAgb3BhY2l0eTogMTsKfQoKdGV4dCB7CiAgICBmb250LWZhbWlseTogc2Fucy1zZXJpZjsKICAgIGZvbnQtc2l6ZTogMTFweDsKfQoKLyogSVB5dGhvbiBOb3RlYm9vayBDU1MgdG8gYWxsb3cgdmlzdWFsaXphdGlvbiB0byBmaXQgKi8KLyogSSdtIG9wZW4gdG8gYSBiZXR0ZXIgd2F5IG9mIGFjY29tcGxpc2hpbmcgdGhpcyBnb2FsLi4uICovCi5jb250YWluZXIgeyB3aWR0aDoxMzUwcHggIWltcG9ydGFudDsgfQovKiBUaGlzIGlzIGZvciBuYnZpZXdlcidzIGJlbmVmaXQgc2luY2UgdGhlIGFib3ZlIHdhc24ndCBlbm91Z2guLi4gKi8KLm91dHB1dF9hcmVhIHsgd2lkdGg6MTQ1MHB4ICFpbXBvcnRhbnQ7IH0K",
              "ok": true,
              "headers": [
                [
                  "content-type",
                  "text/css"
                ]
              ],
              "status": 200,
              "status_text": "OK"
            },
            "http://localhost:8080/nbextensions/d3.v3.min.js": {
              "data": "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",
              "ok": true,
              "headers": [
                [
                  "content-type",
                  "application/javascript"
                ]
              ],
              "status": 200,
              "status_text": "OK"
            },
            "http://localhost:8080/nbextensions/ldavis.v1.0.0.js": {
              "data": "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",
              "ok": true,
              "headers": [
                [
                  "content-type",
                  "application/javascript"
                ]
              ],
              "status": 200,
              "status_text": "OK"
            }
          },
          "base_uri": "https://localhost:8080/",
          "height": 861
        },
        "outputId": "35475284-5f49-4b50-b1d3-d44d9c5d0403"
      },
      "source": [
        "vis"
      ],
      "execution_count": null,
      "outputs": [
        {
          "output_type": "execute_result",
          "data": {
            "text/html": [
              "\n",
              "<link rel=\"stylesheet\" type=\"text/css\" href=\"/nbextensions/ldavis.v1.0.0.css\">\n",
              "\n",
              "\n",
              "<div id=\"ldavis_el1681404753409582401726354494\"></div>\n",
              "<script type=\"text/javascript\">\n",
              "\n",
              "var ldavis_el1681404753409582401726354494_data = {\"mdsDat\": {\"x\": [-0.360278108241062, 0.10700098867253792, 0.029602531055409362, 0.1325059907100059, 0.0219711474038827, 0.007600990372543045, 0.06159646002668362], \"y\": [-0.08047712369556784, -0.19165465131585302, 0.17069842969798577, -0.18097255076353896, 0.09056404379479943, 0.062350454696565735, 0.12949139758560899], \"topics\": [1, 2, 3, 4, 5, 6, 7], \"cluster\": [1, 1, 1, 1, 1, 1, 1], \"Freq\": [26.080652294405144, 14.410127150576999, 12.874626016626422, 12.849874885734996, 12.671670679463665, 10.601241950257581, 10.511807022935194]}, \"tinfo\": {\"Term\": [\"staff\", \"good\", \"friendly\", \"room\", \"great\", \"bed\", \"service\", \"clean\", \"nice\", \"loved\", \"location\", \"check\", \"excellent\", \"internet\", \"hotel\", \"comfortable\", \"bad\", \"helpful\", \"outstanding\", \"free\", \"bathroom\", \"food\", \"upgrade\", \"price\", \"small\", \"facility\", \"always\", \"bar\", \"perfect\", \"wonderful\", \"staff\", \"friendly\", \"great\", \"helpful\", \"breakfast\", \"stay\", \"desk\", \"front\", \"average\", \"extremely\", \"enough\", \"child\", \"hotel\", \"charge\", \"long\", \"hour\", \"aspect\", \"cost\", \"take\", \"professional\", \"complimentary\", \"accommodate\", \"design\", \"really\", \"job\", \"housekeeping\", \"club\", \"maintenance\", \"last\", \"expenseive\", \"disappointed\", \"experience\", \"food\", \"time\", \"room\", \"bad\", \"outstanding\", \"bathroom\", \"smell\", \"love\", \"quiet\", \"lobby\", \"spacious\", \"welcoming\", \"much\", \"cheap\", \"floor\", \"luxurious\", \"quite\", \"noise\", \"proof\", \"sound\", \"unavailable\", \"comfy\", \"next\", \"effective\", \"chair\", \"amenity\", \"rather\", \"low\", \"super\", \"space\", \"evening\", \"place\", \"quality\", \"clean\", \"experience\", \"coffee\", \"area\", \"service\", \"nice\", \"check\", \"upgrade\", \"wonderful\", \"people\", \"reception\", \"fast\", \"quick\", \"expect\", \"soft\", \"noisy\", \"pleasant\", \"attentive\", \"recommend\", \"slow\", \"cleanliness\", \"far\", \"big\", \"size\", \"awesome\", \"pillow\", \"enjoy\", \"top\", \"night\", \"response\", \"case\", \"issue\", \"short\", \"file\", \"time\", \"wait\", \"bed\", \"loved\", \"expensive\", \"access\", \"well\", \"old\", \"guest\", \"uncomfortable\", \"early\", \"shower\", \"find\", \"unfortunately\", \"smoke\", \"mom\", \"slippery\", \"broke\", \"fall\", \"leg\", \"year\", \"wife\", \"treatment\", \"amenditie\", \"convienient\", \"need\", \"hard\", \"could\", \"pressure\", \"water\", \"bit\", \"sheet\", \"clean\", \"good\", \"internet\", \"free\", \"price\", \"small\", \"restaurant\", \"soundproof\", \"ratio\", \"performance\", \"selection\", \"high\", \"tv\", \"appreciate\", \"value\", \"wifi\", \"connection\", \"provide\", \"feel\", \"grand\", \"structure\", \"fine\", \"real\", \"money\", \"respect\", \"relatively\", \"helpfulness\", \"pleasure\", \"courtesy\", \"treat\", \"request\", \"food\", \"care\", \"excellent\", \"quality\", \"comfortable\", \"facility\", \"always\", \"bar\", \"employee\", \"shuttle\", \"available\", \"tiny\", \"work\", \"pay\", \"courteous\", \"wireless\", \"air\", \"maintain\", \"close\", \"condition\", \"parking\", \"attend\", \"bedding\", \"convenient\", \"order\", \"family\", \"elevator\", \"conditioning\", \"working\", \"exceptionally\", \"ground\", \"sport\", \"stylish\", \"modern\", \"reservation\", \"coffee\", \"lose\", \"hotel\", \"location\", \"perfect\", \"poor\", \"back\", \"dirty\", \"come\", \"never\", \"beautiful\", \"definitely\", \"smelly\", \"husband\", \"fitness\", \"rude\", \"knowledgeable\", \"pool\", \"surrounding\", \"arrogant\", \"excellent\", \"locate\", \"status\", \"acknowledgement\", \"member\", \"ever\", \"best\", \"book\", \"avoid\", \"centrally\", \"concierge\", \"make\", \"incompetent\", \"reservation\", \"lose\"], \"Freq\": [120.0, 51.0, 79.0, 52.0, 72.0, 45.0, 43.0, 47.0, 29.0, 28.0, 25.0, 25.0, 23.0, 21.0, 45.0, 19.0, 21.0, 32.0, 17.0, 15.0, 16.0, 22.0, 15.0, 14.0, 14.0, 13.0, 10.0, 10.0, 10.0, 11.0, 120.06097866534728, 78.48480568259731, 71.4520945966841, 31.89946585298427, 16.60017233951308, 16.286589993480288, 13.574615359348504, 12.259980771344441, 9.537512536757621, 9.23709551088242, 6.636144560226254, 6.143172794464876, 40.23539631867968, 5.101896262609192, 5.053030426752567, 4.295929940934849, 4.281190403930017, 4.254015643969063, 4.2129280833823435, 3.7409532413751254, 3.558457814908081, 3.1702001960728885, 3.027222827451549, 2.9626749279768947, 2.96459887257964, 2.96459887257964, 2.96459887257964, 2.96459887257964, 2.9632927705239016, 2.9632927705239016, 2.9632927705239016, 6.006611619046292, 8.85448922151511, 3.8871120424345116, 51.60241045075208, 20.53475400408898, 16.51063954556831, 15.868792227389804, 9.171005910780812, 8.095371058527329, 7.850554508223529, 7.283573184949067, 6.494256012127218, 6.315991426277402, 6.028984817944126, 4.577711156489605, 4.430463347928929, 4.044481163361037, 3.8186726693595334, 3.562952093609187, 2.8417301380739235, 2.8417301380739235, 2.841729486912391, 2.838060517256151, 2.768489442355605, 2.6670010337661343, 2.5448087814527214, 2.3836236742356003, 2.331528472550807, 2.238757977352081, 2.0497189472007347, 2.039280339459717, 2.0265748756328383, 2.0167068481848864, 4.961075671695871, 17.610309421156863, 4.170531710546335, 2.844143017133502, 2.5382476778488043, 42.98260025843239, 28.502162233314838, 24.562303007428977, 14.363672159825192, 10.585395305299937, 8.154415464392645, 6.63949084854777, 6.44972610074355, 6.362378303393218, 6.210267239751167, 5.768799580448136, 5.667474041129382, 5.633883478165393, 5.427047105441442, 4.493089188931291, 3.466832564217929, 3.0328314137146464, 2.6330305270653436, 2.5644159059150966, 2.4246384862308648, 2.414674414529659, 2.414493918631644, 2.2523642418204126, 2.015665033663592, 1.7398168324586316, 1.4144209800875085, 1.4144209800875085, 1.4144209800875085, 1.4144132715600348, 1.4078472060355565, 4.570469133038636, 3.283647117334415, 44.720350916069215, 27.359099830993536, 9.568981137227526, 9.388307904382753, 8.008093845553917, 6.3144160565388985, 5.186688591651501, 3.533128409271307, 3.4776091604714026, 3.447909415168735, 3.2865087757791125, 2.7208595224148455, 2.6752494792311894, 2.523061256805886, 2.523061256805886, 2.523061256805886, 2.523061256805886, 2.523061256805886, 2.523061256805886, 2.521802972631944, 2.5206701104153493, 2.520591721692007, 2.520591431363402, 2.505500731134245, 2.4861645557146046, 2.455295076462511, 2.3287428698561032, 2.3287428698561032, 2.2836477244533624, 2.2600752191942948, 29.687521307083937, 51.136569242389655, 21.086451477520743, 14.754416192418507, 13.939912547064317, 13.83158378096715, 9.776203608646787, 7.136353440561104, 5.009091429824397, 4.774627041054581, 4.451381746924694, 4.3851016240124325, 3.737257971179765, 3.3472280895211464, 3.2850669975039826, 3.220145665210205, 2.8994304243242177, 2.7649894588256902, 2.5250784554907573, 2.4208166132738214, 2.4208166132738214, 2.385184004172405, 2.2966340016007476, 2.137699160335705, 1.8549404441537969, 1.6820299002663353, 1.6211070656079882, 1.6179772090885463, 1.6179760638794285, 1.6173791236266808, 1.6173791236266808, 13.575241317207428, 1.6173791236266808, 3.314126965175027, 2.181453019897283, 18.440569215842526, 12.378522244598559, 10.236064384695, 9.909962103541861, 8.322990275950023, 5.986681938928967, 5.830407869169508, 5.355127154995656, 4.998763027473131, 4.4499841251897125, 4.255800710755619, 4.096659547701439, 3.9752186255252124, 3.8785949467373952, 3.1830891318903625, 3.0697824192620637, 2.974084018786486, 2.8391850037990274, 2.8322608657068153, 2.6185112760798135, 2.4293911436137305, 2.3081272291187735, 2.1585526246436357, 1.9496648779319412, 1.9342692815567164, 1.9335737060406037, 1.801181062334344, 1.6999191355844876, 1.6220289294132135, 1.488526095446216, 4.768888253653383, 2.836779950852303, 2.8392865616567518, 4.421574272584301, 24.380877297541435, 9.836176404964673, 8.989152950716655, 8.157936717305958, 7.906834753509021, 7.576411207440148, 5.93032746730843, 5.1077686774634845, 5.096332928871064, 4.678262860558052, 4.531440198764847, 4.188534942799275, 4.135441718991624, 4.1126020471507365, 4.070744594774243, 3.7942407814455565, 3.4827312272905897, 19.729353425966334, 3.049943599916827, 2.9026414204412117, 2.9026414204412117, 2.9026414204412117, 2.9026003324971517, 2.9026003324971517, 2.899239908679205, 2.894961537440495, 2.7870337210052627, 1.9766662941690778, 1.9711476845264302, 1.821315390206473, 3.4333019555812827, 2.900411033836198], \"Total\": [120.0, 51.0, 79.0, 52.0, 72.0, 45.0, 43.0, 47.0, 29.0, 28.0, 25.0, 25.0, 23.0, 21.0, 45.0, 19.0, 21.0, 32.0, 17.0, 15.0, 16.0, 22.0, 15.0, 14.0, 14.0, 13.0, 10.0, 10.0, 10.0, 11.0, 120.71440901157679, 79.13815344156328, 72.10567786967376, 32.55223412879011, 17.252995700306528, 16.94037714595947, 14.227645127919196, 12.912802337952343, 10.193195517377982, 9.890725438031632, 7.2889179948135965, 6.800782391143536, 45.20414562709912, 5.7590197275441986, 5.706441073079939, 4.949613887990769, 4.933823269349744, 4.911908117920403, 4.867874645336332, 4.39341860944434, 4.213115365168884, 3.8251794950592126, 3.6816275366812654, 3.615844722824038, 3.618904753114242, 3.618904753114242, 3.618904753114242, 3.618904753114242, 3.6191428099749103, 3.6191428099749103, 3.6191428099749103, 10.726404252957485, 22.95723701533901, 9.000183537188507, 52.2611322380104, 21.192900840982027, 17.170292275664753, 16.526317007854157, 9.828950586182371, 8.753464072476294, 8.508430587301348, 7.942858741391467, 7.152108534600202, 6.976347103731555, 6.687821067759064, 5.235119689746384, 5.093195093362016, 4.702853044553545, 4.476811727105364, 4.220299510361371, 3.498945771883391, 3.498945771883391, 3.498945129929097, 3.498533355910132, 3.426749683793477, 3.3251827807901635, 3.2019583004360594, 3.04114700785262, 2.98993569499319, 2.8970249032427877, 2.709457518462164, 2.6968843151862596, 2.6843151837758286, 2.674630650668783, 7.674116469502945, 47.86174537221825, 10.726404252957485, 6.233193915310827, 5.829866203513674, 43.63678280202609, 29.156848213162526, 25.216902517140603, 15.018676971848608, 11.241868411418794, 8.813237326357857, 7.293218646166095, 7.1033695238227414, 7.018089744651458, 6.863759723599879, 6.42833831269103, 6.32548081962549, 6.288420191788015, 6.081984443962545, 5.146626725330183, 4.120192925811204, 3.6868486997279346, 3.2885333463357482, 3.217998143982465, 3.0786390772937997, 3.0688211697603274, 3.068688159896634, 2.905952790689919, 2.669500061492771, 2.3933717505953145, 2.0678358482026096, 2.0678358482026096, 2.0678358482026096, 2.06783600363873, 2.067847205927535, 9.000183537188507, 6.46544496091432, 45.39156186420938, 28.02874034858732, 10.239396370963766, 10.059496307117996, 8.678766575379566, 6.984130080200549, 5.855966416740208, 4.202232913364972, 4.15007677079426, 4.119900039908677, 3.957778926145571, 3.3901865058972382, 3.3445770752654806, 3.192976168603673, 3.192976168603673, 3.192976168603673, 3.192976168603673, 3.192976168603673, 3.192976168603673, 3.1914176772471636, 3.193281774076709, 3.193416817542756, 3.1934166453873316, 3.1746656507618747, 3.155289624473211, 3.127014522596097, 3.0013274367762524, 3.0013274367762524, 2.9541451375054746, 2.92912337145268, 47.86174537221825, 51.77447669712988, 21.72563758421542, 15.392880782156963, 14.577327859828056, 14.469902229544754, 10.415901227769071, 7.774965675716372, 5.6463762615907385, 5.411917748149782, 5.0897913316899075, 5.023204240324839, 4.374762214346862, 3.987377001653519, 3.922426745608714, 3.858149572736424, 3.5369523108062353, 3.405250796405128, 3.1673508687961327, 3.0581091974161874, 3.0581091974161874, 3.025323554696591, 2.9341772152111085, 2.775127550307214, 2.492834754859452, 2.319667025317281, 2.258451281744044, 2.2580736201893656, 2.2580735280497364, 2.258002787913703, 2.258002787913703, 22.95723701533901, 2.258002787913703, 23.572743935741414, 7.674116469502945, 19.099233489320817, 13.036918425679426, 10.895892957877942, 10.569797418548845, 8.982572505089891, 6.645101999738415, 6.487824334393652, 6.012838265453363, 5.656106422708031, 5.1097360205393, 4.9131203017145815, 4.756735778161064, 4.632455072128417, 4.536209967245306, 3.8409162171213858, 3.728075002921162, 3.632077354219841, 3.4977889410385585, 3.4977432247120976, 3.2817017313707066, 3.086765762356168, 2.965728455945456, 2.8157472999240447, 2.6068783941617704, 2.59165544597483, 2.591693933464234, 2.459301848133074, 2.3577910776699023, 2.279883028812423, 2.145988499168567, 8.751753359031467, 6.233193915310827, 6.291981211423959, 45.20414562709912, 25.036823976234537, 10.491618119731077, 9.645122731098837, 8.812867478852272, 8.562171957032017, 8.231300933627212, 6.585839616162009, 5.764028198293019, 5.751676804432849, 5.335814225739234, 5.186690541900579, 4.844105477457124, 4.790846863685142, 4.768503344017535, 4.72641656129616, 4.450197208063628, 4.139116154754752, 23.572743935741414, 3.7047981342594345, 3.557560301158574, 3.557560301158574, 3.557560301158574, 3.5575606596355955, 3.5575606596355955, 3.557764481320241, 3.557435738371103, 3.441891887874312, 2.6316699605385, 2.6312662786965406, 2.4763824424539695, 8.751753359031467, 6.291981211423959], \"Category\": [\"Default\", \"Default\", \"Default\", \"Default\", \"Default\", \"Default\", \"Default\", \"Default\", \"Default\", \"Default\", \"Default\", \"Default\", \"Default\", \"Default\", \"Default\", \"Default\", \"Default\", \"Default\", \"Default\", \"Default\", \"Default\", \"Default\", \"Default\", \"Default\", \"Default\", \"Default\", \"Default\", \"Default\", \"Default\", \"Default\", \"Topic1\", \"Topic1\", \"Topic1\", \"Topic1\", \"Topic1\", \"Topic1\", \"Topic1\", \"Topic1\", \"Topic1\", \"Topic1\", \"Topic1\", \"Topic1\", \"Topic1\", \"Topic1\", \"Topic1\", \"Topic1\", \"Topic1\", \"Topic1\", \"Topic1\", \"Topic1\", \"Topic1\", \"Topic1\", \"Topic1\", \"Topic1\", \"Topic1\", \"Topic1\", \"Topic1\", \"Topic1\", \"Topic1\", \"Topic1\", \"Topic1\", \"Topic1\", \"Topic1\", \"Topic1\", \"Topic2\", \"Topic2\", \"Topic2\", \"Topic2\", \"Topic2\", \"Topic2\", \"Topic2\", \"Topic2\", \"Topic2\", \"Topic2\", \"Topic2\", \"Topic2\", \"Topic2\", \"Topic2\", \"Topic2\", \"Topic2\", \"Topic2\", \"Topic2\", \"Topic2\", \"Topic2\", \"Topic2\", \"Topic2\", \"Topic2\", \"Topic2\", \"Topic2\", \"Topic2\", \"Topic2\", \"Topic2\", \"Topic2\", \"Topic2\", \"Topic2\", \"Topic2\", \"Topic2\", \"Topic2\", \"Topic2\", \"Topic3\", \"Topic3\", \"Topic3\", \"Topic3\", \"Topic3\", \"Topic3\", \"Topic3\", \"Topic3\", \"Topic3\", \"Topic3\", \"Topic3\", \"Topic3\", \"Topic3\", \"Topic3\", \"Topic3\", \"Topic3\", \"Topic3\", \"Topic3\", \"Topic3\", \"Topic3\", \"Topic3\", \"Topic3\", \"Topic3\", \"Topic3\", \"Topic3\", \"Topic3\", \"Topic3\", \"Topic3\", \"Topic3\", \"Topic3\", \"Topic3\", \"Topic3\", \"Topic4\", \"Topic4\", \"Topic4\", \"Topic4\", \"Topic4\", \"Topic4\", \"Topic4\", \"Topic4\", \"Topic4\", \"Topic4\", \"Topic4\", \"Topic4\", \"Topic4\", \"Topic4\", \"Topic4\", \"Topic4\", \"Topic4\", \"Topic4\", \"Topic4\", \"Topic4\", \"Topic4\", \"Topic4\", \"Topic4\", \"Topic4\", \"Topic4\", \"Topic4\", \"Topic4\", \"Topic4\", \"Topic4\", \"Topic4\", \"Topic4\", \"Topic5\", \"Topic5\", \"Topic5\", \"Topic5\", \"Topic5\", \"Topic5\", \"Topic5\", \"Topic5\", \"Topic5\", \"Topic5\", \"Topic5\", \"Topic5\", \"Topic5\", \"Topic5\", \"Topic5\", \"Topic5\", \"Topic5\", \"Topic5\", \"Topic5\", \"Topic5\", \"Topic5\", \"Topic5\", \"Topic5\", \"Topic5\", \"Topic5\", \"Topic5\", \"Topic5\", \"Topic5\", \"Topic5\", \"Topic5\", \"Topic5\", \"Topic5\", \"Topic5\", \"Topic5\", \"Topic6\", \"Topic6\", \"Topic6\", \"Topic6\", \"Topic6\", \"Topic6\", \"Topic6\", \"Topic6\", \"Topic6\", \"Topic6\", \"Topic6\", \"Topic6\", \"Topic6\", \"Topic6\", \"Topic6\", \"Topic6\", \"Topic6\", \"Topic6\", \"Topic6\", \"Topic6\", \"Topic6\", \"Topic6\", \"Topic6\", \"Topic6\", \"Topic6\", \"Topic6\", \"Topic6\", \"Topic6\", \"Topic6\", \"Topic6\", \"Topic6\", \"Topic6\", \"Topic6\", \"Topic6\", \"Topic7\", \"Topic7\", \"Topic7\", \"Topic7\", \"Topic7\", \"Topic7\", \"Topic7\", \"Topic7\", \"Topic7\", \"Topic7\", \"Topic7\", \"Topic7\", \"Topic7\", \"Topic7\", \"Topic7\", \"Topic7\", \"Topic7\", \"Topic7\", \"Topic7\", \"Topic7\", \"Topic7\", \"Topic7\", \"Topic7\", \"Topic7\", \"Topic7\", \"Topic7\", \"Topic7\", \"Topic7\", \"Topic7\", \"Topic7\", \"Topic7\", \"Topic7\"], \"logprob\": [30.0, 29.0, 28.0, 27.0, 26.0, 25.0, 24.0, 23.0, 22.0, 21.0, 20.0, 19.0, 18.0, 17.0, 16.0, 15.0, 14.0, 13.0, 12.0, 11.0, 10.0, 9.0, 8.0, 7.0, 6.0, 5.0, 4.0, 3.0, 2.0, 1.0, -1.6619999408721924, -2.087100028991699, -2.180999994277954, -2.9874000549316406, -3.6405999660491943, -3.6596999168395996, -3.8417999744415283, -3.943700075149536, -4.194799900054932, -4.226799964904785, -4.557499885559082, -4.634699821472168, -2.7553000450134277, -4.820400238037109, -4.829999923706055, -4.992400169372559, -4.995800018310547, -5.002200126647949, -5.011899948120117, -5.13070011138916, -5.180699825286865, -5.296199798583984, -5.342400074005127, -5.363900184631348, -5.36329984664917, -5.36329984664917, -5.36329984664917, -5.36329984664917, -5.363699913024902, -5.363699913024902, -5.363699913024902, -4.657199859619141, -4.269100189208984, -5.092400074005127, -1.9132000207901, -2.8345999717712402, -3.052799940109253, -3.092400074005127, -3.640700101852417, -3.765500068664551, -3.7962000370025635, -3.8710999488830566, -3.98580002784729, -4.013700008392334, -4.060200214385986, -4.335599899291992, -4.368299961090088, -4.459400177001953, -4.516900062561035, -4.58620023727417, -4.812300205230713, -4.812300205230713, -4.812300205230713, -4.813600063323975, -4.838500022888184, -4.875800132751465, -4.922699928283691, -4.988100051879883, -5.010200023651123, -5.05079984664917, -5.139100074768066, -5.144199848175049, -5.150400161743164, -5.155300140380859, -4.255099773406982, -2.988300085067749, -4.428699970245361, -4.811500072479248, -4.925300121307373, -1.983299970626831, -2.3940999507904053, -2.5429000854492188, -3.079400062561035, -3.3845999240875244, -3.6454999446868896, -3.851099967956543, -3.880000114440918, -3.893699884414673, -3.9179000854492188, -3.9916000366210938, -4.009300231933594, -4.0152997970581055, -4.052700042724609, -4.241499900817871, -4.500800132751465, -4.6346001625061035, -4.776000022888184, -4.8024001121521, -4.858399868011475, -4.862500190734863, -4.862599849700928, -4.93209981918335, -5.043099880218506, -5.190299987792969, -5.39739990234375, -5.39739990234375, -5.39739990234375, -5.39739990234375, -5.4019999504089355, -4.2245001792907715, -4.555099964141846, -1.9416999816894531, -2.4330999851226807, -3.483599901199341, -3.502700090408325, -3.6617000102996826, -3.8993000984191895, -4.096099853515625, -4.480000019073486, -4.495800018310547, -4.50439977645874, -4.552299976348877, -4.741199970245361, -4.7581000328063965, -4.816699981689453, -4.816699981689453, -4.816699981689453, -4.816699981689453, -4.816699981689453, -4.816699981689453, -4.817200183868408, -4.817599773406982, -4.817699909210205, -4.817699909210205, -4.823699951171875, -4.831399917602539, -4.843900203704834, -4.8968000411987305, -4.8968000411987305, -4.916399955749512, -4.926799774169922, -2.3513998985290527, -1.7936999797821045, -2.6796000003814697, -3.0367000102996826, -3.093400001525879, -3.1012001037597656, -3.448199987411499, -3.763000011444092, -4.1168999671936035, -4.164899826049805, -4.235000133514404, -4.25, -4.409800052642822, -4.520100116729736, -4.53879976272583, -4.558800220489502, -4.663700103759766, -4.71120023727417, -4.8018999099731445, -4.844099998474121, -4.844099998474121, -4.85890007019043, -4.8968000411987305, -4.968500137329102, -5.110300064086914, -5.208199977874756, -5.245100021362305, -5.247000217437744, -5.247000217437744, -5.247399806976318, -5.247399806976318, -3.119999885559082, -5.247399806976318, -4.53000020980835, -4.948200225830078, -2.635200023651123, -3.033799886703491, -3.223900079727173, -3.2562999725341797, -3.430799961090088, -3.7602999210357666, -3.7867000102996826, -3.8717000484466553, -3.9405999183654785, -4.0569000244140625, -4.101500034332275, -4.139599800109863, -4.1697001457214355, -4.194300174713135, -4.391900062561035, -4.428199768066406, -4.45989990234375, -4.50629997253418, -4.508699893951416, -4.587200164794922, -4.662199974060059, -4.713399887084961, -4.780399799346924, -4.8821001052856445, -4.890100002288818, -4.890399932861328, -4.961400032043457, -5.019199848175049, -5.066100120544434, -5.1519999504089355, -3.9876999855041504, -4.5071001052856445, -4.506199836730957, -4.063300132751465, -2.3475000858306885, -3.2553000450134277, -3.3452999591827393, -3.4423000812530518, -3.473599910736084, -3.5162999629974365, -3.761199951171875, -3.910599946975708, -3.9128000736236572, -3.9983999729156494, -4.030300140380859, -4.109000205993652, -4.121699810028076, -4.127299785614014, -4.137499809265137, -4.207799911499023, -4.293499946594238, -2.5592000484466553, -4.426199913024902, -4.4756999015808105, -4.4756999015808105, -4.4756999015808105, -4.4756999015808105, -4.4756999015808105, -4.476900100708008, -4.478400230407715, -4.51639986038208, -4.859899997711182, -4.86269998550415, -4.941800117492676, -4.307799816131592, -4.476500034332275], \"loglift\": [30.0, 29.0, 28.0, 27.0, 26.0, 25.0, 24.0, 23.0, 22.0, 21.0, 20.0, 19.0, 18.0, 17.0, 16.0, 15.0, 14.0, 13.0, 12.0, 11.0, 10.0, 9.0, 8.0, 7.0, 6.0, 5.0, 4.0, 3.0, 2.0, 1.0, 1.3385, 1.3357, 1.3349, 1.3237, 1.3054, 1.3046, 1.297, 1.2921, 1.2775, 1.2756, 1.2502, 1.2423, 1.2275, 1.2228, 1.2224, 1.2023, 1.2021, 1.2002, 1.1995, 1.1832, 1.1751, 1.1562, 1.1483, 1.1447, 1.1445, 1.1445, 1.1445, 1.1445, 1.144, 1.144, 1.144, 0.7641, 0.3913, 0.5044, 1.9246, 1.9057, 1.8981, 1.8966, 1.868, 1.8591, 1.8568, 1.8506, 1.8407, 1.8378, 1.8335, 1.803, 1.7978, 1.7864, 1.7782, 1.7679, 1.7292, 1.7292, 1.7292, 1.728, 1.7239, 1.7167, 1.7075, 1.6936, 1.6885, 1.6795, 1.6582, 1.6577, 1.6562, 1.6549, 1.501, 0.9374, 0.9926, 1.1526, 1.1057, 2.0348, 2.0272, 2.0236, 2.0053, 1.9897, 1.9722, 1.956, 1.9534, 1.9518, 1.9499, 1.9417, 1.9401, 1.94, 1.936, 1.9141, 1.8773, 1.8546, 1.8276, 1.8229, 1.8111, 1.8102, 1.8102, 1.7951, 1.769, 1.731, 1.6701, 1.6701, 1.6701, 1.6701, 1.6655, 1.3723, 1.3724, 2.0369, 2.0277, 1.9841, 1.9828, 1.9714, 1.951, 1.9305, 1.8784, 1.8751, 1.8738, 1.866, 1.8319, 1.8285, 1.8164, 1.8164, 1.8164, 1.8164, 1.8164, 1.8164, 1.8163, 1.8153, 1.8152, 1.8152, 1.8151, 1.8135, 1.81, 1.7981, 1.7981, 1.7944, 1.7925, 1.5742, 2.0534, 2.0359, 2.0234, 2.0211, 2.0207, 2.0024, 1.9801, 1.946, 1.9405, 1.9318, 1.9299, 1.9083, 1.8908, 1.8885, 1.885, 1.8671, 1.8575, 1.8392, 1.8321, 1.8321, 1.8281, 1.8208, 1.8048, 1.7702, 1.7444, 1.7342, 1.7325, 1.7325, 1.7321, 1.7321, 1.5404, 1.7321, 0.1039, 0.8079, 2.2091, 2.1924, 2.1817, 2.1797, 2.1679, 2.1399, 2.1374, 2.1284, 2.1207, 2.106, 2.1006, 2.0948, 2.0912, 2.0876, 2.0563, 2.0499, 2.0443, 2.0356, 2.0332, 2.0184, 2.0047, 1.9935, 1.9784, 1.9537, 1.9516, 1.9513, 1.9328, 1.9171, 1.9038, 1.8784, 1.6371, 1.457, 1.4485, -0.0805, 2.2261, 2.1882, 2.1822, 2.1754, 2.173, 2.1698, 2.1478, 2.1318, 2.1317, 2.1212, 2.1176, 2.1073, 2.1056, 2.1047, 2.1033, 2.0932, 2.08, 2.0747, 2.0582, 2.0492, 2.0492, 2.0492, 2.0492, 2.0492, 2.048, 2.0466, 2.0416, 1.9665, 1.9638, 1.9454, 1.3169, 1.4782]}, \"token.table\": {\"Topic\": [4, 1, 7, 6, 6, 4, 2, 5, 1, 2, 6, 7, 1, 6, 3, 6, 1, 7, 3, 7, 2, 6, 2, 7, 4, 6, 7, 3, 4, 7, 1, 4, 5, 3, 7, 2, 1, 2, 3, 1, 2, 4, 3, 6, 1, 2, 6, 7, 6, 2, 1, 7, 6, 6, 5, 6, 4, 1, 4, 6, 5, 7, 1, 1, 7, 1, 4, 2, 6, 6, 3, 1, 2, 7, 5, 7, 6, 3, 1, 4, 1, 2, 1, 6, 4, 6, 3, 3, 5, 3, 4, 5, 7, 2, 1, 5, 5, 1, 1, 5, 5, 1, 6, 4, 4, 1, 5, 5, 1, 6, 1, 1, 7, 7, 5, 3, 1, 7, 1, 4, 2, 7, 7, 1, 6, 7, 2, 4, 2, 2, 6, 1, 7, 7, 6, 4, 5, 2, 4, 7, 2, 3, 3, 2, 3, 4, 6, 2, 6, 6, 3, 7, 5, 3, 2, 3, 5, 7, 7, 4, 5, 1, 2, 5, 2, 5, 3, 2, 2, 2, 5, 5, 1, 3, 3, 5, 5, 6, 7, 5, 3, 5, 2, 7, 5, 3, 4, 3, 4, 6, 3, 4, 3, 5, 2, 7, 4, 3, 2, 5, 2, 2, 6, 1, 7, 1, 5, 6, 2, 7, 1, 1, 3, 6, 3, 5, 4, 5, 2, 4, 4, 3, 5, 1, 3, 4, 2, 4, 4, 5, 6, 3, 6, 6, 4], \"Freq\": [0.8946770022303893, 0.7842769218738481, 0.8432745325562027, 0.8634730262288695, 0.9177770044785366, 0.9394326426540257, 0.6576466033492466, 0.7523743049016771, 0.34306104637437396, 0.5145915695615609, 0.17153052318718698, 0.7247924165051015, 0.8107302960868281, 0.8576846832585743, 0.8221000967806473, 0.9248092566551829, 0.9810466190853879, 0.8433040596184193, 0.6517160464440482, 0.9077635649460447, 0.9908978557286975, 0.9460919262701372, 0.9681527948662715, 0.8674489138482561, 0.99137368603044, 0.8576958933990738, 0.8432744475837815, 0.9322565973538196, 0.677014806959969, 0.8432261370170119, 0.9853361291742493, 0.9395622897216724, 0.8857384989537208, 0.48359738074432423, 0.8716136641504968, 0.9369266300536907, 0.8682033117695422, 0.955088001100167, 0.9913985265639518, 0.8822514315137664, 0.37608323432451024, 0.6268053905408504, 0.8137030413592454, 0.7810636396147117, 0.8289800933330327, 0.4812941873396539, 0.4812941873396539, 0.9718998326640833, 0.942446198695071, 0.8575021858608405, 0.9494162047090441, 0.7599737163055029, 0.8047048403396732, 0.7672011109068594, 0.8481878567698757, 0.9141598614286481, 0.9394326932983491, 0.8143474804438148, 0.6395876915658096, 0.814146561525082, 0.8857107508484764, 0.8693117103079353, 0.8148570082416035, 0.9839998027872875, 0.9343423654823574, 0.8289255653939772, 0.7228781937510633, 0.9022060433282737, 0.7102910122843589, 0.8906134623980908, 0.6882424265141515, 0.9603620187496724, 0.7450689889503762, 0.8432744475837815, 0.12726562542646325, 0.8484375028430884, 0.7716960610879944, 0.8741564742381662, 0.8289255653939772, 0.976620069944491, 0.5593673199801024, 0.37291154665340154, 0.9099433662765897, 0.9204629198540539, 0.9395622897216724, 0.6743705736074924, 0.9122607813427689, 0.844669558563391, 0.9471637732198137, 0.4835947245683701, 0.7580009030271079, 0.6610863148489186, 0.8257458510378616, 0.7853616299154176, 0.3920332396266414, 0.6098294838636644, 0.9744764617021928, 0.9856181450783571, 0.9293102833867826, 0.9850413418630881, 0.6539988832608759, 0.9846658695633901, 0.8132389285675757, 0.853830033196008, 0.6338562344602228, 0.9830354461507851, 0.8855626048552793, 0.7963044719323078, 0.8848745938031992, 0.08848745938031992, 0.808143845261382, 0.8289800933330327, 0.9640058452702348, 0.8076296963315979, 0.9665999406736571, 0.48359738074432423, 0.8289800933330327, 0.8388376208267352, 0.8289255653939772, 0.9395622897216724, 0.8812947866643928, 0.8097607187441754, 0.9585880390732182, 0.8762028619882599, 0.47679735510860816, 0.47679735510860816, 0.9139238973007923, 0.9632969467841543, 0.6903634130867491, 0.8505475212823137, 0.8817933977666098, 0.8289800933330327, 0.7600903094424738, 0.8432745325562027, 0.46598572191204, 0.9395622897216724, 0.72068759498229, 0.8971531892390272, 0.9449814027754522, 0.9110455689318144, 0.875465171613861, 0.9946205360738641, 0.8356411825712118, 0.9478000294006367, 0.9485444934690734, 0.8590905282548389, 0.647927362804936, 0.9900821562655572, 0.8259735978680418, 0.7828193049350181, 0.9077254706479198, 0.9531418210117165, 0.9238869163725543, 0.6517442945611548, 0.7477667989409702, 0.9541347138086191, 0.8857107147074668, 0.846307122557782, 0.9331140982769702, 0.6663718111837256, 0.9603954946078255, 0.9104527375109157, 0.8574011132459416, 0.8809923789363928, 0.6515408021066759, 0.26061632084267033, 0.854933495909289, 0.9402439049029595, 0.8934930132937122, 0.6689107071262799, 0.8855237002203186, 0.6816220880019694, 0.829681645636859, 0.959795714294095, 0.7772081041574623, 0.8621927104931979, 0.8857384989537208, 0.5713140892893418, 0.34278845357360505, 0.8022994689484588, 0.48359738074432423, 0.9600705480328224, 0.9950033183969085, 0.8349254555223209, 0.7858868349072228, 0.985407200963575, 0.6827981434623264, 0.4835973443930369, 0.7281730068544331, 0.9029206775511032, 0.6496376969781238, 0.9395622897216724, 0.7281212443248262, 0.9675255421847078, 0.9156623508365463, 0.9370641083943081, 0.8969743954134681, 0.9333671795329455, 0.8574011132459416, 0.9003255180743974, 0.7415965114773084, 0.8389134436332203, 0.8482515770551261, 0.9940818248838191, 0.8432745325562027, 0.9444890076615701, 0.6539988832608759, 0.8772379875303461, 0.7381551422644786, 0.8988365712764631, 0.8217138466850621, 0.4444353810644096, 0.555544226330512, 0.8315540480653532, 0.7492039535228967, 0.8857384989537208, 0.939472371136871, 0.9143354093354278, 0.8574012705540177, 0.9518748918648033, 0.8849070677325546, 0.9321726558365931, 0.7648326392222873, 0.4640051872896542, 0.4640051872896542, 0.6663718111837256, 0.8600489497993412, 0.921789972171261, 0.9400211139357115, 0.7775748304833671, 0.840912799564071, 0.9784850344651678, 0.8840003398673854, 0.7717075211931639, 0.9395622897216724], \"Term\": [\"access\", \"accommodate\", \"acknowledgement\", \"air\", \"always\", \"amenditie\", \"amenity\", \"appreciate\", \"area\", \"area\", \"area\", \"arrogant\", \"aspect\", \"attend\", \"attentive\", \"available\", \"average\", \"avoid\", \"awesome\", \"back\", \"bad\", \"bar\", \"bathroom\", \"beautiful\", \"bed\", \"bedding\", \"best\", \"big\", \"bit\", \"book\", \"breakfast\", \"broke\", \"care\", \"case\", \"centrally\", \"chair\", \"charge\", \"cheap\", \"check\", \"child\", \"clean\", \"clean\", \"cleanliness\", \"close\", \"club\", \"coffee\", \"coffee\", \"come\", \"comfortable\", \"comfy\", \"complimentary\", \"concierge\", \"condition\", \"conditioning\", \"connection\", \"convenient\", \"convienient\", \"cost\", \"could\", \"courteous\", \"courtesy\", \"definitely\", \"design\", \"desk\", \"dirty\", \"disappointed\", \"early\", \"effective\", \"elevator\", \"employee\", \"enjoy\", \"enough\", \"evening\", \"ever\", \"excellent\", \"excellent\", \"exceptionally\", \"expect\", \"expenseive\", \"expensive\", \"experience\", \"experience\", \"extremely\", \"facility\", \"fall\", \"family\", \"far\", \"fast\", \"feel\", \"file\", \"find\", \"fine\", \"fitness\", \"floor\", \"food\", \"food\", \"free\", \"friendly\", \"front\", \"good\", \"grand\", \"great\", \"ground\", \"guest\", \"hard\", \"helpful\", \"helpfulness\", \"high\", \"hotel\", \"hotel\", \"hour\", \"housekeeping\", \"husband\", \"incompetent\", \"internet\", \"issue\", \"job\", \"knowledgeable\", \"last\", \"leg\", \"lobby\", \"locate\", \"location\", \"long\", \"lose\", \"lose\", \"love\", \"loved\", \"low\", \"luxurious\", \"maintain\", \"maintenance\", \"make\", \"member\", \"modern\", \"mom\", \"money\", \"much\", \"need\", \"never\", \"next\", \"nice\", \"night\", \"noise\", \"noisy\", \"old\", \"order\", \"outstanding\", \"parking\", \"pay\", \"people\", \"perfect\", \"performance\", \"pillow\", \"place\", \"pleasant\", \"pleasure\", \"pool\", \"poor\", \"pressure\", \"price\", \"professional\", \"proof\", \"provide\", \"quality\", \"quality\", \"quick\", \"quiet\", \"quite\", \"rather\", \"ratio\", \"real\", \"really\", \"reception\", \"recommend\", \"relatively\", \"request\", \"reservation\", \"reservation\", \"respect\", \"response\", \"restaurant\", \"room\", \"rude\", \"selection\", \"service\", \"sheet\", \"short\", \"shower\", \"shuttle\", \"size\", \"slippery\", \"slow\", \"small\", \"smell\", \"smelly\", \"smoke\", \"soft\", \"sound\", \"soundproof\", \"space\", \"spacious\", \"sport\", \"staff\", \"status\", \"stay\", \"structure\", \"stylish\", \"super\", \"surrounding\", \"take\", \"time\", \"time\", \"tiny\", \"top\", \"treat\", \"treatment\", \"tv\", \"unavailable\", \"uncomfortable\", \"unfortunately\", \"upgrade\", \"value\", \"wait\", \"wait\", \"water\", \"welcoming\", \"well\", \"wife\", \"wifi\", \"wireless\", \"wonderful\", \"work\", \"working\", \"year\"]}, \"R\": 30, \"lambda.step\": 0.01, \"plot.opts\": {\"xlab\": \"PC1\", \"ylab\": \"PC2\"}, \"topic.order\": [4, 6, 5, 2, 3, 7, 1]};\n",
              "\n",
              "function LDAvis_load_lib(url, callback){\n",
              "  var s = document.createElement('script');\n",
              "  s.src = url;\n",
              "  s.async = true;\n",
              "  s.onreadystatechange = s.onload = callback;\n",
              "  s.onerror = function(){console.warn(\"failed to load library \" + url);};\n",
              "  document.getElementsByTagName(\"head\")[0].appendChild(s);\n",
              "}\n",
              "\n",
              "if(typeof(LDAvis) !== \"undefined\"){\n",
              "   // already loaded: just create the visualization\n",
              "   !function(LDAvis){\n",
              "       new LDAvis(\"#\" + \"ldavis_el1681404753409582401726354494\", ldavis_el1681404753409582401726354494_data);\n",
              "   }(LDAvis);\n",
              "}else if(typeof define === \"function\" && define.amd){\n",
              "   // require.js is available: use it to load d3/LDAvis\n",
              "   require.config({paths: {d3: \"/nbextensions/d3.v3.min\"}});\n",
              "   require([\"d3\"], function(d3){\n",
              "      window.d3 = d3;\n",
              "      LDAvis_load_lib(\"/nbextensions/ldavis.v1.0.0.js\", function(){\n",
              "        new LDAvis(\"#\" + \"ldavis_el1681404753409582401726354494\", ldavis_el1681404753409582401726354494_data);\n",
              "      });\n",
              "    });\n",
              "}else{\n",
              "    // require.js not available: dynamically load d3 & LDAvis\n",
              "    LDAvis_load_lib(\"/nbextensions/d3.v3.min.js\", function(){\n",
              "         LDAvis_load_lib(\"/nbextensions/ldavis.v1.0.0.js\", function(){\n",
              "                 new LDAvis(\"#\" + \"ldavis_el1681404753409582401726354494\", ldavis_el1681404753409582401726354494_data);\n",
              "            })\n",
              "         });\n",
              "}\n",
              "</script>"
            ],
            "text/plain": [
              "PreparedData(topic_coordinates=              x         y  topics  cluster       Freq\n",
              "topic                                                \n",
              "3     -0.360278 -0.080477       1        1  26.080652\n",
              "5      0.107001 -0.191655       2        1  14.410127\n",
              "4      0.029603  0.170698       3        1  12.874626\n",
              "1      0.132506 -0.180973       4        1  12.849875\n",
              "2      0.021971  0.090564       5        1  12.671671\n",
              "6      0.007601  0.062350       6        1  10.601242\n",
              "0      0.061596  0.129491       7        1  10.511807, topic_info=            Term        Freq       Total Category  logprob  loglift\n",
              "28         staff  120.000000  120.000000  Default  30.0000  30.0000\n",
              "72          good   51.000000   51.000000  Default  29.0000  29.0000\n",
              "26      friendly   79.000000   79.000000  Default  28.0000  28.0000\n",
              "1           room   52.000000   52.000000  Default  27.0000  27.0000\n",
              "66         great   72.000000   72.000000  Default  26.0000  26.0000\n",
              "..           ...         ...         ...      ...      ...      ...\n",
              "375    concierge    1.976666    2.631670   Topic7  -4.8599   1.9665\n",
              "388         make    1.971148    2.631266   Topic7  -4.8627   1.9638\n",
              "190  incompetent    1.821315    2.476382   Topic7  -4.9418   1.9454\n",
              "315  reservation    3.433302    8.751753   Topic7  -4.3078   1.3169\n",
              "558         lose    2.900411    6.291981   Topic7  -4.4765   1.4782\n",
              "\n",
              "[262 rows x 6 columns], token_table=      Topic      Freq             Term\n",
              "term                                  \n",
              "257       4  0.894677           access\n",
              "116       1  0.784277      accommodate\n",
              "555       7  0.843275  acknowledgement\n",
              "101       6  0.863473              air\n",
              "31        6  0.917777           always\n",
              "...     ...       ...              ...\n",
              "534       6  0.840913         wireless\n",
              "40        3  0.978485        wonderful\n",
              "198       6  0.884000             work\n",
              "405       6  0.771708          working\n",
              "553       4  0.939562             year\n",
              "\n",
              "[235 rows x 3 columns], R=30, lambda_step=0.01, plot_opts={'xlab': 'PC1', 'ylab': 'PC2'}, topic_order=[4, 6, 5, 2, 3, 7, 1])"
            ]
          },
          "metadata": {
            "tags": []
          },
          "execution_count": 170
        }
      ]
    },
    {
      "cell_type": "code",
      "metadata": {
        "id": "EHf6fzZuJtgu",
        "colab": {
          "base_uri": "https://localhost:8080/"
        },
        "outputId": "073395b6-e1e6-4bd6-b421-b112ddbf60b8"
      },
      "source": [
        "# Compute Coherence Score\r\n",
        "coherence_model_lda = CoherenceModel(model=lda_model, texts=data_lemmatized, dictionary=id2word, coherence='c_v')\r\n",
        "coherence_lda = coherence_model_lda.get_coherence()\r\n",
        "print('\\nCoherence Score: ', coherence_lda)"
      ],
      "execution_count": null,
      "outputs": [
        {
          "output_type": "stream",
          "text": [
            "\n",
            "Coherence Score:  0.5944439327238984\n"
          ],
          "name": "stdout"
        }
      ]
    },
    {
      "cell_type": "markdown",
      "metadata": {
        "id": "N_O7cAEvCTN4"
      },
      "source": [
        "## Searching for optimal Number of topics"
      ]
    },
    {
      "cell_type": "code",
      "metadata": {
        "id": "eMYX0WvcB97e"
      },
      "source": [
        "## Clean Deprecation warnings from model + gensim\r\n",
        "import warnings\r\n",
        "warnings.filterwarnings(\"ignore\", category=DeprecationWarning) "
      ],
      "execution_count": null,
      "outputs": []
    },
    {
      "cell_type": "code",
      "metadata": {
        "id": "EnS2jC-68XvK"
      },
      "source": [
        "\r\n",
        "def topic_search():\r\n",
        "  for i in range(1,21,1):\r\n",
        "    lda_model = gensim.models.ldamodel.LdaModel(corpus = corpus,\r\n",
        "                                                num_topics = i, \r\n",
        "                                                id2word = id2word, \r\n",
        "                                                random_state = 100, \r\n",
        "                                                update_every = 1,\r\n",
        "                                                chunksize = 100,\r\n",
        "                                                passes = 10,\r\n",
        "                                                alpha = 'auto',\r\n",
        "                                                per_word_topics = True)\r\n",
        "    coherence_model_lda = CoherenceModel(model=lda_model, texts=data_lemmatized, dictionary=id2word, coherence='c_v')\r\n",
        "    coherence_lda = coherence_model_lda.get_coherence()\r\n",
        "    print(i,' topic(s): ', 'Coherence Score: ', coherence_lda)\r\n",
        "\r\n"
      ],
      "execution_count": null,
      "outputs": []
    },
    {
      "cell_type": "code",
      "metadata": {
        "colab": {
          "base_uri": "https://localhost:8080/"
        },
        "id": "RY-3o51X-Xtx",
        "outputId": "4cc42380-d689-4908-8f80-735fde9e1434"
      },
      "source": [
        "topic_search()"
      ],
      "execution_count": null,
      "outputs": [
        {
          "output_type": "stream",
          "text": [
            "1  topic(s):  Coherence Score:  0.5151070096624618\n",
            "2  topic(s):  Coherence Score:  0.5416700288381515\n",
            "3  topic(s):  Coherence Score:  0.6281943634639034\n",
            "4  topic(s):  Coherence Score:  0.5880355359177367\n",
            "5  topic(s):  Coherence Score:  0.5944439327238984\n",
            "6  topic(s):  Coherence Score:  0.6244130509968315\n",
            "7  topic(s):  Coherence Score:  0.6331784064582188\n",
            "8  topic(s):  Coherence Score:  0.6157365664394723\n",
            "9  topic(s):  Coherence Score:  0.6092174991341966\n",
            "10  topic(s):  Coherence Score:  0.6062446838004246\n",
            "11  topic(s):  Coherence Score:  0.5967855395767143\n",
            "12  topic(s):  Coherence Score:  0.5974058452796257\n",
            "13  topic(s):  Coherence Score:  0.5869982113791777\n",
            "14  topic(s):  Coherence Score:  0.5816334829440573\n",
            "15  topic(s):  Coherence Score:  0.5815674224128401\n",
            "16  topic(s):  Coherence Score:  0.576720575791533\n",
            "17  topic(s):  Coherence Score:  0.5914249289767679\n",
            "18  topic(s):  Coherence Score:  0.5884593750305578\n",
            "19  topic(s):  Coherence Score:  0.5819099463609031\n",
            "20  topic(s):  Coherence Score:  0.5788742979702899\n"
          ],
          "name": "stdout"
        }
      ]
    },
    {
      "cell_type": "code",
      "metadata": {
        "id": "09lL6Npk__Eh"
      },
      "source": [
        ""
      ],
      "execution_count": null,
      "outputs": []
    }
  ]
}