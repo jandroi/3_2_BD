{
  "nbformat": 4,
  "nbformat_minor": 0,
  "metadata": {
    "colab": {
      "name": "Evaluated Exercise IV B s0572034.ipynb",
      "provenance": [],
      "collapsed_sections": [],
      "toc_visible": true
    },
    "kernelspec": {
      "name": "python3",
      "display_name": "Python 3"
    }
  },
  "cells": [
    {
      "cell_type": "markdown",
      "metadata": {
        "id": "WKw4A9W5EDRu"
      },
      "source": [
        "# Evaluated Exercise IV B\r\n",
        "## Sentiment Analysis"
      ]
    },
    {
      "cell_type": "markdown",
      "metadata": {
        "id": "MamHGQPCEKHq"
      },
      "source": [
        "## Data IO and Package import"
      ]
    },
    {
      "cell_type": "code",
      "metadata": {
        "id": "SnDbi85szweu"
      },
      "source": [
        "import pandas as pd\n",
        "import seaborn as sns\n",
        "\n",
        "import spacy \n",
        " \n",
        "from sklearn.feature_extraction.text import CountVectorizer, TfidfVectorizer\n",
        "from sklearn.base import TransformerMixin\n",
        "from sklearn.pipeline import Pipeline\n",
        "from sklearn import metrics\n",
        "\n",
        "# Logistic Regression Classifier\n",
        "from sklearn.linear_model import LogisticRegression\n",
        "from sklearn.naive_bayes import MultinomialNB\n",
        "from sklearn.ensemble import RandomForestClassifier\n",
        "from sklearn.metrics import classification_report\n",
        "from sklearn.model_selection import GridSearchCV"
      ],
      "execution_count": 11,
      "outputs": []
    },
    {
      "cell_type": "code",
      "metadata": {
        "id": "YoS-wnRUzG1b"
      },
      "source": [
        "# Data import from raw git\r\n",
        "\r\n",
        "url = r'https://raw.githubusercontent.com/jandroi/3_2_BD/main/hotelSatisfaction_English.csv'\r\n",
        "df =pd.read_csv(url,engine='python',encoding='latin-1')"
      ],
      "execution_count": 12,
      "outputs": []
    },
    {
      "cell_type": "code",
      "metadata": {
        "colab": {
          "base_uri": "https://localhost:8080/",
          "height": 206
        },
        "id": "8BJuKmhv0eDu",
        "outputId": "2f9d639c-9cf4-4fc3-d5e7-faa5de1063b8"
      },
      "source": [
        "df.head()"
      ],
      "execution_count": 13,
      "outputs": [
        {
          "output_type": "execute_result",
          "data": {
            "text/html": [
              "<div>\n",
              "<style scoped>\n",
              "    .dataframe tbody tr th:only-of-type {\n",
              "        vertical-align: middle;\n",
              "    }\n",
              "\n",
              "    .dataframe tbody tr th {\n",
              "        vertical-align: top;\n",
              "    }\n",
              "\n",
              "    .dataframe thead th {\n",
              "        text-align: right;\n",
              "    }\n",
              "</style>\n",
              "<table border=\"1\" class=\"dataframe\">\n",
              "  <thead>\n",
              "    <tr style=\"text-align: right;\">\n",
              "      <th></th>\n",
              "      <th>Comments</th>\n",
              "      <th>OverallSentiment</th>\n",
              "    </tr>\n",
              "  </thead>\n",
              "  <tbody>\n",
              "    <tr>\n",
              "      <th>0</th>\n",
              "      <td>Rooms were clean.</td>\n",
              "      <td>positive</td>\n",
              "    </tr>\n",
              "    <tr>\n",
              "      <th>1</th>\n",
              "      <td>Excellent value for money</td>\n",
              "      <td>positive</td>\n",
              "    </tr>\n",
              "    <tr>\n",
              "      <th>2</th>\n",
              "      <td>Parking too small. No free wifi in rooms. No c...</td>\n",
              "      <td>negative</td>\n",
              "    </tr>\n",
              "    <tr>\n",
              "      <th>3</th>\n",
              "      <td>Comfortable rooms, outstanding breakfast, nice...</td>\n",
              "      <td>positive</td>\n",
              "    </tr>\n",
              "    <tr>\n",
              "      <th>4</th>\n",
              "      <td>Quiet location right on the beach.</td>\n",
              "      <td>positive</td>\n",
              "    </tr>\n",
              "  </tbody>\n",
              "</table>\n",
              "</div>"
            ],
            "text/plain": [
              "                                            Comments OverallSentiment\n",
              "0                                  Rooms were clean.         positive\n",
              "1                          Excellent value for money         positive\n",
              "2  Parking too small. No free wifi in rooms. No c...         negative\n",
              "3  Comfortable rooms, outstanding breakfast, nice...         positive\n",
              "4                 Quiet location right on the beach.         positive"
            ]
          },
          "metadata": {
            "tags": []
          },
          "execution_count": 13
        }
      ]
    },
    {
      "cell_type": "code",
      "metadata": {
        "colab": {
          "base_uri": "https://localhost:8080/",
          "height": 354
        },
        "id": "cGidxhLEEfQ1",
        "outputId": "abff8c00-3e07-4a84-beb5-ba0f2f30f1ee"
      },
      "source": [
        "# Check the distribution \r\n",
        "\r\n",
        "sns.countplot(df[\"OverallSentiment\"])"
      ],
      "execution_count": 14,
      "outputs": [
        {
          "output_type": "stream",
          "text": [
            "/usr/local/lib/python3.6/dist-packages/seaborn/_decorators.py:43: FutureWarning: Pass the following variable as a keyword arg: x. From version 0.12, the only valid positional argument will be `data`, and passing other arguments without an explicit keyword will result in an error or misinterpretation.\n",
            "  FutureWarning\n"
          ],
          "name": "stderr"
        },
        {
          "output_type": "execute_result",
          "data": {
            "text/plain": [
              "<matplotlib.axes._subplots.AxesSubplot at 0x7fe59f368198>"
            ]
          },
          "metadata": {
            "tags": []
          },
          "execution_count": 14
        },
        {
          "output_type": "display_data",
          "data": {
            "image/png": "[encoded data removed]",
            "text/plain": [
              "<Figure size 432x288 with 1 Axes>"
            ]
          },
          "metadata": {
            "tags": [],
            "needs_background": "light"
          }
        }
      ]
    },
    {
      "cell_type": "markdown",
      "metadata": {
        "id": "IMMaIMm3Ef0L"
      },
      "source": [
        "## NLP\r\n"
      ]
    },
    {
      "cell_type": "code",
      "metadata": {
        "id": "is9iqH9Zzj8A"
      },
      "source": [
        "# import English model\r\n",
        "from spacy.lang.en import English\r\n",
        "# stop word list\r\n",
        "from spacy.lang.en.stop_words import STOP_WORDS\r\n",
        "# import string\r\n",
        "import string"
      ],
      "execution_count": 15,
      "outputs": []
    },
    {
      "cell_type": "code",
      "metadata": {
        "id": "lMRHVJAtzkPz"
      },
      "source": [
        "# Create a list of punctuation marks we want to delete\r\n",
        "punctuation = string.punctuation"
      ],
      "execution_count": 16,
      "outputs": []
    },
    {
      "cell_type": "code",
      "metadata": {
        "id": "YOQARHRpzkUN"
      },
      "source": [
        "# Set up our nlp model\r\n",
        "nlp = spacy.load('en')"
      ],
      "execution_count": 17,
      "outputs": []
    },
    {
      "cell_type": "code",
      "metadata": {
        "id": "4yrNhF62zkWr"
      },
      "source": [
        "# Create a list of stopwords\r\n",
        "stop_words = STOP_WORDS"
      ],
      "execution_count": 18,
      "outputs": []
    },
    {
      "cell_type": "code",
      "metadata": {
        "id": "xC1hGnfLzkY_"
      },
      "source": [
        "# Parser\r\n",
        "parser = English()"
      ],
      "execution_count": 19,
      "outputs": []
    },
    {
      "cell_type": "code",
      "metadata": {
        "id": "b_258NEozkbS"
      },
      "source": [
        "# Creating a tokenizer function:\r\n",
        "def spacy_tokenizer(sentence):\r\n",
        "  # Creating our token object, which is used to create documents with linguistic annotations.\r\n",
        "  mytokens = parser(sentence)\r\n",
        "  # Lemmatizing each token and converting each token into lowercase\r\n",
        "  mytokens = [ word.lemma_.lower().strip() if word.lemma_ != \"PRON-\" else word.lower_ for word in mytokens ]\r\n",
        "  # Removing stop words\r\n",
        "  mytokens = [word for word in mytokens if word not in stop_words and word not in punctuation]\r\n",
        "  # return preprocessed list of tokens\r\n",
        "  return mytokens"
      ],
      "execution_count": 20,
      "outputs": []
    },
    {
      "cell_type": "code",
      "metadata": {
        "id": "HMdJyM3kzkdX"
      },
      "source": [
        "bow_vector = CountVectorizer(tokenizer = spacy_tokenizer, ngram_range=(1,1))"
      ],
      "execution_count": 21,
      "outputs": []
    },
    {
      "cell_type": "code",
      "metadata": {
        "id": "AJ-Fil1n0Nfb"
      },
      "source": [
        "tfidf_vector = TfidfVectorizer(tokenizer = spacy_tokenizer)"
      ],
      "execution_count": 22,
      "outputs": []
    },
    {
      "cell_type": "markdown",
      "metadata": {
        "id": "LAtwHeZQ0QID"
      },
      "source": [
        "## Train Test Split"
      ]
    },
    {
      "cell_type": "code",
      "metadata": {
        "id": "avW7dyM-0OxM"
      },
      "source": [
        "from sklearn.model_selection import train_test_split"
      ],
      "execution_count": 23,
      "outputs": []
    },
    {
      "cell_type": "code",
      "metadata": {
        "id": "IFZsMDr10Oum"
      },
      "source": [
        "# Generate the data\r\n",
        "X = df['Comments'] # the features we want to analyze\r\n",
        "ylabels = df['OverallSentiment'] # labels or sentiments"
      ],
      "execution_count": 24,
      "outputs": []
    },
    {
      "cell_type": "code",
      "metadata": {
        "id": "iRsQK8xu0OsO"
      },
      "source": [
        "# Please split the data into X_train, X_test, y_train and y_test!\r\n",
        "# 2 minutes until 12:45h\r\n",
        "X_train, X_test, y_train , y_test = train_test_split(X, ylabels, test_size = 0.3)"
      ],
      "execution_count": 25,
      "outputs": []
    },
    {
      "cell_type": "markdown",
      "metadata": {
        "id": "GCXLygza0Opy"
      },
      "source": [
        "## Modeling"
      ]
    },
    {
      "cell_type": "code",
      "metadata": {
        "id": "JBihsfvN0Okx"
      },
      "source": [
        "# Model Init\r\n",
        "lrc = LogisticRegression()\r\n",
        "mnb = MultinomialNB()\r\n",
        "rfc = RandomForestClassifier()"
      ],
      "execution_count": 26,
      "outputs": []
    },
    {
      "cell_type": "code",
      "metadata": {
        "id": "dau-HnUi0Ocs"
      },
      "source": [
        "# Create the pipeline\r\n",
        "lr_pipe = Pipeline([(\"vectorizer\", bow_vector), # bag of words vector\r\n",
        "                 (\"classifier\", lrc)]) # LogReg\r\n",
        "\r\n",
        "mnb_pipe = Pipeline([(\"vectorizer\", bow_vector), # bag of words vector\r\n",
        "                  (\"classifier\", mnb)]) # Naive Bayes\r\n",
        "\r\n",
        "rfc_pipe = Pipeline([(\"vectorizer\", bow_vector), # bag of words vector\r\n",
        "                  (\"classifier\", rfc)]) # Random Forest\r\n"
      ],
      "execution_count": 27,
      "outputs": []
    },
    {
      "cell_type": "code",
      "metadata": {
        "colab": {
          "base_uri": "https://localhost:8080/"
        },
        "id": "X7RxNVg10sTS",
        "outputId": "7ab04071-b1a4-4ec2-cab5-f2b53b9768d0"
      },
      "source": [
        "lr_pipe.fit(X_train, y_train)\r\n",
        "mnb_pipe.fit(X_train, y_train)\r\n",
        "rfc_pipe.fit(X_train, y_train)"
      ],
      "execution_count": 28,
      "outputs": [
        {
          "output_type": "execute_result",
          "data": {
            "text/plain": [
              "Pipeline(memory=None,\n",
              "         steps=[('vectorizer',\n",
              "                 CountVectorizer(analyzer='word', binary=False,\n",
              "                                 decode_error='strict',\n",
              "                                 dtype=<class 'numpy.int64'>, encoding='utf-8',\n",
              "                                 input='content', lowercase=True, max_df=1.0,\n",
              "                                 max_features=None, min_df=1,\n",
              "                                 ngram_range=(1, 1), preprocessor=None,\n",
              "                                 stop_words=None, strip_accents=None,\n",
              "                                 token_pattern='(?u)\\\\b\\\\w\\\\w+\\\\b',\n",
              "                                 tokenizer=<function spac...\n",
              "                 RandomForestClassifier(bootstrap=True, ccp_alpha=0.0,\n",
              "                                        class_weight=None, criterion='gini',\n",
              "                                        max_depth=None, max_features='auto',\n",
              "                                        max_leaf_nodes=None, max_samples=None,\n",
              "                                        min_impurity_decrease=0.0,\n",
              "                                        min_impurity_split=None,\n",
              "                                        min_samples_leaf=1, min_samples_split=2,\n",
              "                                        min_weight_fraction_leaf=0.0,\n",
              "                                        n_estimators=100, n_jobs=None,\n",
              "                                        oob_score=False, random_state=None,\n",
              "                                        verbose=0, warm_start=False))],\n",
              "         verbose=False)"
            ]
          },
          "metadata": {
            "tags": []
          },
          "execution_count": 28
        }
      ]
    },
    {
      "cell_type": "code",
      "metadata": {
        "id": "HxmoFRqk1PNL"
      },
      "source": [
        "lr_pred = lr_pipe.predict(X_test)\r\n",
        "mnb_pred = mnb_pipe.predict(X_test)\r\n",
        "rfc_pred = rfc_pipe.predict(X_test)"
      ],
      "execution_count": 29,
      "outputs": []
    },
    {
      "cell_type": "markdown",
      "metadata": {
        "id": "43j6Ocv3FyOz"
      },
      "source": [
        "### Model Evaluation"
      ]
    },
    {
      "cell_type": "code",
      "metadata": {
        "colab": {
          "base_uri": "https://localhost:8080/"
        },
        "id": "y-9PAE3d1PY8",
        "outputId": "859f3546-cf1d-4a47-88aa-9c2b78536905"
      },
      "source": [
        "print(\"linear regression:  \", metrics.accuracy_score(y_test, lr_pred))\r\n",
        "print('Mult Naive Bayes: ',metrics.accuracy_score(y_test, mnb_pred))\r\n",
        "print('Random Forest Regressor: ', metrics.accuracy_score(y_test, rfc_pred))"
      ],
      "execution_count": 32,
      "outputs": [
        {
          "output_type": "stream",
          "text": [
            "linear regression:   0.875968992248062\n",
            "Mult Naive Bayes:  0.8527131782945736\n",
            "Random Forest Regressor:  0.8527131782945736\n"
          ],
          "name": "stdout"
        }
      ]
    },
    {
      "cell_type": "code",
      "metadata": {
        "colab": {
          "base_uri": "https://localhost:8080/"
        },
        "id": "o6st2-JX1PdS",
        "outputId": "039727b2-012b-4a05-82f4-61e4a3c18f3d"
      },
      "source": [
        "print(metrics.confusion_matrix(y_test,lr_pred))"
      ],
      "execution_count": 33,
      "outputs": [
        {
          "output_type": "stream",
          "text": [
            "[[ 86  17]\n",
            " [ 15 140]]\n"
          ],
          "name": "stdout"
        }
      ]
    },
    {
      "cell_type": "code",
      "metadata": {
        "colab": {
          "base_uri": "https://localhost:8080/"
        },
        "id": "oVi27Xy41Pnp",
        "outputId": "55c3ff2b-1ec8-4ff0-e308-50867689322b"
      },
      "source": [
        "print(classification_report(y_test, lr_pred))"
      ],
      "execution_count": 34,
      "outputs": [
        {
          "output_type": "stream",
          "text": [
            "              precision    recall  f1-score   support\n",
            "\n",
            "    negative       0.85      0.83      0.84       103\n",
            "    positive       0.89      0.90      0.90       155\n",
            "\n",
            "    accuracy                           0.88       258\n",
            "   macro avg       0.87      0.87      0.87       258\n",
            "weighted avg       0.88      0.88      0.88       258\n",
            "\n"
          ],
          "name": "stdout"
        }
      ]
    },
    {
      "cell_type": "markdown",
      "metadata": {
        "id": "W9CpntI1Frjf"
      },
      "source": [
        "### Gridsearch for Best Hyperparameters"
      ]
    },
    {
      "cell_type": "code",
      "metadata": {
        "id": "rpc-Q5-Z2-PZ"
      },
      "source": [
        "param_grid = {'classifier__alpha': [0.001, 0.01, .1], 'classifier__fit_prior':[True, False]}\r\n",
        "search = GridSearchCV(mnb_pipe, param_grid, cv=5)"
      ],
      "execution_count": 35,
      "outputs": []
    },
    {
      "cell_type": "code",
      "metadata": {
        "colab": {
          "base_uri": "https://localhost:8080/"
        },
        "id": "p3H9mrgR3V1C",
        "outputId": "1e523baf-9e09-43b4-ecf7-6d3202fab5d0"
      },
      "source": [
        "search.fit(X_train,y_train)"
      ],
      "execution_count": 36,
      "outputs": [
        {
          "output_type": "execute_result",
          "data": {
            "text/plain": [
              "GridSearchCV(cv=5, error_score=nan,\n",
              "             estimator=Pipeline(memory=None,\n",
              "                                steps=[('vectorizer',\n",
              "                                        CountVectorizer(analyzer='word',\n",
              "                                                        binary=False,\n",
              "                                                        decode_error='strict',\n",
              "                                                        dtype=<class 'numpy.int64'>,\n",
              "                                                        encoding='utf-8',\n",
              "                                                        input='content',\n",
              "                                                        lowercase=True,\n",
              "                                                        max_df=1.0,\n",
              "                                                        max_features=None,\n",
              "                                                        min_df=1,\n",
              "                                                        ngram_range=(1, 1),\n",
              "                                                        preprocessor=None,\n",
              "                                                        stop_words=None,\n",
              "                                                        strip_accents=None,\n",
              "                                                        token_pattern...\n",
              "                                                        tokenizer=<function spacy_tokenizer at 0x7fe59e4dca60>,\n",
              "                                                        vocabulary=None)),\n",
              "                                       ('classifier',\n",
              "                                        MultinomialNB(alpha=1.0,\n",
              "                                                      class_prior=None,\n",
              "                                                      fit_prior=True))],\n",
              "                                verbose=False),\n",
              "             iid='deprecated', n_jobs=None,\n",
              "             param_grid={'classifier__alpha': [0.001, 0.01, 0.1],\n",
              "                         'classifier__fit_prior': [True, False]},\n",
              "             pre_dispatch='2*n_jobs', refit=True, return_train_score=False,\n",
              "             scoring=None, verbose=0)"
            ]
          },
          "metadata": {
            "tags": []
          },
          "execution_count": 36
        }
      ]
    },
    {
      "cell_type": "code",
      "metadata": {
        "id": "3V1WZz2m5uYX"
      },
      "source": [
        "RCV_pred = search.predict(X_test)"
      ],
      "execution_count": 37,
      "outputs": []
    },
    {
      "cell_type": "code",
      "metadata": {
        "colab": {
          "base_uri": "https://localhost:8080/"
        },
        "id": "zgQieHCd51Nn",
        "outputId": "42a7a649-3da1-4506-823b-a552c7a979f2"
      },
      "source": [
        "print(metrics.accuracy_score(y_test, RCV_pred))"
      ],
      "execution_count": 38,
      "outputs": [
        {
          "output_type": "stream",
          "text": [
            "0.875968992248062\n"
          ],
          "name": "stdout"
        }
      ]
    },
    {
      "cell_type": "code",
      "metadata": {
        "colab": {
          "base_uri": "https://localhost:8080/"
        },
        "id": "lZEjr6Wp72an",
        "outputId": "90c40693-6da8-42f1-b3c4-4555966a0447"
      },
      "source": [
        "print(metrics.classification_report(y_test,RCV_pred))"
      ],
      "execution_count": 39,
      "outputs": [
        {
          "output_type": "stream",
          "text": [
            "              precision    recall  f1-score   support\n",
            "\n",
            "    negative       0.87      0.82      0.84       103\n",
            "    positive       0.88      0.92      0.90       155\n",
            "\n",
            "    accuracy                           0.88       258\n",
            "   macro avg       0.87      0.87      0.87       258\n",
            "weighted avg       0.88      0.88      0.88       258\n",
            "\n"
          ],
          "name": "stdout"
        }
      ]
    },
    {
      "cell_type": "code",
      "metadata": {
        "colab": {
          "base_uri": "https://localhost:8080/"
        },
        "id": "7d8RBD1p6aCX",
        "outputId": "2bfbe413-7ec9-4112-fdf1-aa441c9d8bee"
      },
      "source": [
        "search.best_estimator_"
      ],
      "execution_count": 40,
      "outputs": [
        {
          "output_type": "execute_result",
          "data": {
            "text/plain": [
              "Pipeline(memory=None,\n",
              "         steps=[('vectorizer',\n",
              "                 CountVectorizer(analyzer='word', binary=False,\n",
              "                                 decode_error='strict',\n",
              "                                 dtype=<class 'numpy.int64'>, encoding='utf-8',\n",
              "                                 input='content', lowercase=True, max_df=1.0,\n",
              "                                 max_features=None, min_df=1,\n",
              "                                 ngram_range=(1, 1), preprocessor=None,\n",
              "                                 stop_words=None, strip_accents=None,\n",
              "                                 token_pattern='(?u)\\\\b\\\\w\\\\w+\\\\b',\n",
              "                                 tokenizer=<function spacy_tokenizer at 0x7fe59e4dca60>,\n",
              "                                 vocabulary=None)),\n",
              "                ('classifier',\n",
              "                 MultinomialNB(alpha=0.1, class_prior=None, fit_prior=False))],\n",
              "         verbose=False)"
            ]
          },
          "metadata": {
            "tags": []
          },
          "execution_count": 40
        }
      ]
    }
  ]
}