{
  "nbformat": 4,
  "nbformat_minor": 0,
  "metadata": {
    "colab": {
      "name": "Evaluated Exercise II B s0572034.ipynb",
      "provenance": [],
      "collapsed_sections": [],
      "toc_visible": false,
      "authorship_tag": "ABX9TyN210WKAr49k7H9BhG27AZN",
      "include_colab_link": false
    },
    "kernelspec": {
      "name": "python3",
      "display_name": "Python 3"
    }
  },
  "cells": [
    {
      "cell_type": "markdown",
      "metadata": {
        "id": "view-in-github",
        "colab_type": "text"
      },
      "source": [
        "<a href=\"https://colab.research.google.com/github/jandroi/3_2_BD/blob/main/Evaluated_Exercise_II_B_s0572034.ipynb\" target=\"_parent\"><img src=\"https://colab.research.google.com/assets/colab-badge.svg\" alt=\"Open In Colab\"/></a>"
      ]
    },
    {
      "cell_type": "markdown",
      "metadata": {
        "id": "yUWQSIwYKUv-"
      },
      "source": [
        "# Evaluated Exercise Part 2 – SciKit-Stack and Deep Learning**\r\n",
        "\r\n",
        "## Task 4: Deep Learning – Run a Deep Learning Model: Build a Loan Amount Calculator using Multiple Linear Regression [10%]\r\n",
        "\r\n",
        "Use the diamonds dataset from Task 3 to perform a Deep Learning (Regression) model. Target variable is again price.\r\n",
        "\r\n",
        "Please describe all steps. Parameters to evaluate are MAE and MAPE. Please report results for test and training dataset! Packages: Tensorflow and Keras\r\n",
        "\r\n",
        "-----"
      ]
    },
    {
      "cell_type": "markdown",
      "metadata": {
        "id": "5FYM4Mo9KUeF"
      },
      "source": [
        ""
      ]
    },
    {
      "cell_type": "code",
      "metadata": {
        "id": "AqY9ENqGJu0P"
      },
      "source": [
        "import pandas as pd\r\n",
        "import numpy as np\r\n",
        "import seaborn as sns\r\n",
        "# Data Preparation \r\n",
        "from keras.utils import to_categorical\r\n",
        "# StandardScaler\r\n",
        "from sklearn.preprocessing import StandardScaler\r\n",
        "### Train / Test Split\r\n",
        "from sklearn.model_selection import train_test_split\r\n",
        "\r\n",
        "## \r\n",
        "from keras.layers import Dense\r\n",
        "from keras.models import Sequential\r\n"
      ],
      "execution_count": 2,
      "outputs": []
    },
    {
      "cell_type": "code",
      "metadata": {
        "id": "vdiSjk0mKTv-"
      },
      "source": [
        "# Data import\r\n",
        "\r\n",
        "url=\"https://raw.githubusercontent.com/tidyverse/ggplot2/master/data-raw/diamonds.csv\"\r\n",
        "df =pd.read_csv(url)"
      ],
      "execution_count": 3,
      "outputs": []
    },
    {
      "cell_type": "markdown",
      "metadata": {
        "id": "uEbqLh33Kp8e"
      },
      "source": [
        "## Data Understanding\r\n",
        "\r\n",
        "*Same as Exercise II A*\r\n"
      ]
    },
    {
      "cell_type": "markdown",
      "metadata": {
        "id": "rMAXLsCTKTyH"
      },
      "source": [
        "https://colab.research.google.com/drive/1jLPeK0Fdru6QMtOpkd0cbmJ2t5qxeNvu?authuser=3#scrollTo=uEbqLh33Kp8e&line=3&uniqifier=1"
      ]
    },
    {
      "cell_type": "markdown",
      "metadata": {
        "id": "tBSBM0uZKT0R"
      },
      "source": [
        "## Data Preparation \r\n",
        "  (please change the order of the tasks as needed)\r\n",
        "\r\n",
        "- Missing Values\r\n",
        "- Transformation of all categorical variables\r\n",
        "- Split into Test and Training Dataset\r\n",
        "- Standardization\r\n",
        "- …"
      ]
    },
    {
      "cell_type": "markdown",
      "metadata": {
        "id": "uZiNkW22k8LB"
      },
      "source": [
        "### L"
      ]
    },
    {
      "cell_type": "code",
      "metadata": {
        "id": "euCqhMoxk5sm"
      },
      "source": [
        "# First we remove Depth and Table which have no direct correlation\r\n",
        "\r\n",
        "df = df.drop(['depth','table'], axis = 1)\r\n",
        "df.head()\r\n",
        "\r\n",
        "# There are some missing values for the dimensinos x y z\r\n",
        "# We are dropping these observations since there can be a dimension of 0 but not 3 of them\r\n",
        "\r\n",
        "x = list(df[(df['x']==0) & (df['y']==0) & (df['z']==0)].index)\r\n",
        "x\r\n",
        "\r\n",
        "# Exclude them from dataframe\r\n",
        "df = df[~df.index.isin(x)]"
      ],
      "execution_count": 4,
      "outputs": []
    },
    {
      "cell_type": "code",
      "metadata": {
        "id": "HTXyG0yBKT2l",
        "colab": {
          "base_uri": "https://localhost:8080/",
          "height": 226
        },
        "outputId": "2bffd6c7-8cd2-4452-d112-950c4d196193"
      },
      "source": [
        "\r\n",
        "\r\n",
        "# Transforming categorical variables: \r\n",
        "cut_df = pd.get_dummies(df['cut'], prefix='cut')\r\n",
        "color_df = pd.get_dummies(df['color'], prefix='color')\r\n",
        "clarity_df = cut_df = pd.get_dummies(df['clarity'], prefix='clarity')\r\n",
        "\r\n",
        "df_metric = df.drop(['cut', 'color','clarity'], axis=1) \r\n",
        "\r\n",
        "df_metric = pd.concat([df_metric, cut_df, color_df, clarity_df], axis =1)\r\n",
        "df_metric.head()\r\n",
        "\r\n"
      ],
      "execution_count": 5,
      "outputs": [
        {
          "output_type": "execute_result",
          "data": {
            "text/html": [
              "<div>\n",
              "<style scoped>\n",
              "    .dataframe tbody tr th:only-of-type {\n",
              "        vertical-align: middle;\n",
              "    }\n",
              "\n",
              "    .dataframe tbody tr th {\n",
              "        vertical-align: top;\n",
              "    }\n",
              "\n",
              "    .dataframe thead th {\n",
              "        text-align: right;\n",
              "    }\n",
              "</style>\n",
              "<table border=\"1\" class=\"dataframe\">\n",
              "  <thead>\n",
              "    <tr style=\"text-align: right;\">\n",
              "      <th></th>\n",
              "      <th>carat</th>\n",
              "      <th>price</th>\n",
              "      <th>x</th>\n",
              "      <th>y</th>\n",
              "      <th>z</th>\n",
              "      <th>clarity_I1</th>\n",
              "      <th>clarity_IF</th>\n",
              "      <th>clarity_SI1</th>\n",
              "      <th>clarity_SI2</th>\n",
              "      <th>clarity_VS1</th>\n",
              "      <th>clarity_VS2</th>\n",
              "      <th>clarity_VVS1</th>\n",
              "      <th>clarity_VVS2</th>\n",
              "      <th>color_D</th>\n",
              "      <th>color_E</th>\n",
              "      <th>color_F</th>\n",
              "      <th>color_G</th>\n",
              "      <th>color_H</th>\n",
              "      <th>color_I</th>\n",
              "      <th>color_J</th>\n",
              "      <th>clarity_I1</th>\n",
              "      <th>clarity_IF</th>\n",
              "      <th>clarity_SI1</th>\n",
              "      <th>clarity_SI2</th>\n",
              "      <th>clarity_VS1</th>\n",
              "      <th>clarity_VS2</th>\n",
              "      <th>clarity_VVS1</th>\n",
              "      <th>clarity_VVS2</th>\n",
              "    </tr>\n",
              "  </thead>\n",
              "  <tbody>\n",
              "    <tr>\n",
              "      <th>0</th>\n",
              "      <td>0.23</td>\n",
              "      <td>326</td>\n",
              "      <td>3.95</td>\n",
              "      <td>3.98</td>\n",
              "      <td>2.43</td>\n",
              "      <td>0</td>\n",
              "      <td>0</td>\n",
              "      <td>0</td>\n",
              "      <td>1</td>\n",
              "      <td>0</td>\n",
              "      <td>0</td>\n",
              "      <td>0</td>\n",
              "      <td>0</td>\n",
              "      <td>0</td>\n",
              "      <td>1</td>\n",
              "      <td>0</td>\n",
              "      <td>0</td>\n",
              "      <td>0</td>\n",
              "      <td>0</td>\n",
              "      <td>0</td>\n",
              "      <td>0</td>\n",
              "      <td>0</td>\n",
              "      <td>0</td>\n",
              "      <td>1</td>\n",
              "      <td>0</td>\n",
              "      <td>0</td>\n",
              "      <td>0</td>\n",
              "      <td>0</td>\n",
              "    </tr>\n",
              "    <tr>\n",
              "      <th>1</th>\n",
              "      <td>0.21</td>\n",
              "      <td>326</td>\n",
              "      <td>3.89</td>\n",
              "      <td>3.84</td>\n",
              "      <td>2.31</td>\n",
              "      <td>0</td>\n",
              "      <td>0</td>\n",
              "      <td>1</td>\n",
              "      <td>0</td>\n",
              "      <td>0</td>\n",
              "      <td>0</td>\n",
              "      <td>0</td>\n",
              "      <td>0</td>\n",
              "      <td>0</td>\n",
              "      <td>1</td>\n",
              "      <td>0</td>\n",
              "      <td>0</td>\n",
              "      <td>0</td>\n",
              "      <td>0</td>\n",
              "      <td>0</td>\n",
              "      <td>0</td>\n",
              "      <td>0</td>\n",
              "      <td>1</td>\n",
              "      <td>0</td>\n",
              "      <td>0</td>\n",
              "      <td>0</td>\n",
              "      <td>0</td>\n",
              "      <td>0</td>\n",
              "    </tr>\n",
              "    <tr>\n",
              "      <th>2</th>\n",
              "      <td>0.23</td>\n",
              "      <td>327</td>\n",
              "      <td>4.05</td>\n",
              "      <td>4.07</td>\n",
              "      <td>2.31</td>\n",
              "      <td>0</td>\n",
              "      <td>0</td>\n",
              "      <td>0</td>\n",
              "      <td>0</td>\n",
              "      <td>1</td>\n",
              "      <td>0</td>\n",
              "      <td>0</td>\n",
              "      <td>0</td>\n",
              "      <td>0</td>\n",
              "      <td>1</td>\n",
              "      <td>0</td>\n",
              "      <td>0</td>\n",
              "      <td>0</td>\n",
              "      <td>0</td>\n",
              "      <td>0</td>\n",
              "      <td>0</td>\n",
              "      <td>0</td>\n",
              "      <td>0</td>\n",
              "      <td>0</td>\n",
              "      <td>1</td>\n",
              "      <td>0</td>\n",
              "      <td>0</td>\n",
              "      <td>0</td>\n",
              "    </tr>\n",
              "    <tr>\n",
              "      <th>3</th>\n",
              "      <td>0.29</td>\n",
              "      <td>334</td>\n",
              "      <td>4.20</td>\n",
              "      <td>4.23</td>\n",
              "      <td>2.63</td>\n",
              "      <td>0</td>\n",
              "      <td>0</td>\n",
              "      <td>0</td>\n",
              "      <td>0</td>\n",
              "      <td>0</td>\n",
              "      <td>1</td>\n",
              "      <td>0</td>\n",
              "      <td>0</td>\n",
              "      <td>0</td>\n",
              "      <td>0</td>\n",
              "      <td>0</td>\n",
              "      <td>0</td>\n",
              "      <td>0</td>\n",
              "      <td>1</td>\n",
              "      <td>0</td>\n",
              "      <td>0</td>\n",
              "      <td>0</td>\n",
              "      <td>0</td>\n",
              "      <td>0</td>\n",
              "      <td>0</td>\n",
              "      <td>1</td>\n",
              "      <td>0</td>\n",
              "      <td>0</td>\n",
              "    </tr>\n",
              "    <tr>\n",
              "      <th>4</th>\n",
              "      <td>0.31</td>\n",
              "      <td>335</td>\n",
              "      <td>4.34</td>\n",
              "      <td>4.35</td>\n",
              "      <td>2.75</td>\n",
              "      <td>0</td>\n",
              "      <td>0</td>\n",
              "      <td>0</td>\n",
              "      <td>1</td>\n",
              "      <td>0</td>\n",
              "      <td>0</td>\n",
              "      <td>0</td>\n",
              "      <td>0</td>\n",
              "      <td>0</td>\n",
              "      <td>0</td>\n",
              "      <td>0</td>\n",
              "      <td>0</td>\n",
              "      <td>0</td>\n",
              "      <td>0</td>\n",
              "      <td>1</td>\n",
              "      <td>0</td>\n",
              "      <td>0</td>\n",
              "      <td>0</td>\n",
              "      <td>1</td>\n",
              "      <td>0</td>\n",
              "      <td>0</td>\n",
              "      <td>0</td>\n",
              "      <td>0</td>\n",
              "    </tr>\n",
              "  </tbody>\n",
              "</table>\n",
              "</div>"
            ],
            "text/plain": [
              "   carat  price     x  ...  clarity_VS2  clarity_VVS1  clarity_VVS2\n",
              "0   0.23    326  3.95  ...            0             0             0\n",
              "1   0.21    326  3.89  ...            0             0             0\n",
              "2   0.23    327  4.05  ...            0             0             0\n",
              "3   0.29    334  4.20  ...            1             0             0\n",
              "4   0.31    335  4.34  ...            0             0             0\n",
              "\n",
              "[5 rows x 28 columns]"
            ]
          },
          "metadata": {
            "tags": []
          },
          "execution_count": 5
        }
      ]
    },
    {
      "cell_type": "code",
      "metadata": {
        "id": "2AWqxHtqlF8Q"
      },
      "source": [
        "# Train test split\r\n",
        "#X = df.drop('price', axis=1)\r\n",
        "X= df_metric.drop(['price'], axis=1).values\r\n",
        "y = df_metric['price'].values"
      ],
      "execution_count": 6,
      "outputs": []
    },
    {
      "cell_type": "code",
      "metadata": {
        "id": "t6oYGC0qleC9"
      },
      "source": [
        "X_train, X_test, y_train, y_test = train_test_split(X,y, train_size=.7, random_state=42)"
      ],
      "execution_count": 7,
      "outputs": []
    },
    {
      "cell_type": "code",
      "metadata": {
        "id": "7rzJinQKlezG"
      },
      "source": [
        "# Scaling Variables\r\n",
        "sc = StandardScaler()\r\n",
        "sc.fit(X_train,y_train)\r\n",
        "\r\n",
        "X_train_sc = sc.transform(X_train)\r\n",
        "X_test_sc = sc.transform(X_test)\r\n"
      ],
      "execution_count": 8,
      "outputs": []
    },
    {
      "cell_type": "markdown",
      "metadata": {
        "id": "Ps8lwutTK_tD"
      },
      "source": [
        "## Modeling\r\n",
        "- Run a simple Multiple Linear Regression Model using Tensorflow/Keras!\r\n",
        "- Run a Multiple Linear Regression Deep Learning Model (experiment with a few layers) using Tensorflow/Keras!"
      ]
    },
    {
      "cell_type": "markdown",
      "metadata": {
        "id": "KCbKJrvjwvjA"
      },
      "source": [
        "### Simple Multiple Linear Regression"
      ]
    },
    {
      "cell_type": "code",
      "metadata": {
        "id": "lj2F4i4_KT48"
      },
      "source": [
        "n_cols = X_train.shape[1]"
      ],
      "execution_count": 9,
      "outputs": []
    },
    {
      "cell_type": "code",
      "metadata": {
        "id": "p5auvcG7KT6x"
      },
      "source": [
        "model = Sequential()\r\n",
        "\r\n",
        "model.add(Dense(100, activation = 'relu', input_shape = (n_cols,)))\r\n",
        "\r\n",
        "# One output layer\r\n",
        "model.add(Dense(1, activation = 'relu'))"
      ],
      "execution_count": 10,
      "outputs": []
    },
    {
      "cell_type": "code",
      "metadata": {
        "id": "GdzsYI_apY9X"
      },
      "source": [
        "model.compile(optimizer=\"rmsprop\", loss=\"mean_squared_error\", metrics=['mae','mape'])"
      ],
      "execution_count": 11,
      "outputs": []
    },
    {
      "cell_type": "code",
      "metadata": {
        "id": "eZyxaP6fpqtA",
        "colab": {
          "base_uri": "https://localhost:8080/"
        },
        "outputId": "b53e7377-3e4c-4924-bc07-388bbd9c09db"
      },
      "source": [
        "model.fit(X_train_sc, y_train,epochs = 20, batch_size = 128)"
      ],
      "execution_count": 12,
      "outputs": [
        {
          "output_type": "stream",
          "text": [
            "Epoch 1/20\n",
            "295/295 [==============================] - 1s 1ms/step - loss: 31490104.9662 - mae: 3925.6165 - mape: 99.7647\n",
            "Epoch 2/20\n",
            "295/295 [==============================] - 0s 1ms/step - loss: 31301513.3919 - mae: 3924.1072 - mape: 98.5319\n",
            "Epoch 3/20\n",
            "295/295 [==============================] - 0s 1ms/step - loss: 29675408.6149 - mae: 3813.8350 - mape: 96.3172\n",
            "Epoch 4/20\n",
            "295/295 [==============================] - 0s 1ms/step - loss: 27543640.2162 - mae: 3655.6361 - mape: 92.8974\n",
            "Epoch 5/20\n",
            "295/295 [==============================] - 0s 1ms/step - loss: 25022036.0608 - mae: 3458.3136 - mape: 88.4401\n",
            "Epoch 6/20\n",
            "295/295 [==============================] - 0s 1ms/step - loss: 22574478.0608 - mae: 3251.4104 - mape: 82.8586\n",
            "Epoch 7/20\n",
            "295/295 [==============================] - 0s 1ms/step - loss: 19440069.7500 - mae: 2973.4166 - mape: 76.7833\n",
            "Epoch 8/20\n",
            "295/295 [==============================] - 0s 1ms/step - loss: 16301687.8446 - mae: 2664.6207 - mape: 70.0074\n",
            "Epoch 9/20\n",
            "295/295 [==============================] - 0s 1ms/step - loss: 13152619.5304 - mae: 2327.5635 - mape: 64.1560\n",
            "Epoch 10/20\n",
            "295/295 [==============================] - 0s 1ms/step - loss: 10478142.1858 - mae: 2032.1832 - mape: 58.6039\n",
            "Epoch 11/20\n",
            "295/295 [==============================] - 0s 1ms/step - loss: 7995382.5743 - mae: 1725.1346 - mape: 53.7721\n",
            "Epoch 12/20\n",
            "295/295 [==============================] - 0s 1ms/step - loss: 6147135.7889 - mae: 1485.3046 - mape: 49.0088\n",
            "Epoch 13/20\n",
            "295/295 [==============================] - 0s 1ms/step - loss: 4889614.3328 - mae: 1311.0085 - mape: 46.2350\n",
            "Epoch 14/20\n",
            "295/295 [==============================] - 0s 1ms/step - loss: 4472502.1943 - mae: 1207.5506 - mape: 44.0034\n",
            "Epoch 15/20\n",
            "295/295 [==============================] - 0s 2ms/step - loss: 3702119.2736 - mae: 1101.7964 - mape: 41.7691\n",
            "Epoch 16/20\n",
            "295/295 [==============================] - 0s 1ms/step - loss: 3099879.6571 - mae: 1008.7878 - mape: 39.7189\n",
            "Epoch 17/20\n",
            "295/295 [==============================] - 0s 1ms/step - loss: 2825832.3226 - mae: 943.9356 - mape: 38.3038\n",
            "Epoch 18/20\n",
            "295/295 [==============================] - 0s 1ms/step - loss: 3008392.6681 - mae: 895.5982 - mape: 37.1892\n",
            "Epoch 19/20\n",
            "295/295 [==============================] - 0s 1ms/step - loss: 2202929.1824 - mae: 842.6961 - mape: 36.1260\n",
            "Epoch 20/20\n",
            "295/295 [==============================] - 0s 1ms/step - loss: 2053819.9443 - mae: 805.1340 - mape: 34.7423\n"
          ],
          "name": "stdout"
        },
        {
          "output_type": "execute_result",
          "data": {
            "text/plain": [
              "<tensorflow.python.keras.callbacks.History at 0x7f783992d630>"
            ]
          },
          "metadata": {
            "tags": []
          },
          "execution_count": 12
        }
      ]
    },
    {
      "cell_type": "code",
      "metadata": {
        "id": "n7bcatVUpvm_"
      },
      "source": [
        "y_pred = model.predict(X_test_sc)"
      ],
      "execution_count": 13,
      "outputs": []
    },
    {
      "cell_type": "code",
      "metadata": {
        "id": "dpE_ZguEp-n3",
        "colab": {
          "base_uri": "https://localhost:8080/"
        },
        "outputId": "12191061-4250-4ed4-9aac-85426f1f69bc"
      },
      "source": [
        "score = model.evaluate(X_test_sc,y_test, batch_size=32)"
      ],
      "execution_count": 14,
      "outputs": [
        {
          "output_type": "stream",
          "text": [
            "506/506 [==============================] - 1s 1ms/step - loss: 1949362.3750 - mae: 767.7689 - mape: 34.1013\n"
          ],
          "name": "stdout"
        }
      ]
    },
    {
      "cell_type": "markdown",
      "metadata": {
        "id": "kE_iMu9Awg7P"
      },
      "source": [
        "### Multiple Regression\r\n"
      ]
    },
    {
      "cell_type": "code",
      "metadata": {
        "id": "Prvk2NrrqBU_"
      },
      "source": [
        "model = Sequential()\r\n",
        "\r\n",
        "model.add(Dense(500, activation = 'relu', input_shape = (n_cols,)))\r\n",
        "model.add(Dense(250, activation = 'relu'))\r\n",
        "model.add(Dense(100, activation = 'relu'))\r\n",
        "model.add(Dense(50, activation = 'relu'))\r\n",
        "\r\n",
        "# One output layer\r\n",
        "model.add(Dense(1, activation = 'relu'))"
      ],
      "execution_count": 15,
      "outputs": []
    },
    {
      "cell_type": "code",
      "metadata": {
        "colab": {
          "base_uri": "https://localhost:8080/"
        },
        "id": "09n4fy0GwWIy",
        "outputId": "e3bab522-6e9d-4a87-f65c-8ac1deb8def0"
      },
      "source": [
        "model.compile(optimizer=\"rmsprop\", loss=\"mean_squared_error\", metrics=['mae','mape'])\r\n",
        "model.fit(X_train_sc, y_train,epochs = 20, batch_size = 128)"
      ],
      "execution_count": 16,
      "outputs": [
        {
          "output_type": "stream",
          "text": [
            "Epoch 1/20\n",
            "295/295 [==============================] - 3s 7ms/step - loss: 10908462.9772 - mae: 1782.1452 - mape: 50.2768\n",
            "Epoch 2/20\n",
            "295/295 [==============================] - 2s 7ms/step - loss: 1313323.2941 - mae: 422.2266 - mape: 11.6057\n",
            "Epoch 3/20\n",
            "295/295 [==============================] - 2s 7ms/step - loss: 583085.8802 - mae: 382.4849 - mape: 10.8194\n",
            "Epoch 4/20\n",
            "295/295 [==============================] - 2s 8ms/step - loss: 910888.1231 - mae: 377.1224 - mape: 10.5668\n",
            "Epoch 5/20\n",
            "295/295 [==============================] - 2s 7ms/step - loss: 960674.1301 - mae: 375.8295 - mape: 10.4703\n",
            "Epoch 6/20\n",
            "295/295 [==============================] - 2s 7ms/step - loss: 529580.9118 - mae: 361.1049 - mape: 10.2057\n",
            "Epoch 7/20\n",
            "295/295 [==============================] - 2s 7ms/step - loss: 481151.3357 - mae: 362.6094 - mape: 10.1240\n",
            "Epoch 8/20\n",
            "295/295 [==============================] - 2s 7ms/step - loss: 669968.1821 - mae: 359.7637 - mape: 9.9457\n",
            "Epoch 9/20\n",
            "295/295 [==============================] - 2s 7ms/step - loss: 636831.6548 - mae: 359.3590 - mape: 10.0034\n",
            "Epoch 10/20\n",
            "295/295 [==============================] - 2s 7ms/step - loss: 438453.9354 - mae: 355.9897 - mape: 9.9558\n",
            "Epoch 11/20\n",
            "295/295 [==============================] - 2s 7ms/step - loss: 492581.8304 - mae: 352.7786 - mape: 10.0043\n",
            "Epoch 12/20\n",
            "295/295 [==============================] - 2s 7ms/step - loss: 457485.9802 - mae: 354.8013 - mape: 9.9109\n",
            "Epoch 13/20\n",
            "295/295 [==============================] - 2s 7ms/step - loss: 538105.9054 - mae: 354.0003 - mape: 9.8400\n",
            "Epoch 14/20\n",
            "295/295 [==============================] - 2s 7ms/step - loss: 475152.2829 - mae: 354.3200 - mape: 9.9031\n",
            "Epoch 15/20\n",
            "295/295 [==============================] - 2s 7ms/step - loss: 516988.4418 - mae: 360.4591 - mape: 10.0133\n",
            "Epoch 16/20\n",
            "295/295 [==============================] - 2s 7ms/step - loss: 510085.9834 - mae: 351.1718 - mape: 9.7990\n",
            "Epoch 17/20\n",
            "295/295 [==============================] - 2s 7ms/step - loss: 465291.1176 - mae: 351.9599 - mape: 9.8146\n",
            "Epoch 18/20\n",
            "295/295 [==============================] - 2s 7ms/step - loss: 470571.3320 - mae: 349.1195 - mape: 9.8715\n",
            "Epoch 19/20\n",
            "295/295 [==============================] - 2s 7ms/step - loss: 428212.8749 - mae: 348.4535 - mape: 9.7928\n",
            "Epoch 20/20\n",
            "295/295 [==============================] - 2s 7ms/step - loss: 423940.9527 - mae: 347.2540 - mape: 9.6661\n"
          ],
          "name": "stdout"
        },
        {
          "output_type": "execute_result",
          "data": {
            "text/plain": [
              "<tensorflow.python.keras.callbacks.History at 0x7f7836a07470>"
            ]
          },
          "metadata": {
            "tags": []
          },
          "execution_count": 16
        }
      ]
    },
    {
      "cell_type": "code",
      "metadata": {
        "id": "A4iAX2zSwZ0g"
      },
      "source": [
        "y_pred = model.predict(X_test_sc)"
      ],
      "execution_count": 17,
      "outputs": []
    },
    {
      "cell_type": "code",
      "metadata": {
        "colab": {
          "base_uri": "https://localhost:8080/"
        },
        "id": "1YixvZubwe1Y",
        "outputId": "7efa51f8-c064-4cf3-b613-54c4a73afda7"
      },
      "source": [
        "score = model.evaluate(X_test_sc,y_test, batch_size=32)"
      ],
      "execution_count": 18,
      "outputs": [
        {
          "output_type": "stream",
          "text": [
            "506/506 [==============================] - 1s 1ms/step - loss: 542628.1250 - mae: 336.3937 - mape: 9.9619\n"
          ],
          "name": "stdout"
        }
      ]
    },
    {
      "cell_type": "code",
      "metadata": {
        "id": "7-HxaS8KxDUn"
      },
      "source": [
        "residuals = y_test.reshape(-1,1) - y_pred\r\n",
        "residuals = residuals.reshape(-1,1)\r\n",
        "y_pred = y_pred.reshape(-1,1)\r\n",
        "scaler = StandardScaler()\r\n",
        "Z_res = scaler.fit_transform(residuals)\r\n",
        "Z_y_pred = scaler.fit_transform(y_pred)"
      ],
      "execution_count": 29,
      "outputs": []
    },
    {
      "cell_type": "code",
      "metadata": {
        "colab": {
          "base_uri": "https://localhost:8080/",
          "height": 283
        },
        "id": "WnYxIDTjcp0f",
        "outputId": "b487a2fe-49a8-498b-d527-72735d3aa2f2"
      },
      "source": [
        "sns.residplot(x=Z_y_pred, y=Z_res, scatter_kws={'alpha':0.1} ,color=\"b\")"
      ],
      "execution_count": 30,
      "outputs": [
        {
          "output_type": "execute_result",
          "data": {
            "text/plain": [
              "<matplotlib.axes._subplots.AxesSubplot at 0x7f782c718b38>"
            ]
          },
          "metadata": {
            "tags": []
          },
          "execution_count": 30
        },
        {
          "output_type": "display_data",
          "data": {
            "image/png": "[encoded data removed]",
            "text/plain": [
              "<Figure size 432x288 with 1 Axes>"
            ]
          },
          "metadata": {
            "tags": [],
            "needs_background": "light"
          }
        }
      ]
    },
    {
      "cell_type": "code",
      "metadata": {
        "id": "c9o2_oZ7csfC"
      },
      "source": [
        ""
      ],
      "execution_count": null,
      "outputs": []
    }
  ]
}
